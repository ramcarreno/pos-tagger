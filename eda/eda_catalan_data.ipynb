{
 "cells": [
  {
   "cell_type": "code",
   "execution_count": 5,
   "metadata": {},
   "outputs": [],
   "source": [
    "import sys\n",
    "\n",
    "sys.path.insert(0, \"..\")"
   ]
  },
  {
   "cell_type": "code",
   "execution_count": 6,
   "metadata": {},
   "outputs": [],
   "source": [
    "from src.scrapper import parse_conllu_file\n",
    "from src.visualization import plot_frequency_of_\n",
    "from analyses.utils import (\n",
    "    get_stats,\n",
    "    build_counts,\n",
    "    build_dataframes,\n",
    "    print_top_tokens_given_tag,\n",
    "    display_side_by_side,\n",
    "    visualize_sample,\n",
    "    get_sentence_idx_given_pair,\n",
    ")\n",
    "import pandas as pd\n",
    "import numpy as np"
   ]
  },
  {
   "cell_type": "code",
   "execution_count": 7,
   "metadata": {},
   "outputs": [],
   "source": [
    "pd.set_option(\"display.max_columns\", 500)"
   ]
  },
  {
   "cell_type": "markdown",
   "metadata": {},
   "source": [
    "# General information"
   ]
  },
  {
   "cell_type": "markdown",
   "metadata": {},
   "source": [
    "## Catalan language\n",
    "\n",
    "Catalan is a language that approximately 9.2 million people speak. It is the official language of Andorra and the Spanish autonomous communities of Catalonia and the Balearic Islands. It is, however, also spoken in Valencia (where it is also referred to as Valencian) and some zones of France, Italy, and the community of Aragon.\n",
    "Catalan is a Western Romance language, which means that comes from Latin, hence it belongs to the Indo-European language family."
   ]
  },
  {
   "cell_type": "markdown",
   "metadata": {},
   "source": [
    "## The data\n",
    "* Sentences from the corpus [Ancora](https://clic.ub.edu/corpus/)\n",
    "* Github repository available [here](https://github.com/UniversalDependencies/UD_Catalan-AnCora/tree/master)\n",
    "* Train dataset available [here](https://github.com/UniversalDependencies/UD_Catalan-AnCora/blob/master/ca_ancora-ud-train.conllu) (13123 sentences)\n",
    "* Test dataset available [here](https://github.com/UniversalDependencies/UD_Catalan-AnCora/blob/master/ca_ancora-ud-test.conllu) (1846 sentences)"
   ]
  },
  {
   "cell_type": "code",
   "execution_count": 8,
   "metadata": {},
   "outputs": [],
   "source": [
    "train_info = parse_conllu_file(\"../datasets/ca_ancora-ud-train.conllu\")\n",
    "test_info = parse_conllu_file(\"../datasets/ca_ancora-ud-test.conllu\")\n",
    "\n",
    "train_df = build_dataframes(train_info)\n",
    "test_df = build_dataframes(test_info)\n",
    "\n",
    "tags = train_df.tags.unique()"
   ]
  },
  {
   "cell_type": "markdown",
   "metadata": {},
   "source": [
    "Let's take a look at the characteristics of the datasets:"
   ]
  },
  {
   "cell_type": "code",
   "execution_count": 9,
   "metadata": {},
   "outputs": [
    {
     "name": "stdout",
     "output_type": "stream",
     "text": [
      "Total sentences: 13123\n",
      "Average sentence length: 34\n",
      "Minimum sentence length: 2\n",
      "Maximum sentence length: 250\n",
      "Percentile 25, length: 21.0\n",
      "Percentile 50, length: 32.0\n",
      "Percentile 75, length: 44.0\n"
     ]
    }
   ],
   "source": [
    "get_stats(train_info)"
   ]
  },
  {
   "cell_type": "markdown",
   "metadata": {},
   "source": [
    "* In the **training dataset** there are more than 13k sentences-\n",
    "* The maximum length is 250 tokens long, 175 times bigger than the smallest, which is 2 tokens long (probably a word and a punctuation sign).\n",
    "    - Both lengths are, however, rare. They could be considered outliers since we can see that the percentiles are around 21-44 (25 and 75 percentile respectively)\n",
    "* The average sentence lenght is 34, much longer than the English average. Reasons for this to happen can be several:\n",
    "    - This could be expected if we consider that the English data is taken from sources where it was the L2 language, hence the sentences might be less elaborate.\n",
    "    - Catalan language has a lot of particles that don't have meaning per se but are constantly (and necessarily) used - e.g. different kind of pronouns, verb tenses that require a composition of verbs, etc. \n",
    "    - After a small processing it has been discovered that the word \"del\" (which means \"from the\") is included in the corpus, followed by the two words that compose it: \"de\" (from) and \"el\" (the), which leads to having three tokens (\"del\" tagged as `-`, \"de\" tagged as `adp` and \"el\" tagged as `det`). This is also one of the factors that increase the length of the sentence. It is also important to take this into account when performing the analysis of the viterbi algorithm.\n",
    "    - One could also simply consider that both datasets contain data from very different topics and different backgrounds, which can affect to the length of a sentence.\n"
   ]
  },
  {
   "cell_type": "code",
   "execution_count": 10,
   "metadata": {},
   "outputs": [
    {
     "data": {
      "text/html": [
       "<div>\n",
       "<style scoped>\n",
       "    .dataframe tbody tr th:only-of-type {\n",
       "        vertical-align: middle;\n",
       "    }\n",
       "\n",
       "    .dataframe tbody tr th {\n",
       "        vertical-align: top;\n",
       "    }\n",
       "\n",
       "    .dataframe thead th {\n",
       "        text-align: right;\n",
       "    }\n",
       "</style>\n",
       "<table border=\"1\" class=\"dataframe\">\n",
       "  <thead>\n",
       "    <tr style=\"text-align: right;\">\n",
       "      <th></th>\n",
       "      <th>0</th>\n",
       "      <th>1</th>\n",
       "    </tr>\n",
       "  </thead>\n",
       "  <tbody>\n",
       "    <tr>\n",
       "      <th>tokens</th>\n",
       "      <td>efe</td>\n",
       "      <td>.</td>\n",
       "    </tr>\n",
       "    <tr>\n",
       "      <th>tags</th>\n",
       "      <td>propn</td>\n",
       "      <td>punct</td>\n",
       "    </tr>\n",
       "  </tbody>\n",
       "</table>\n",
       "</div>"
      ],
      "text/plain": [
       "            0      1\n",
       "tokens    efe      .\n",
       "tags    propn  punct"
      ]
     },
     "execution_count": 10,
     "metadata": {},
     "output_type": "execute_result"
    }
   ],
   "source": [
    "sentence_lengths = [len(sentence) for sentence in train_info]\n",
    "min_idx = np.argmin(sentence_lengths)\n",
    "max_idx = np.argmax(sentence_lengths)\n",
    "\n",
    "visualize_sample(train_info, min_idx)"
   ]
  },
  {
   "cell_type": "markdown",
   "metadata": {},
   "source": [
    "* The shortest sentence is a proper name. There is no clarity why there's this proper name isolated in a sentence, probably a result of preprocessing a text from a webpage. \n",
    "* For the sake of curiosity, it probably refers to [Agència EFE](https://ca.wikipedia.org/wiki/Ag%C3%A8ncia_EFE) a communication agency and news service.\n",
    "* We could remove it from the dataset since it does not add much value, but since the data is expected to be already reviewed and quality-supervised, we will leave it here."
   ]
  },
  {
   "cell_type": "code",
   "execution_count": 11,
   "metadata": {},
   "outputs": [
    {
     "data": {
      "text/html": [
       "<div>\n",
       "<style scoped>\n",
       "    .dataframe tbody tr th:only-of-type {\n",
       "        vertical-align: middle;\n",
       "    }\n",
       "\n",
       "    .dataframe tbody tr th {\n",
       "        vertical-align: top;\n",
       "    }\n",
       "\n",
       "    .dataframe thead th {\n",
       "        text-align: right;\n",
       "    }\n",
       "</style>\n",
       "<table border=\"1\" class=\"dataframe\">\n",
       "  <thead>\n",
       "    <tr style=\"text-align: right;\">\n",
       "      <th></th>\n",
       "      <th>0</th>\n",
       "      <th>1</th>\n",
       "      <th>2</th>\n",
       "      <th>3</th>\n",
       "      <th>4</th>\n",
       "      <th>5</th>\n",
       "      <th>6</th>\n",
       "      <th>7</th>\n",
       "      <th>8</th>\n",
       "      <th>9</th>\n",
       "      <th>10</th>\n",
       "      <th>11</th>\n",
       "      <th>12</th>\n",
       "      <th>13</th>\n",
       "      <th>14</th>\n",
       "      <th>15</th>\n",
       "      <th>16</th>\n",
       "      <th>17</th>\n",
       "      <th>18</th>\n",
       "      <th>19</th>\n",
       "      <th>20</th>\n",
       "      <th>21</th>\n",
       "      <th>22</th>\n",
       "      <th>23</th>\n",
       "      <th>24</th>\n",
       "      <th>25</th>\n",
       "      <th>26</th>\n",
       "      <th>27</th>\n",
       "      <th>28</th>\n",
       "      <th>29</th>\n",
       "      <th>30</th>\n",
       "      <th>31</th>\n",
       "      <th>32</th>\n",
       "      <th>33</th>\n",
       "      <th>34</th>\n",
       "      <th>35</th>\n",
       "      <th>36</th>\n",
       "      <th>37</th>\n",
       "      <th>38</th>\n",
       "      <th>39</th>\n",
       "      <th>40</th>\n",
       "      <th>41</th>\n",
       "      <th>42</th>\n",
       "      <th>43</th>\n",
       "      <th>44</th>\n",
       "      <th>45</th>\n",
       "      <th>46</th>\n",
       "      <th>47</th>\n",
       "      <th>48</th>\n",
       "      <th>49</th>\n",
       "      <th>50</th>\n",
       "      <th>51</th>\n",
       "      <th>52</th>\n",
       "      <th>53</th>\n",
       "      <th>54</th>\n",
       "      <th>55</th>\n",
       "      <th>56</th>\n",
       "      <th>57</th>\n",
       "      <th>58</th>\n",
       "      <th>59</th>\n",
       "      <th>60</th>\n",
       "      <th>61</th>\n",
       "      <th>62</th>\n",
       "      <th>63</th>\n",
       "      <th>64</th>\n",
       "      <th>65</th>\n",
       "      <th>66</th>\n",
       "      <th>67</th>\n",
       "      <th>68</th>\n",
       "      <th>69</th>\n",
       "      <th>70</th>\n",
       "      <th>71</th>\n",
       "      <th>72</th>\n",
       "      <th>73</th>\n",
       "      <th>74</th>\n",
       "      <th>75</th>\n",
       "      <th>76</th>\n",
       "      <th>77</th>\n",
       "      <th>78</th>\n",
       "      <th>79</th>\n",
       "      <th>80</th>\n",
       "      <th>81</th>\n",
       "      <th>82</th>\n",
       "      <th>83</th>\n",
       "      <th>84</th>\n",
       "      <th>85</th>\n",
       "      <th>86</th>\n",
       "      <th>87</th>\n",
       "      <th>88</th>\n",
       "      <th>89</th>\n",
       "      <th>90</th>\n",
       "      <th>91</th>\n",
       "      <th>92</th>\n",
       "      <th>93</th>\n",
       "      <th>94</th>\n",
       "      <th>95</th>\n",
       "      <th>96</th>\n",
       "      <th>97</th>\n",
       "      <th>98</th>\n",
       "      <th>99</th>\n",
       "      <th>100</th>\n",
       "      <th>101</th>\n",
       "      <th>102</th>\n",
       "      <th>103</th>\n",
       "      <th>104</th>\n",
       "      <th>105</th>\n",
       "      <th>106</th>\n",
       "      <th>107</th>\n",
       "      <th>108</th>\n",
       "      <th>109</th>\n",
       "      <th>110</th>\n",
       "      <th>111</th>\n",
       "      <th>112</th>\n",
       "      <th>113</th>\n",
       "      <th>114</th>\n",
       "      <th>115</th>\n",
       "      <th>116</th>\n",
       "      <th>117</th>\n",
       "      <th>118</th>\n",
       "      <th>119</th>\n",
       "      <th>120</th>\n",
       "      <th>121</th>\n",
       "      <th>122</th>\n",
       "      <th>123</th>\n",
       "      <th>124</th>\n",
       "      <th>125</th>\n",
       "      <th>126</th>\n",
       "      <th>127</th>\n",
       "      <th>128</th>\n",
       "      <th>129</th>\n",
       "      <th>130</th>\n",
       "      <th>131</th>\n",
       "      <th>132</th>\n",
       "      <th>133</th>\n",
       "      <th>134</th>\n",
       "      <th>135</th>\n",
       "      <th>136</th>\n",
       "      <th>137</th>\n",
       "      <th>138</th>\n",
       "      <th>139</th>\n",
       "      <th>140</th>\n",
       "      <th>141</th>\n",
       "      <th>142</th>\n",
       "      <th>143</th>\n",
       "      <th>144</th>\n",
       "      <th>145</th>\n",
       "      <th>146</th>\n",
       "      <th>147</th>\n",
       "      <th>148</th>\n",
       "      <th>149</th>\n",
       "      <th>150</th>\n",
       "      <th>151</th>\n",
       "      <th>152</th>\n",
       "      <th>153</th>\n",
       "      <th>154</th>\n",
       "      <th>155</th>\n",
       "      <th>156</th>\n",
       "      <th>157</th>\n",
       "      <th>158</th>\n",
       "      <th>159</th>\n",
       "      <th>160</th>\n",
       "      <th>161</th>\n",
       "      <th>162</th>\n",
       "      <th>163</th>\n",
       "      <th>164</th>\n",
       "      <th>165</th>\n",
       "      <th>166</th>\n",
       "      <th>167</th>\n",
       "      <th>168</th>\n",
       "      <th>169</th>\n",
       "      <th>170</th>\n",
       "      <th>171</th>\n",
       "      <th>172</th>\n",
       "      <th>173</th>\n",
       "      <th>174</th>\n",
       "      <th>175</th>\n",
       "      <th>176</th>\n",
       "      <th>177</th>\n",
       "      <th>178</th>\n",
       "      <th>179</th>\n",
       "      <th>180</th>\n",
       "      <th>181</th>\n",
       "      <th>182</th>\n",
       "      <th>183</th>\n",
       "      <th>184</th>\n",
       "      <th>185</th>\n",
       "      <th>186</th>\n",
       "      <th>187</th>\n",
       "      <th>188</th>\n",
       "      <th>189</th>\n",
       "      <th>190</th>\n",
       "      <th>191</th>\n",
       "      <th>192</th>\n",
       "      <th>193</th>\n",
       "      <th>194</th>\n",
       "      <th>195</th>\n",
       "      <th>196</th>\n",
       "      <th>197</th>\n",
       "      <th>198</th>\n",
       "      <th>199</th>\n",
       "      <th>200</th>\n",
       "      <th>201</th>\n",
       "      <th>202</th>\n",
       "      <th>203</th>\n",
       "      <th>204</th>\n",
       "      <th>205</th>\n",
       "      <th>206</th>\n",
       "      <th>207</th>\n",
       "      <th>208</th>\n",
       "      <th>209</th>\n",
       "      <th>210</th>\n",
       "      <th>211</th>\n",
       "      <th>212</th>\n",
       "      <th>213</th>\n",
       "      <th>214</th>\n",
       "      <th>215</th>\n",
       "      <th>216</th>\n",
       "      <th>217</th>\n",
       "      <th>218</th>\n",
       "      <th>219</th>\n",
       "      <th>220</th>\n",
       "      <th>221</th>\n",
       "      <th>222</th>\n",
       "      <th>223</th>\n",
       "      <th>224</th>\n",
       "      <th>225</th>\n",
       "      <th>226</th>\n",
       "      <th>227</th>\n",
       "      <th>228</th>\n",
       "      <th>229</th>\n",
       "      <th>230</th>\n",
       "      <th>231</th>\n",
       "      <th>232</th>\n",
       "      <th>233</th>\n",
       "      <th>234</th>\n",
       "      <th>235</th>\n",
       "      <th>236</th>\n",
       "      <th>237</th>\n",
       "      <th>238</th>\n",
       "      <th>239</th>\n",
       "      <th>240</th>\n",
       "      <th>241</th>\n",
       "      <th>242</th>\n",
       "      <th>243</th>\n",
       "      <th>244</th>\n",
       "      <th>245</th>\n",
       "      <th>246</th>\n",
       "      <th>247</th>\n",
       "      <th>248</th>\n",
       "      <th>249</th>\n",
       "    </tr>\n",
       "  </thead>\n",
       "  <tbody>\n",
       "    <tr>\n",
       "      <th>tokens</th>\n",
       "      <td>entre</td>\n",
       "      <td>les</td>\n",
       "      <td>tasques</td>\n",
       "      <td>que</td>\n",
       "      <td>es</td>\n",
       "      <td>duran</td>\n",
       "      <td>a</td>\n",
       "      <td>terme</td>\n",
       "      <td>hi</td>\n",
       "      <td>ha</td>\n",
       "      <td>la</td>\n",
       "      <td>sensibilització</td>\n",
       "      <td>dels</td>\n",
       "      <td>de</td>\n",
       "      <td>els</td>\n",
       "      <td>pagesos</td>\n",
       "      <td>sobre</td>\n",
       "      <td>l'</td>\n",
       "      <td>amplitud</td>\n",
       "      <td>del</td>\n",
       "      <td>de</td>\n",
       "      <td>el</td>\n",
       "      <td>problema</td>\n",
       "      <td>en</td>\n",
       "      <td>l'</td>\n",
       "      <td>àmbit</td>\n",
       "      <td>agrari</td>\n",
       "      <td>,</td>\n",
       "      <td>perquè</td>\n",
       "      <td>'</td>\n",
       "      <td>són</td>\n",
       "      <td>ells</td>\n",
       "      <td>mateixos</td>\n",
       "      <td>els</td>\n",
       "      <td>qui</td>\n",
       "      <td>han</td>\n",
       "      <td>de</td>\n",
       "      <td>defensar</td>\n",
       "      <td>la</td>\n",
       "      <td>pròpia</td>\n",
       "      <td>salut</td>\n",
       "      <td>i</td>\n",
       "      <td>la</td>\n",
       "      <td>de</td>\n",
       "      <td>les</td>\n",
       "      <td>seves</td>\n",
       "      <td>pròpies</td>\n",
       "      <td>famílies</td>\n",
       "      <td>'</td>\n",
       "      <td>;</td>\n",
       "      <td>formació</td>\n",
       "      <td>dels</td>\n",
       "      <td>de</td>\n",
       "      <td>els</td>\n",
       "      <td>pagesos</td>\n",
       "      <td>i</td>\n",
       "      <td>altres</td>\n",
       "      <td>persones</td>\n",
       "      <td>i</td>\n",
       "      <td>institucions</td>\n",
       "      <td>vinculades</td>\n",
       "      <td>amb</td>\n",
       "      <td>l'</td>\n",
       "      <td>activitat</td>\n",
       "      <td>rural</td>\n",
       "      <td>,</td>\n",
       "      <td>en</td>\n",
       "      <td>especial</td>\n",
       "      <td>dels</td>\n",
       "      <td>de</td>\n",
       "      <td>els</td>\n",
       "      <td>dirigents</td>\n",
       "      <td>rurals</td>\n",
       "      <td>;</td>\n",
       "      <td>servei</td>\n",
       "      <td>de</td>\n",
       "      <td>documentació</td>\n",
       "      <td>per</td>\n",
       "      <td>totes</td>\n",
       "      <td>aquelles</td>\n",
       "      <td>institucions</td>\n",
       "      <td>i</td>\n",
       "      <td>persones</td>\n",
       "      <td>que</td>\n",
       "      <td>es</td>\n",
       "      <td>vulguin</td>\n",
       "      <td>informar</td>\n",
       "      <td>sobre</td>\n",
       "      <td>els</td>\n",
       "      <td>diferents</td>\n",
       "      <td>aspectes</td>\n",
       "      <td>de</td>\n",
       "      <td>la</td>\n",
       "      <td>defensa</td>\n",
       "      <td>de</td>\n",
       "      <td>la</td>\n",
       "      <td>salut</td>\n",
       "      <td>laboral</td>\n",
       "      <td>;</td>\n",
       "      <td>assessorament</td>\n",
       "      <td>sobre</td>\n",
       "      <td>la</td>\n",
       "      <td>nova</td>\n",
       "      <td>normativa</td>\n",
       "      <td>de</td>\n",
       "      <td>prevenció</td>\n",
       "      <td>de</td>\n",
       "      <td>riscos</td>\n",
       "      <td>i</td>\n",
       "      <td>la</td>\n",
       "      <td>promoció</td>\n",
       "      <td>adequada</td>\n",
       "      <td>per</td>\n",
       "      <td>al</td>\n",
       "      <td>a</td>\n",
       "      <td>el</td>\n",
       "      <td>seu</td>\n",
       "      <td>compliment</td>\n",
       "      <td>;</td>\n",
       "      <td>estudi</td>\n",
       "      <td>dels</td>\n",
       "      <td>de</td>\n",
       "      <td>els</td>\n",
       "      <td>principals</td>\n",
       "      <td>problemes</td>\n",
       "      <td>que</td>\n",
       "      <td>es</td>\n",
       "      <td>produeixen</td>\n",
       "      <td>en</td>\n",
       "      <td>les</td>\n",
       "      <td>condicions</td>\n",
       "      <td>de</td>\n",
       "      <td>treball</td>\n",
       "      <td>dels</td>\n",
       "      <td>de</td>\n",
       "      <td>els</td>\n",
       "      <td>pagesos</td>\n",
       "      <td>;</td>\n",
       "      <td>implantació</td>\n",
       "      <td>d'</td>\n",
       "      <td>una</td>\n",
       "      <td>xarxa</td>\n",
       "      <td>de</td>\n",
       "      <td>vigilància</td>\n",
       "      <td>i</td>\n",
       "      <td>alerta</td>\n",
       "      <td>dels</td>\n",
       "      <td>de</td>\n",
       "      <td>els</td>\n",
       "      <td>principals</td>\n",
       "      <td>incidents</td>\n",
       "      <td>produïts</td>\n",
       "      <td>en</td>\n",
       "      <td>aquest</td>\n",
       "      <td>àmbit</td>\n",
       "      <td>;</td>\n",
       "      <td>i</td>\n",
       "      <td>propostes</td>\n",
       "      <td>dirigides</td>\n",
       "      <td>a</td>\n",
       "      <td>la</td>\n",
       "      <td>millora</td>\n",
       "      <td>de</td>\n",
       "      <td>les</td>\n",
       "      <td>condicions</td>\n",
       "      <td>de</td>\n",
       "      <td>treball</td>\n",
       "      <td>,</td>\n",
       "      <td>amb</td>\n",
       "      <td>criteris</td>\n",
       "      <td>ergonòmics</td>\n",
       "      <td>i</td>\n",
       "      <td>a</td>\n",
       "      <td>l'</td>\n",
       "      <td>aplicació</td>\n",
       "      <td>de</td>\n",
       "      <td>diferents</td>\n",
       "      <td>mètodes</td>\n",
       "      <td>d'</td>\n",
       "      <td>organització</td>\n",
       "      <td>i</td>\n",
       "      <td>ordenació</td>\n",
       "      <td>del</td>\n",
       "      <td>de</td>\n",
       "      <td>el</td>\n",
       "      <td>treball</td>\n",
       "      <td>;</td>\n",
       "      <td>en</td>\n",
       "      <td>homenatge</td>\n",
       "      <td>a</td>\n",
       "      <td>l'</td>\n",
       "      <td>àmbit</td>\n",
       "      <td>de</td>\n",
       "      <td>treball</td>\n",
       "      <td>que</td>\n",
       "      <td>cobria</td>\n",
       "      <td>en</td>\n",
       "      <td>lluís</td>\n",
       "      <td>nomen</td>\n",
       "      <td>a</td>\n",
       "      <td>la</td>\n",
       "      <td>comissió</td>\n",
       "      <td>permanent</td>\n",
       "      <td>del</td>\n",
       "      <td>de</td>\n",
       "      <td>el</td>\n",
       "      <td>sindicat</td>\n",
       "      <td>,</td>\n",
       "      <td>s'</td>\n",
       "      <td>impulsarà</td>\n",
       "      <td>a</td>\n",
       "      <td>través</td>\n",
       "      <td>de</td>\n",
       "      <td>la</td>\n",
       "      <td>fundació</td>\n",
       "      <td>la</td>\n",
       "      <td>promoció</td>\n",
       "      <td>i</td>\n",
       "      <td>la</td>\n",
       "      <td>realització</td>\n",
       "      <td>d'</td>\n",
       "      <td>estudis</td>\n",
       "      <td>,</td>\n",
       "      <td>investigacions</td>\n",
       "      <td>i</td>\n",
       "      <td>activitats</td>\n",
       "      <td>en</td>\n",
       "      <td>el</td>\n",
       "      <td>camp</td>\n",
       "      <td>de</td>\n",
       "      <td>la</td>\n",
       "      <td>preservació</td>\n",
       "      <td>dels</td>\n",
       "      <td>de</td>\n",
       "      <td>els</td>\n",
       "      <td>valors</td>\n",
       "      <td>productius</td>\n",
       "      <td>,</td>\n",
       "      <td>ecològics</td>\n",
       "      <td>i</td>\n",
       "      <td>culturals</td>\n",
       "      <td>de</td>\n",
       "      <td>l'</td>\n",
       "      <td>espai</td>\n",
       "      <td>agrari</td>\n",
       "      <td>i</td>\n",
       "      <td>rural</td>\n",
       "      <td>de</td>\n",
       "      <td>catalunya</td>\n",
       "      <td>.</td>\n",
       "    </tr>\n",
       "    <tr>\n",
       "      <th>tags</th>\n",
       "      <td>adp</td>\n",
       "      <td>det</td>\n",
       "      <td>noun</td>\n",
       "      <td>pron</td>\n",
       "      <td>pron</td>\n",
       "      <td>verb</td>\n",
       "      <td>adp</td>\n",
       "      <td>noun</td>\n",
       "      <td>pron</td>\n",
       "      <td>verb</td>\n",
       "      <td>det</td>\n",
       "      <td>noun</td>\n",
       "      <td>_</td>\n",
       "      <td>adp</td>\n",
       "      <td>det</td>\n",
       "      <td>noun</td>\n",
       "      <td>adp</td>\n",
       "      <td>det</td>\n",
       "      <td>noun</td>\n",
       "      <td>_</td>\n",
       "      <td>adp</td>\n",
       "      <td>det</td>\n",
       "      <td>noun</td>\n",
       "      <td>adp</td>\n",
       "      <td>det</td>\n",
       "      <td>noun</td>\n",
       "      <td>adj</td>\n",
       "      <td>punct</td>\n",
       "      <td>sconj</td>\n",
       "      <td>punct</td>\n",
       "      <td>aux</td>\n",
       "      <td>pron</td>\n",
       "      <td>det</td>\n",
       "      <td>det</td>\n",
       "      <td>pron</td>\n",
       "      <td>aux</td>\n",
       "      <td>adp</td>\n",
       "      <td>verb</td>\n",
       "      <td>det</td>\n",
       "      <td>adj</td>\n",
       "      <td>noun</td>\n",
       "      <td>cconj</td>\n",
       "      <td>det</td>\n",
       "      <td>adp</td>\n",
       "      <td>det</td>\n",
       "      <td>det</td>\n",
       "      <td>adj</td>\n",
       "      <td>noun</td>\n",
       "      <td>punct</td>\n",
       "      <td>punct</td>\n",
       "      <td>noun</td>\n",
       "      <td>_</td>\n",
       "      <td>adp</td>\n",
       "      <td>det</td>\n",
       "      <td>noun</td>\n",
       "      <td>cconj</td>\n",
       "      <td>det</td>\n",
       "      <td>noun</td>\n",
       "      <td>cconj</td>\n",
       "      <td>noun</td>\n",
       "      <td>adj</td>\n",
       "      <td>adp</td>\n",
       "      <td>det</td>\n",
       "      <td>noun</td>\n",
       "      <td>adj</td>\n",
       "      <td>punct</td>\n",
       "      <td>adp</td>\n",
       "      <td>adj</td>\n",
       "      <td>_</td>\n",
       "      <td>adp</td>\n",
       "      <td>det</td>\n",
       "      <td>noun</td>\n",
       "      <td>adj</td>\n",
       "      <td>punct</td>\n",
       "      <td>noun</td>\n",
       "      <td>adp</td>\n",
       "      <td>noun</td>\n",
       "      <td>adp</td>\n",
       "      <td>det</td>\n",
       "      <td>det</td>\n",
       "      <td>noun</td>\n",
       "      <td>cconj</td>\n",
       "      <td>noun</td>\n",
       "      <td>pron</td>\n",
       "      <td>pron</td>\n",
       "      <td>verb</td>\n",
       "      <td>verb</td>\n",
       "      <td>adp</td>\n",
       "      <td>det</td>\n",
       "      <td>det</td>\n",
       "      <td>noun</td>\n",
       "      <td>adp</td>\n",
       "      <td>det</td>\n",
       "      <td>noun</td>\n",
       "      <td>adp</td>\n",
       "      <td>det</td>\n",
       "      <td>noun</td>\n",
       "      <td>adj</td>\n",
       "      <td>punct</td>\n",
       "      <td>noun</td>\n",
       "      <td>adp</td>\n",
       "      <td>det</td>\n",
       "      <td>adj</td>\n",
       "      <td>noun</td>\n",
       "      <td>adp</td>\n",
       "      <td>noun</td>\n",
       "      <td>adp</td>\n",
       "      <td>noun</td>\n",
       "      <td>cconj</td>\n",
       "      <td>det</td>\n",
       "      <td>noun</td>\n",
       "      <td>adj</td>\n",
       "      <td>adp</td>\n",
       "      <td>_</td>\n",
       "      <td>adp</td>\n",
       "      <td>det</td>\n",
       "      <td>det</td>\n",
       "      <td>noun</td>\n",
       "      <td>punct</td>\n",
       "      <td>noun</td>\n",
       "      <td>_</td>\n",
       "      <td>adp</td>\n",
       "      <td>det</td>\n",
       "      <td>adj</td>\n",
       "      <td>noun</td>\n",
       "      <td>pron</td>\n",
       "      <td>pron</td>\n",
       "      <td>verb</td>\n",
       "      <td>adp</td>\n",
       "      <td>det</td>\n",
       "      <td>noun</td>\n",
       "      <td>adp</td>\n",
       "      <td>noun</td>\n",
       "      <td>_</td>\n",
       "      <td>adp</td>\n",
       "      <td>det</td>\n",
       "      <td>noun</td>\n",
       "      <td>punct</td>\n",
       "      <td>noun</td>\n",
       "      <td>adp</td>\n",
       "      <td>det</td>\n",
       "      <td>propn</td>\n",
       "      <td>adp</td>\n",
       "      <td>propn</td>\n",
       "      <td>cconj</td>\n",
       "      <td>propn</td>\n",
       "      <td>_</td>\n",
       "      <td>adp</td>\n",
       "      <td>det</td>\n",
       "      <td>adj</td>\n",
       "      <td>noun</td>\n",
       "      <td>adj</td>\n",
       "      <td>adp</td>\n",
       "      <td>det</td>\n",
       "      <td>noun</td>\n",
       "      <td>punct</td>\n",
       "      <td>cconj</td>\n",
       "      <td>noun</td>\n",
       "      <td>adj</td>\n",
       "      <td>adp</td>\n",
       "      <td>det</td>\n",
       "      <td>noun</td>\n",
       "      <td>adp</td>\n",
       "      <td>det</td>\n",
       "      <td>noun</td>\n",
       "      <td>adp</td>\n",
       "      <td>noun</td>\n",
       "      <td>punct</td>\n",
       "      <td>adp</td>\n",
       "      <td>noun</td>\n",
       "      <td>adj</td>\n",
       "      <td>cconj</td>\n",
       "      <td>adp</td>\n",
       "      <td>det</td>\n",
       "      <td>noun</td>\n",
       "      <td>adp</td>\n",
       "      <td>det</td>\n",
       "      <td>noun</td>\n",
       "      <td>adp</td>\n",
       "      <td>noun</td>\n",
       "      <td>cconj</td>\n",
       "      <td>noun</td>\n",
       "      <td>_</td>\n",
       "      <td>adp</td>\n",
       "      <td>det</td>\n",
       "      <td>noun</td>\n",
       "      <td>punct</td>\n",
       "      <td>adp</td>\n",
       "      <td>noun</td>\n",
       "      <td>adp</td>\n",
       "      <td>det</td>\n",
       "      <td>noun</td>\n",
       "      <td>adp</td>\n",
       "      <td>noun</td>\n",
       "      <td>pron</td>\n",
       "      <td>verb</td>\n",
       "      <td>det</td>\n",
       "      <td>propn</td>\n",
       "      <td>propn</td>\n",
       "      <td>adp</td>\n",
       "      <td>det</td>\n",
       "      <td>propn</td>\n",
       "      <td>propn</td>\n",
       "      <td>_</td>\n",
       "      <td>adp</td>\n",
       "      <td>det</td>\n",
       "      <td>noun</td>\n",
       "      <td>punct</td>\n",
       "      <td>pron</td>\n",
       "      <td>verb</td>\n",
       "      <td>adp</td>\n",
       "      <td>noun</td>\n",
       "      <td>adp</td>\n",
       "      <td>det</td>\n",
       "      <td>propn</td>\n",
       "      <td>det</td>\n",
       "      <td>noun</td>\n",
       "      <td>cconj</td>\n",
       "      <td>det</td>\n",
       "      <td>noun</td>\n",
       "      <td>adp</td>\n",
       "      <td>noun</td>\n",
       "      <td>punct</td>\n",
       "      <td>noun</td>\n",
       "      <td>cconj</td>\n",
       "      <td>noun</td>\n",
       "      <td>adp</td>\n",
       "      <td>det</td>\n",
       "      <td>noun</td>\n",
       "      <td>adp</td>\n",
       "      <td>det</td>\n",
       "      <td>noun</td>\n",
       "      <td>_</td>\n",
       "      <td>adp</td>\n",
       "      <td>det</td>\n",
       "      <td>noun</td>\n",
       "      <td>adj</td>\n",
       "      <td>punct</td>\n",
       "      <td>adj</td>\n",
       "      <td>cconj</td>\n",
       "      <td>adj</td>\n",
       "      <td>adp</td>\n",
       "      <td>det</td>\n",
       "      <td>noun</td>\n",
       "      <td>adj</td>\n",
       "      <td>cconj</td>\n",
       "      <td>adj</td>\n",
       "      <td>adp</td>\n",
       "      <td>propn</td>\n",
       "      <td>punct</td>\n",
       "    </tr>\n",
       "  </tbody>\n",
       "</table>\n",
       "</div>"
      ],
      "text/plain": [
       "          0    1        2     3     4      5    6      7     8     9    10   \\\n",
       "tokens  entre  les  tasques   que    es  duran    a  terme    hi    ha   la   \n",
       "tags      adp  det     noun  pron  pron   verb  adp   noun  pron  verb  det   \n",
       "\n",
       "                    11    12   13   14       15     16   17        18   19   \\\n",
       "tokens  sensibilització  dels   de  els  pagesos  sobre   l'  amplitud  del   \n",
       "tags               noun     _  adp  det     noun    adp  det      noun    _   \n",
       "\n",
       "        20   21        22   23   24     25      26     27      28     29   \\\n",
       "tokens   de   el  problema   en   l'  àmbit  agrari      ,  perquè      '   \n",
       "tags    adp  det      noun  adp  det   noun     adj  punct   sconj  punct   \n",
       "\n",
       "        30    31        32   33    34   35   36        37   38      39   \\\n",
       "tokens  són  ells  mateixos  els   qui  han   de  defensar   la  pròpia   \n",
       "tags    aux  pron       det  det  pron  aux  adp      verb  det     adj   \n",
       "\n",
       "          40     41   42   43   44     45       46        47     48     49   \\\n",
       "tokens  salut      i   la   de  les  seves  pròpies  famílies      '      ;   \n",
       "tags     noun  cconj  det  adp  det    det      adj      noun  punct  punct   \n",
       "\n",
       "             50    51   52   53       54     55      56        57     58   \\\n",
       "tokens  formació  dels   de  els  pagesos      i  altres  persones      i   \n",
       "tags        noun     _  adp  det     noun  cconj     det      noun  cconj   \n",
       "\n",
       "                 59          60   61   62         63     64     65   66   \\\n",
       "tokens  institucions  vinculades  amb   l'  activitat  rural      ,   en   \n",
       "tags            noun         adj  adp  det       noun    adj  punct  adp   \n",
       "\n",
       "             67    68   69   70         71      72     73      74   75   \\\n",
       "tokens  especial  dels   de  els  dirigents  rurals      ;  servei   de   \n",
       "tags         adj     _  adp  det       noun     adj  punct    noun  adp   \n",
       "\n",
       "                 76   77     78        79            80     81        82   \\\n",
       "tokens  documentació  per  totes  aquelles  institucions      i  persones   \n",
       "tags            noun  adp    det       det          noun  cconj      noun   \n",
       "\n",
       "         83    84       85        86     87   88         89        90   91   \\\n",
       "tokens   que    es  vulguin  informar  sobre  els  diferents  aspectes   de   \n",
       "tags    pron  pron     verb      verb    adp  det        det      noun  adp   \n",
       "\n",
       "        92       93   94   95     96       97     98             99     100  \\\n",
       "tokens   la  defensa   de   la  salut  laboral      ;  assessorament  sobre   \n",
       "tags    det     noun  adp  det   noun      adj  punct           noun    adp   \n",
       "\n",
       "        101   102        103  104        105  106     107    108  109  \\\n",
       "tokens   la  nova  normativa   de  prevenció   de  riscos      i   la   \n",
       "tags    det   adj       noun  adp       noun  adp    noun  cconj  det   \n",
       "\n",
       "             110       111  112 113  114  115  116         117    118     119  \\\n",
       "tokens  promoció  adequada  per  al    a   el  seu  compliment      ;  estudi   \n",
       "tags        noun       adj  adp   _  adp  det  det        noun  punct    noun   \n",
       "\n",
       "         120  121  122         123        124   125   126         127  128  \\\n",
       "tokens  dels   de  els  principals  problemes   que    es  produeixen   en   \n",
       "tags       _  adp  det         adj       noun  pron  pron        verb  adp   \n",
       "\n",
       "        129         130  131      132   133  134  135      136    137  \\\n",
       "tokens  les  condicions   de  treball  dels   de  els  pagesos      ;   \n",
       "tags    det        noun  adp     noun     _  adp  det     noun  punct   \n",
       "\n",
       "                138  139  140    141  142         143    144     145   146  \\\n",
       "tokens  implantació   d'  una  xarxa   de  vigilància      i  alerta  dels   \n",
       "tags           noun  adp  det  propn  adp       propn  cconj   propn     _   \n",
       "\n",
       "        147  148         149        150       151  152     153    154    155  \\\n",
       "tokens   de  els  principals  incidents  produïts   en  aquest  àmbit      ;   \n",
       "tags    adp  det         adj       noun       adj  adp     det   noun  punct   \n",
       "\n",
       "          156        157        158  159  160      161  162  163         164  \\\n",
       "tokens      i  propostes  dirigides    a   la  millora   de  les  condicions   \n",
       "tags    cconj       noun        adj  adp  det     noun  adp  det        noun   \n",
       "\n",
       "        165      166    167  168       169         170    171  172  173  \\\n",
       "tokens   de  treball      ,  amb  criteris  ergonòmics      i    a   l'   \n",
       "tags    adp     noun  punct  adp      noun         adj  cconj  adp  det   \n",
       "\n",
       "              174  175        176      177  178           179    180  \\\n",
       "tokens  aplicació   de  diferents  mètodes   d'  organització      i   \n",
       "tags         noun  adp        det     noun  adp          noun  cconj   \n",
       "\n",
       "              181  182  183  184      185    186  187        188  189  190  \\\n",
       "tokens  ordenació  del   de   el  treball      ;   en  homenatge    a   l'   \n",
       "tags         noun    _  adp  det     noun  punct  adp       noun  adp  det   \n",
       "\n",
       "          191  192      193   194     195  196    197    198  199  200  \\\n",
       "tokens  àmbit   de  treball   que  cobria   en  lluís  nomen    a   la   \n",
       "tags     noun  adp     noun  pron    verb  det  propn  propn  adp  det   \n",
       "\n",
       "             201        202  203  204  205       206    207   208        209  \\\n",
       "tokens  comissió  permanent  del   de   el  sindicat      ,    s'  impulsarà   \n",
       "tags       propn      propn    _  adp  det      noun  punct  pron       verb   \n",
       "\n",
       "        210     211  212  213       214  215       216    217  218  \\\n",
       "tokens    a  través   de   la  fundació   la  promoció      i   la   \n",
       "tags    adp    noun  adp  det     propn  det      noun  cconj  det   \n",
       "\n",
       "                219  220      221    222             223    224         225  \\\n",
       "tokens  realització   d'  estudis      ,  investigacions      i  activitats   \n",
       "tags           noun  adp     noun  punct            noun  cconj        noun   \n",
       "\n",
       "        226  227   228  229  230          231   232  233  234     235  \\\n",
       "tokens   en   el  camp   de   la  preservació  dels   de  els  valors   \n",
       "tags    adp  det  noun  adp  det         noun     _  adp  det    noun   \n",
       "\n",
       "               236    237        238    239        240  241  242    243  \\\n",
       "tokens  productius      ,  ecològics      i  culturals   de   l'  espai   \n",
       "tags           adj  punct        adj  cconj        adj  adp  det   noun   \n",
       "\n",
       "           244    245    246  247        248    249  \n",
       "tokens  agrari      i  rural   de  catalunya      .  \n",
       "tags       adj  cconj    adj  adp      propn  punct  "
      ]
     },
     "execution_count": 11,
     "metadata": {},
     "output_type": "execute_result"
    }
   ],
   "source": [
    "visualize_sample(train_info, max_idx)"
   ]
  },
  {
   "cell_type": "markdown",
   "metadata": {},
   "source": [
    "* The longest sentence talks about an existing problematic with farmers and enumerates a list of actions that will be taken in order to raise awarness and enhance sensibilization towards that.\n",
    "* It is not common to have long sentences like this, but the listing of detailed actions leads to it being so long."
   ]
  },
  {
   "cell_type": "code",
   "execution_count": 12,
   "metadata": {},
   "outputs": [
    {
     "name": "stdout",
     "output_type": "stream",
     "text": [
      "Total sentences: 1846\n",
      "Average sentence length: 33\n",
      "Minimum sentence length: 2\n",
      "Maximum sentence length: 178\n",
      "Percentile 25, length: 21.0\n",
      "Percentile 50, length: 30.0\n",
      "Percentile 75, length: 43.0\n"
     ]
    }
   ],
   "source": [
    "get_stats(test_info)"
   ]
  },
  {
   "cell_type": "markdown",
   "metadata": {},
   "source": [
    "* The **test dataset** is 15% of the training size.\n",
    "* The shortest sentence is still 2 and the longest one is 178, shorter than the training one yet, quite long either way."
   ]
  },
  {
   "cell_type": "code",
   "execution_count": 13,
   "metadata": {},
   "outputs": [
    {
     "data": {
      "text/html": [
       "<div>\n",
       "<style scoped>\n",
       "    .dataframe tbody tr th:only-of-type {\n",
       "        vertical-align: middle;\n",
       "    }\n",
       "\n",
       "    .dataframe tbody tr th {\n",
       "        vertical-align: top;\n",
       "    }\n",
       "\n",
       "    .dataframe thead th {\n",
       "        text-align: right;\n",
       "    }\n",
       "</style>\n",
       "<table border=\"1\" class=\"dataframe\">\n",
       "  <thead>\n",
       "    <tr style=\"text-align: right;\">\n",
       "      <th></th>\n",
       "      <th>0</th>\n",
       "      <th>1</th>\n",
       "    </tr>\n",
       "  </thead>\n",
       "  <tbody>\n",
       "    <tr>\n",
       "      <th>tokens</th>\n",
       "      <td>1994</td>\n",
       "      <td>.</td>\n",
       "    </tr>\n",
       "    <tr>\n",
       "      <th>tags</th>\n",
       "      <td>noun</td>\n",
       "      <td>punct</td>\n",
       "    </tr>\n",
       "  </tbody>\n",
       "</table>\n",
       "</div>"
      ],
      "text/plain": [
       "           0      1\n",
       "tokens  1994      .\n",
       "tags    noun  punct"
      ]
     },
     "execution_count": 13,
     "metadata": {},
     "output_type": "execute_result"
    }
   ],
   "source": [
    "sentence_lengths = [len(sentence) for sentence in test_info]\n",
    "min_idx = np.argmin(sentence_lengths)\n",
    "max_idx = np.argmax(sentence_lengths)\n",
    "\n",
    "visualize_sample(test_info, min_idx)"
   ]
  },
  {
   "cell_type": "code",
   "execution_count": 14,
   "metadata": {},
   "outputs": [
    {
     "data": {
      "text/html": [
       "<div>\n",
       "<style scoped>\n",
       "    .dataframe tbody tr th:only-of-type {\n",
       "        vertical-align: middle;\n",
       "    }\n",
       "\n",
       "    .dataframe tbody tr th {\n",
       "        vertical-align: top;\n",
       "    }\n",
       "\n",
       "    .dataframe thead th {\n",
       "        text-align: right;\n",
       "    }\n",
       "</style>\n",
       "<table border=\"1\" class=\"dataframe\">\n",
       "  <thead>\n",
       "    <tr style=\"text-align: right;\">\n",
       "      <th></th>\n",
       "      <th>0</th>\n",
       "      <th>1</th>\n",
       "      <th>2</th>\n",
       "      <th>3</th>\n",
       "      <th>4</th>\n",
       "      <th>5</th>\n",
       "      <th>6</th>\n",
       "      <th>7</th>\n",
       "      <th>8</th>\n",
       "      <th>9</th>\n",
       "      <th>10</th>\n",
       "      <th>11</th>\n",
       "      <th>12</th>\n",
       "      <th>13</th>\n",
       "      <th>14</th>\n",
       "      <th>15</th>\n",
       "      <th>16</th>\n",
       "      <th>17</th>\n",
       "      <th>18</th>\n",
       "      <th>19</th>\n",
       "      <th>20</th>\n",
       "      <th>21</th>\n",
       "      <th>22</th>\n",
       "      <th>23</th>\n",
       "      <th>24</th>\n",
       "      <th>25</th>\n",
       "      <th>26</th>\n",
       "      <th>27</th>\n",
       "      <th>28</th>\n",
       "      <th>29</th>\n",
       "      <th>30</th>\n",
       "      <th>31</th>\n",
       "      <th>32</th>\n",
       "      <th>33</th>\n",
       "      <th>34</th>\n",
       "      <th>35</th>\n",
       "      <th>36</th>\n",
       "      <th>37</th>\n",
       "      <th>38</th>\n",
       "      <th>39</th>\n",
       "      <th>40</th>\n",
       "      <th>41</th>\n",
       "      <th>42</th>\n",
       "      <th>43</th>\n",
       "      <th>44</th>\n",
       "      <th>45</th>\n",
       "      <th>46</th>\n",
       "      <th>47</th>\n",
       "      <th>48</th>\n",
       "      <th>49</th>\n",
       "      <th>50</th>\n",
       "      <th>51</th>\n",
       "      <th>52</th>\n",
       "      <th>53</th>\n",
       "      <th>54</th>\n",
       "      <th>55</th>\n",
       "      <th>56</th>\n",
       "      <th>57</th>\n",
       "      <th>58</th>\n",
       "      <th>59</th>\n",
       "      <th>60</th>\n",
       "      <th>61</th>\n",
       "      <th>62</th>\n",
       "      <th>63</th>\n",
       "      <th>64</th>\n",
       "      <th>65</th>\n",
       "      <th>66</th>\n",
       "      <th>67</th>\n",
       "      <th>68</th>\n",
       "      <th>69</th>\n",
       "      <th>70</th>\n",
       "      <th>71</th>\n",
       "      <th>72</th>\n",
       "      <th>73</th>\n",
       "      <th>74</th>\n",
       "      <th>75</th>\n",
       "      <th>76</th>\n",
       "      <th>77</th>\n",
       "      <th>78</th>\n",
       "      <th>79</th>\n",
       "      <th>80</th>\n",
       "      <th>81</th>\n",
       "      <th>82</th>\n",
       "      <th>83</th>\n",
       "      <th>84</th>\n",
       "      <th>85</th>\n",
       "      <th>86</th>\n",
       "      <th>87</th>\n",
       "      <th>88</th>\n",
       "      <th>89</th>\n",
       "      <th>90</th>\n",
       "      <th>91</th>\n",
       "      <th>92</th>\n",
       "      <th>93</th>\n",
       "      <th>94</th>\n",
       "      <th>95</th>\n",
       "      <th>96</th>\n",
       "      <th>97</th>\n",
       "      <th>98</th>\n",
       "      <th>99</th>\n",
       "      <th>100</th>\n",
       "      <th>101</th>\n",
       "      <th>102</th>\n",
       "      <th>103</th>\n",
       "      <th>104</th>\n",
       "      <th>105</th>\n",
       "      <th>106</th>\n",
       "      <th>107</th>\n",
       "      <th>108</th>\n",
       "      <th>109</th>\n",
       "      <th>110</th>\n",
       "      <th>111</th>\n",
       "      <th>112</th>\n",
       "      <th>113</th>\n",
       "      <th>114</th>\n",
       "      <th>115</th>\n",
       "      <th>116</th>\n",
       "      <th>117</th>\n",
       "      <th>118</th>\n",
       "      <th>119</th>\n",
       "      <th>120</th>\n",
       "      <th>121</th>\n",
       "      <th>122</th>\n",
       "      <th>123</th>\n",
       "      <th>124</th>\n",
       "      <th>125</th>\n",
       "      <th>126</th>\n",
       "      <th>127</th>\n",
       "      <th>128</th>\n",
       "      <th>129</th>\n",
       "      <th>130</th>\n",
       "      <th>131</th>\n",
       "      <th>132</th>\n",
       "      <th>133</th>\n",
       "      <th>134</th>\n",
       "      <th>135</th>\n",
       "      <th>136</th>\n",
       "      <th>137</th>\n",
       "      <th>138</th>\n",
       "      <th>139</th>\n",
       "      <th>140</th>\n",
       "      <th>141</th>\n",
       "      <th>142</th>\n",
       "      <th>143</th>\n",
       "      <th>144</th>\n",
       "      <th>145</th>\n",
       "      <th>146</th>\n",
       "      <th>147</th>\n",
       "      <th>148</th>\n",
       "      <th>149</th>\n",
       "      <th>150</th>\n",
       "      <th>151</th>\n",
       "      <th>152</th>\n",
       "      <th>153</th>\n",
       "      <th>154</th>\n",
       "      <th>155</th>\n",
       "      <th>156</th>\n",
       "      <th>157</th>\n",
       "      <th>158</th>\n",
       "      <th>159</th>\n",
       "      <th>160</th>\n",
       "      <th>161</th>\n",
       "      <th>162</th>\n",
       "      <th>163</th>\n",
       "      <th>164</th>\n",
       "      <th>165</th>\n",
       "      <th>166</th>\n",
       "      <th>167</th>\n",
       "      <th>168</th>\n",
       "      <th>169</th>\n",
       "      <th>170</th>\n",
       "      <th>171</th>\n",
       "      <th>172</th>\n",
       "      <th>173</th>\n",
       "      <th>174</th>\n",
       "      <th>175</th>\n",
       "      <th>176</th>\n",
       "      <th>177</th>\n",
       "    </tr>\n",
       "  </thead>\n",
       "  <tbody>\n",
       "    <tr>\n",
       "      <th>tokens</th>\n",
       "      <td>entre</td>\n",
       "      <td>els</td>\n",
       "      <td>actes</td>\n",
       "      <td>ja</td>\n",
       "      <td>concertats</td>\n",
       "      <td>en</td>\n",
       "      <td>destaca</td>\n",
       "      <td>l'</td>\n",
       "      <td>espectacle</td>\n",
       "      <td>'</td>\n",
       "      <td>testimoni</td>\n",
       "      <td>verdaguer</td>\n",
       "      <td>'</td>\n",
       "      <td>,</td>\n",
       "      <td>al</td>\n",
       "      <td>a</td>\n",
       "      <td>el</td>\n",
       "      <td>teatre</td>\n",
       "      <td>nacional</td>\n",
       "      <td>de</td>\n",
       "      <td>catalunya</td>\n",
       "      <td>,</td>\n",
       "      <td>el</td>\n",
       "      <td>dia</td>\n",
       "      <td>29</td>\n",
       "      <td>de</td>\n",
       "      <td>juny</td>\n",
       "      <td>,</td>\n",
       "      <td>amb</td>\n",
       "      <td>una</td>\n",
       "      <td>diversitat</td>\n",
       "      <td>d'</td>\n",
       "      <td>iniciatives</td>\n",
       "      <td>al</td>\n",
       "      <td>a</td>\n",
       "      <td>el</td>\n",
       "      <td>llarg</td>\n",
       "      <td>de</td>\n",
       "      <td>tota</td>\n",
       "      <td>la</td>\n",
       "      <td>jornada</td>\n",
       "      <td>;</td>\n",
       "      <td>un</td>\n",
       "      <td>conjunt</td>\n",
       "      <td>d'</td>\n",
       "      <td>exposicions</td>\n",
       "      <td>,</td>\n",
       "      <td>organitzades</td>\n",
       "      <td>per</td>\n",
       "      <td>la</td>\n",
       "      <td>biblioteca</td>\n",
       "      <td>de</td>\n",
       "      <td>catalunya</td>\n",
       "      <td>,</td>\n",
       "      <td>la</td>\n",
       "      <td>primera</td>\n",
       "      <td>de</td>\n",
       "      <td>les</td>\n",
       "      <td>quals</td>\n",
       "      <td>s'</td>\n",
       "      <td>inaugurarà</td>\n",
       "      <td>a</td>\n",
       "      <td>vic</td>\n",
       "      <td>el</td>\n",
       "      <td>7</td>\n",
       "      <td>de</td>\n",
       "      <td>juny</td>\n",
       "      <td>;</td>\n",
       "      <td>la</td>\n",
       "      <td>celebració</td>\n",
       "      <td>d'</td>\n",
       "      <td>una</td>\n",
       "      <td>festa</td>\n",
       "      <td>tipogràfica</td>\n",
       "      <td>,</td>\n",
       "      <td>dins</td>\n",
       "      <td>de</td>\n",
       "      <td>la</td>\n",
       "      <td>popular</td>\n",
       "      <td>festa</td>\n",
       "      <td>dels</td>\n",
       "      <td>de</td>\n",
       "      <td>els</td>\n",
       "      <td>súpers</td>\n",
       "      <td>del</td>\n",
       "      <td>de</td>\n",
       "      <td>el</td>\n",
       "      <td>club</td>\n",
       "      <td>super</td>\n",
       "      <td>3</td>\n",
       "      <td>de</td>\n",
       "      <td>tv3</td>\n",
       "      <td>,</td>\n",
       "      <td>a</td>\n",
       "      <td>l'</td>\n",
       "      <td>octubre</td>\n",
       "      <td>;</td>\n",
       "      <td>verdaguer</td>\n",
       "      <td>i</td>\n",
       "      <td>les</td>\n",
       "      <td>llengües</td>\n",
       "      <td>europees</td>\n",
       "      <td>,</td>\n",
       "      <td>un</td>\n",
       "      <td>homenatge</td>\n",
       "      <td>a</td>\n",
       "      <td>la</td>\n",
       "      <td>pluralitat</td>\n",
       "      <td>de</td>\n",
       "      <td>llengües</td>\n",
       "      <td>a</td>\n",
       "      <td>què</td>\n",
       "      <td>ha</td>\n",
       "      <td>estat</td>\n",
       "      <td>traduïda</td>\n",
       "      <td>l'</td>\n",
       "      <td>obra</td>\n",
       "      <td>de</td>\n",
       "      <td>verdaguer</td>\n",
       "      <td>que</td>\n",
       "      <td>tindrà</td>\n",
       "      <td>lloc</td>\n",
       "      <td>a</td>\n",
       "      <td>berga</td>\n",
       "      <td>l'</td>\n",
       "      <td>11</td>\n",
       "      <td>de</td>\n",
       "      <td>setembre</td>\n",
       "      <td>;</td>\n",
       "      <td>una</td>\n",
       "      <td>campanya</td>\n",
       "      <td>de</td>\n",
       "      <td>promoció</td>\n",
       "      <td>de</td>\n",
       "      <td>la</td>\n",
       "      <td>lectura</td>\n",
       "      <td>a</td>\n",
       "      <td>través</td>\n",
       "      <td>de</td>\n",
       "      <td>les</td>\n",
       "      <td>biblioteques</td>\n",
       "      <td>,</td>\n",
       "      <td>fent</td>\n",
       "      <td>ús</td>\n",
       "      <td>de</td>\n",
       "      <td>l'</td>\n",
       "      <td>atlàntida</td>\n",
       "      <td>,</td>\n",
       "      <td>adreçada</td>\n",
       "      <td>sobretot</td>\n",
       "      <td>al</td>\n",
       "      <td>a</td>\n",
       "      <td>el</td>\n",
       "      <td>públic</td>\n",
       "      <td>infantil</td>\n",
       "      <td>i</td>\n",
       "      <td>juvenil</td>\n",
       "      <td>,</td>\n",
       "      <td>i</td>\n",
       "      <td>un</td>\n",
       "      <td>acte</td>\n",
       "      <td>de</td>\n",
       "      <td>cloenda</td>\n",
       "      <td>,</td>\n",
       "      <td>previst</td>\n",
       "      <td>per</td>\n",
       "      <td>al</td>\n",
       "      <td>a</td>\n",
       "      <td>el</td>\n",
       "      <td>novembre</td>\n",
       "      <td>al</td>\n",
       "      <td>a</td>\n",
       "      <td>el</td>\n",
       "      <td>palau</td>\n",
       "      <td>de</td>\n",
       "      <td>la</td>\n",
       "      <td>música</td>\n",
       "      <td>.</td>\n",
       "    </tr>\n",
       "    <tr>\n",
       "      <th>tags</th>\n",
       "      <td>adp</td>\n",
       "      <td>det</td>\n",
       "      <td>noun</td>\n",
       "      <td>adv</td>\n",
       "      <td>adj</td>\n",
       "      <td>pron</td>\n",
       "      <td>verb</td>\n",
       "      <td>det</td>\n",
       "      <td>noun</td>\n",
       "      <td>punct</td>\n",
       "      <td>propn</td>\n",
       "      <td>propn</td>\n",
       "      <td>punct</td>\n",
       "      <td>punct</td>\n",
       "      <td>_</td>\n",
       "      <td>adp</td>\n",
       "      <td>det</td>\n",
       "      <td>propn</td>\n",
       "      <td>propn</td>\n",
       "      <td>adp</td>\n",
       "      <td>propn</td>\n",
       "      <td>punct</td>\n",
       "      <td>det</td>\n",
       "      <td>noun</td>\n",
       "      <td>num</td>\n",
       "      <td>adp</td>\n",
       "      <td>noun</td>\n",
       "      <td>punct</td>\n",
       "      <td>adp</td>\n",
       "      <td>det</td>\n",
       "      <td>noun</td>\n",
       "      <td>adp</td>\n",
       "      <td>noun</td>\n",
       "      <td>_</td>\n",
       "      <td>adp</td>\n",
       "      <td>det</td>\n",
       "      <td>noun</td>\n",
       "      <td>adp</td>\n",
       "      <td>det</td>\n",
       "      <td>det</td>\n",
       "      <td>noun</td>\n",
       "      <td>punct</td>\n",
       "      <td>det</td>\n",
       "      <td>noun</td>\n",
       "      <td>adp</td>\n",
       "      <td>noun</td>\n",
       "      <td>punct</td>\n",
       "      <td>adj</td>\n",
       "      <td>adp</td>\n",
       "      <td>det</td>\n",
       "      <td>propn</td>\n",
       "      <td>adp</td>\n",
       "      <td>propn</td>\n",
       "      <td>punct</td>\n",
       "      <td>det</td>\n",
       "      <td>adj</td>\n",
       "      <td>adp</td>\n",
       "      <td>det</td>\n",
       "      <td>pron</td>\n",
       "      <td>pron</td>\n",
       "      <td>verb</td>\n",
       "      <td>adp</td>\n",
       "      <td>propn</td>\n",
       "      <td>det</td>\n",
       "      <td>num</td>\n",
       "      <td>adp</td>\n",
       "      <td>noun</td>\n",
       "      <td>punct</td>\n",
       "      <td>det</td>\n",
       "      <td>noun</td>\n",
       "      <td>adp</td>\n",
       "      <td>det</td>\n",
       "      <td>propn</td>\n",
       "      <td>propn</td>\n",
       "      <td>punct</td>\n",
       "      <td>adv</td>\n",
       "      <td>adp</td>\n",
       "      <td>det</td>\n",
       "      <td>adj</td>\n",
       "      <td>propn</td>\n",
       "      <td>_</td>\n",
       "      <td>adp</td>\n",
       "      <td>det</td>\n",
       "      <td>propn</td>\n",
       "      <td>_</td>\n",
       "      <td>adp</td>\n",
       "      <td>det</td>\n",
       "      <td>propn</td>\n",
       "      <td>propn</td>\n",
       "      <td>num</td>\n",
       "      <td>adp</td>\n",
       "      <td>propn</td>\n",
       "      <td>punct</td>\n",
       "      <td>adp</td>\n",
       "      <td>det</td>\n",
       "      <td>noun</td>\n",
       "      <td>punct</td>\n",
       "      <td>propn</td>\n",
       "      <td>cconj</td>\n",
       "      <td>det</td>\n",
       "      <td>propn</td>\n",
       "      <td>propn</td>\n",
       "      <td>punct</td>\n",
       "      <td>det</td>\n",
       "      <td>noun</td>\n",
       "      <td>adp</td>\n",
       "      <td>det</td>\n",
       "      <td>noun</td>\n",
       "      <td>adp</td>\n",
       "      <td>noun</td>\n",
       "      <td>adp</td>\n",
       "      <td>pron</td>\n",
       "      <td>aux</td>\n",
       "      <td>aux</td>\n",
       "      <td>verb</td>\n",
       "      <td>det</td>\n",
       "      <td>noun</td>\n",
       "      <td>adp</td>\n",
       "      <td>propn</td>\n",
       "      <td>pron</td>\n",
       "      <td>verb</td>\n",
       "      <td>noun</td>\n",
       "      <td>adp</td>\n",
       "      <td>propn</td>\n",
       "      <td>det</td>\n",
       "      <td>num</td>\n",
       "      <td>adp</td>\n",
       "      <td>noun</td>\n",
       "      <td>punct</td>\n",
       "      <td>det</td>\n",
       "      <td>noun</td>\n",
       "      <td>adp</td>\n",
       "      <td>noun</td>\n",
       "      <td>adp</td>\n",
       "      <td>det</td>\n",
       "      <td>noun</td>\n",
       "      <td>adp</td>\n",
       "      <td>noun</td>\n",
       "      <td>adp</td>\n",
       "      <td>det</td>\n",
       "      <td>noun</td>\n",
       "      <td>punct</td>\n",
       "      <td>verb</td>\n",
       "      <td>noun</td>\n",
       "      <td>adp</td>\n",
       "      <td>det</td>\n",
       "      <td>propn</td>\n",
       "      <td>punct</td>\n",
       "      <td>adj</td>\n",
       "      <td>adv</td>\n",
       "      <td>_</td>\n",
       "      <td>adp</td>\n",
       "      <td>det</td>\n",
       "      <td>noun</td>\n",
       "      <td>adj</td>\n",
       "      <td>cconj</td>\n",
       "      <td>adj</td>\n",
       "      <td>punct</td>\n",
       "      <td>cconj</td>\n",
       "      <td>det</td>\n",
       "      <td>noun</td>\n",
       "      <td>adp</td>\n",
       "      <td>noun</td>\n",
       "      <td>punct</td>\n",
       "      <td>adj</td>\n",
       "      <td>adp</td>\n",
       "      <td>_</td>\n",
       "      <td>adp</td>\n",
       "      <td>det</td>\n",
       "      <td>noun</td>\n",
       "      <td>_</td>\n",
       "      <td>adp</td>\n",
       "      <td>det</td>\n",
       "      <td>propn</td>\n",
       "      <td>adp</td>\n",
       "      <td>det</td>\n",
       "      <td>propn</td>\n",
       "      <td>punct</td>\n",
       "    </tr>\n",
       "  </tbody>\n",
       "</table>\n",
       "</div>"
      ],
      "text/plain": [
       "          0    1      2    3           4     5        6    7           8    \\\n",
       "tokens  entre  els  actes   ja  concertats    en  destaca   l'  espectacle   \n",
       "tags      adp  det   noun  adv         adj  pron     verb  det        noun   \n",
       "\n",
       "          9          10         11     12     13  14   15   16      17   \\\n",
       "tokens      '  testimoni  verdaguer      '      ,  al    a   el  teatre   \n",
       "tags    punct      propn      propn  punct  punct   _  adp  det   propn   \n",
       "\n",
       "             18   19         20     21   22    23   24   25    26     27   \\\n",
       "tokens  nacional   de  catalunya      ,   el   dia   29   de  juny      ,   \n",
       "tags       propn  adp      propn  punct  det  noun  num  adp  noun  punct   \n",
       "\n",
       "        28   29          30   31           32  33   34   35     36   37   \\\n",
       "tokens  amb  una  diversitat   d'  iniciatives  al    a   el  llarg   de   \n",
       "tags    adp  det        noun  adp         noun   _  adp  det   noun  adp   \n",
       "\n",
       "         38   39       40     41   42       43   44           45     46   \\\n",
       "tokens  tota   la  jornada      ;   un  conjunt   d'  exposicions      ,   \n",
       "tags     det  det     noun  punct  det     noun  adp         noun  punct   \n",
       "\n",
       "                 47   48   49          50   51         52     53   54   \\\n",
       "tokens  organitzades  per   la  biblioteca   de  catalunya      ,   la   \n",
       "tags             adj  adp  det       propn  adp      propn  punct  det   \n",
       "\n",
       "            55   56   57     58    59          60   61     62   63   64   65   \\\n",
       "tokens  primera   de  les  quals    s'  inaugurarà    a    vic   el    7   de   \n",
       "tags        adj  adp  det   pron  pron        verb  adp  propn  det  num  adp   \n",
       "\n",
       "         66     67   68          69   70   71     72           73     74   \\\n",
       "tokens  juny      ;   la  celebració   d'  una  festa  tipogràfica      ,   \n",
       "tags    noun  punct  det        noun  adp  det  propn        propn  punct   \n",
       "\n",
       "         75   76   77       78     79    80   81   82      83   84   85   86   \\\n",
       "tokens  dins   de   la  popular  festa  dels   de  els  súpers  del   de   el   \n",
       "tags     adv  adp  det      adj  propn     _  adp  det   propn    _  adp  det   \n",
       "\n",
       "          87     88   89   90     91     92   93   94       95     96   \\\n",
       "tokens   club  super    3   de    tv3      ,    a   l'  octubre      ;   \n",
       "tags    propn  propn  num  adp  propn  punct  adp  det     noun  punct   \n",
       "\n",
       "              97     98   99        100       101    102  103        104  105  \\\n",
       "tokens  verdaguer      i  les  llengües  europees      ,   un  homenatge    a   \n",
       "tags        propn  cconj  det     propn     propn  punct  det       noun  adp   \n",
       "\n",
       "        106         107  108       109  110   111  112    113       114  115  \\\n",
       "tokens   la  pluralitat   de  llengües    a   què   ha  estat  traduïda   l'   \n",
       "tags    det        noun  adp      noun  adp  pron  aux    aux      verb  det   \n",
       "\n",
       "         116  117        118   119     120   121  122    123  124  125  126  \\\n",
       "tokens  obra   de  verdaguer   que  tindrà  lloc    a  berga   l'   11   de   \n",
       "tags    noun  adp      propn  pron    verb  noun  adp  propn  det  num  adp   \n",
       "\n",
       "             127    128  129       130  131       132  133  134      135  136  \\\n",
       "tokens  setembre      ;  una  campanya   de  promoció   de   la  lectura    a   \n",
       "tags        noun  punct  det      noun  adp      noun  adp  det     noun  adp   \n",
       "\n",
       "           137  138  139           140    141   142   143  144  145  \\\n",
       "tokens  través   de  les  biblioteques      ,  fent    ús   de   l'   \n",
       "tags      noun  adp  det          noun  punct  verb  noun  adp  det   \n",
       "\n",
       "              146    147       148       149 150  151  152     153       154  \\\n",
       "tokens  atlàntida      ,  adreçada  sobretot  al    a   el  públic  infantil   \n",
       "tags        propn  punct       adj       adv   _  adp  det    noun       adj   \n",
       "\n",
       "          155      156    157    158  159   160  161      162    163      164  \\\n",
       "tokens      i  juvenil      ,      i   un  acte   de  cloenda      ,  previst   \n",
       "tags    cconj      adj  punct  cconj  det  noun  adp     noun  punct      adj   \n",
       "\n",
       "        165 166  167  168       169 170  171  172    173  174  175     176  \\\n",
       "tokens  per  al    a   el  novembre  al    a   el  palau   de   la  música   \n",
       "tags    adp   _  adp  det      noun   _  adp  det  propn  adp  det   propn   \n",
       "\n",
       "          177  \n",
       "tokens      .  \n",
       "tags    punct  "
      ]
     },
     "execution_count": 14,
     "metadata": {},
     "output_type": "execute_result"
    }
   ],
   "source": [
    "visualize_sample(test_info, max_idx)"
   ]
  },
  {
   "cell_type": "markdown",
   "metadata": {},
   "source": [
    "* Once more, the longest sentence contains an enumeration of descriptive and detailed a items.\n",
    "* There are also lots of tokens assigned to punctuation signs (quotes, commas, etc)\n",
    "* The shortest sentence in this case is a number (of a year) on its own and the punctuation sign.\n",
    "\n",
    "# Words\n",
    "\n",
    "Let's now take a look at the distribution of the data:\n",
    "\n",
    "✏️ It is recommended to play with the plots shown below. They can be inreacted with in the following ways:\n",
    "* Hover over the plots to see extra informations of the bars (sometimes not shown in the axes due to lack of space).\n",
    "* Zoom in any interval to check specific values.\n",
    "* Top right menu to perform different operations, such as reset the plot to the original state using the house icon."
   ]
  },
  {
   "cell_type": "code",
   "execution_count": 15,
   "metadata": {},
   "outputs": [],
   "source": [
    "train_word_counts, train_tag_counts, train_pair_counts = build_counts(train_info)\n",
    "test_word_counts, test_tag_counts, test_pair_counts = build_counts(test_info)"
   ]
  },
  {
   "cell_type": "code",
   "execution_count": 16,
   "metadata": {},
   "outputs": [
    {
     "data": {
      "application/vnd.plotly.v1+json": {
       "config": {
        "plotlyServerURL": "https://plot.ly"
       },
       "data": [
        {
         "type": "bar",
         "x": [
          "de",
          ",",
          "el",
          "la",
          "a",
          ".",
          "que",
          "i",
          "l'",
          "els",
          "d'",
          "per",
          "en",
          "del",
          "_",
          "les",
          "un",
          "ha",
          "va",
          "\"",
          "amb",
          "una",
          "'",
          "es",
          "al",
          "no",
          "dels",
          "s'",
          "és",
          "més",
          "com",
          "(",
          ")",
          "van",
          "aquest",
          "han",
          "hi",
          "aquesta",
          "seva",
          "seu",
          "també",
          "als",
          "ser",
          "-",
          "entre",
          "segons",
          "any",
          "anys",
          "estat",
          "però"
         ],
         "xaxis": "x",
         "y": [
          30344,
          20933,
          18813,
          15225,
          13214,
          12972,
          10949,
          10038,
          8033,
          7216,
          6684,
          5793,
          5652,
          5379,
          5000,
          4857,
          4322,
          4069,
          4045,
          3525,
          3224,
          3197,
          2943,
          2649,
          2618,
          2338,
          2070,
          1813,
          1793,
          1726,
          1539,
          1326,
          1326,
          1259,
          1185,
          1096,
          1047,
          996,
          941,
          830,
          803,
          792,
          775,
          774,
          754,
          753,
          736,
          700,
          696,
          691
         ],
         "yaxis": "y"
        },
        {
         "type": "bar",
         "x": [
          "de",
          ",",
          "el",
          "la",
          ".",
          "a",
          "que",
          "i",
          "l'",
          "els",
          "d'",
          "en",
          "del",
          "per",
          "les",
          "va",
          "_",
          "un",
          "ha",
          "'",
          "amb",
          "\"",
          "una",
          "es",
          "al",
          "no",
          "dels",
          "s'",
          "és",
          "més",
          "com",
          "aquest",
          "(",
          ")",
          "van",
          "hi",
          "han",
          "aquesta",
          "seva",
          "també",
          "als",
          "ser",
          "any",
          "seu",
          "ja",
          "entre",
          "estat",
          "segons",
          "anys",
          "o"
         ],
         "xaxis": "x2",
         "y": [
          4332,
          2947,
          2578,
          2230,
          1837,
          1803,
          1404,
          1378,
          1173,
          1007,
          881,
          823,
          769,
          762,
          652,
          616,
          599,
          580,
          515,
          491,
          462,
          456,
          425,
          356,
          323,
          303,
          285,
          277,
          229,
          215,
          204,
          194,
          179,
          179,
          166,
          142,
          139,
          126,
          126,
          124,
          122,
          118,
          111,
          107,
          105,
          103,
          101,
          92,
          89,
          89
         ],
         "yaxis": "y2"
        }
       ],
       "layout": {
        "annotations": [
         {
          "font": {
           "size": 16
          },
          "showarrow": false,
          "text": "Train data",
          "x": 0.225,
          "xanchor": "center",
          "xref": "paper",
          "y": 1,
          "yanchor": "bottom",
          "yref": "paper"
         },
         {
          "font": {
           "size": 16
          },
          "showarrow": false,
          "text": "Test data",
          "x": 0.775,
          "xanchor": "center",
          "xref": "paper",
          "y": 1,
          "yanchor": "bottom",
          "yref": "paper"
         }
        ],
        "showlegend": false,
        "template": {
         "data": {
          "bar": [
           {
            "error_x": {
             "color": "#2a3f5f"
            },
            "error_y": {
             "color": "#2a3f5f"
            },
            "marker": {
             "line": {
              "color": "#E5ECF6",
              "width": 0.5
             },
             "pattern": {
              "fillmode": "overlay",
              "size": 10,
              "solidity": 0.2
             }
            },
            "type": "bar"
           }
          ],
          "barpolar": [
           {
            "marker": {
             "line": {
              "color": "#E5ECF6",
              "width": 0.5
             },
             "pattern": {
              "fillmode": "overlay",
              "size": 10,
              "solidity": 0.2
             }
            },
            "type": "barpolar"
           }
          ],
          "carpet": [
           {
            "aaxis": {
             "endlinecolor": "#2a3f5f",
             "gridcolor": "white",
             "linecolor": "white",
             "minorgridcolor": "white",
             "startlinecolor": "#2a3f5f"
            },
            "baxis": {
             "endlinecolor": "#2a3f5f",
             "gridcolor": "white",
             "linecolor": "white",
             "minorgridcolor": "white",
             "startlinecolor": "#2a3f5f"
            },
            "type": "carpet"
           }
          ],
          "choropleth": [
           {
            "colorbar": {
             "outlinewidth": 0,
             "ticks": ""
            },
            "type": "choropleth"
           }
          ],
          "contour": [
           {
            "colorbar": {
             "outlinewidth": 0,
             "ticks": ""
            },
            "colorscale": [
             [
              0,
              "#0d0887"
             ],
             [
              0.1111111111111111,
              "#46039f"
             ],
             [
              0.2222222222222222,
              "#7201a8"
             ],
             [
              0.3333333333333333,
              "#9c179e"
             ],
             [
              0.4444444444444444,
              "#bd3786"
             ],
             [
              0.5555555555555556,
              "#d8576b"
             ],
             [
              0.6666666666666666,
              "#ed7953"
             ],
             [
              0.7777777777777778,
              "#fb9f3a"
             ],
             [
              0.8888888888888888,
              "#fdca26"
             ],
             [
              1,
              "#f0f921"
             ]
            ],
            "type": "contour"
           }
          ],
          "contourcarpet": [
           {
            "colorbar": {
             "outlinewidth": 0,
             "ticks": ""
            },
            "type": "contourcarpet"
           }
          ],
          "heatmap": [
           {
            "colorbar": {
             "outlinewidth": 0,
             "ticks": ""
            },
            "colorscale": [
             [
              0,
              "#0d0887"
             ],
             [
              0.1111111111111111,
              "#46039f"
             ],
             [
              0.2222222222222222,
              "#7201a8"
             ],
             [
              0.3333333333333333,
              "#9c179e"
             ],
             [
              0.4444444444444444,
              "#bd3786"
             ],
             [
              0.5555555555555556,
              "#d8576b"
             ],
             [
              0.6666666666666666,
              "#ed7953"
             ],
             [
              0.7777777777777778,
              "#fb9f3a"
             ],
             [
              0.8888888888888888,
              "#fdca26"
             ],
             [
              1,
              "#f0f921"
             ]
            ],
            "type": "heatmap"
           }
          ],
          "heatmapgl": [
           {
            "colorbar": {
             "outlinewidth": 0,
             "ticks": ""
            },
            "colorscale": [
             [
              0,
              "#0d0887"
             ],
             [
              0.1111111111111111,
              "#46039f"
             ],
             [
              0.2222222222222222,
              "#7201a8"
             ],
             [
              0.3333333333333333,
              "#9c179e"
             ],
             [
              0.4444444444444444,
              "#bd3786"
             ],
             [
              0.5555555555555556,
              "#d8576b"
             ],
             [
              0.6666666666666666,
              "#ed7953"
             ],
             [
              0.7777777777777778,
              "#fb9f3a"
             ],
             [
              0.8888888888888888,
              "#fdca26"
             ],
             [
              1,
              "#f0f921"
             ]
            ],
            "type": "heatmapgl"
           }
          ],
          "histogram": [
           {
            "marker": {
             "pattern": {
              "fillmode": "overlay",
              "size": 10,
              "solidity": 0.2
             }
            },
            "type": "histogram"
           }
          ],
          "histogram2d": [
           {
            "colorbar": {
             "outlinewidth": 0,
             "ticks": ""
            },
            "colorscale": [
             [
              0,
              "#0d0887"
             ],
             [
              0.1111111111111111,
              "#46039f"
             ],
             [
              0.2222222222222222,
              "#7201a8"
             ],
             [
              0.3333333333333333,
              "#9c179e"
             ],
             [
              0.4444444444444444,
              "#bd3786"
             ],
             [
              0.5555555555555556,
              "#d8576b"
             ],
             [
              0.6666666666666666,
              "#ed7953"
             ],
             [
              0.7777777777777778,
              "#fb9f3a"
             ],
             [
              0.8888888888888888,
              "#fdca26"
             ],
             [
              1,
              "#f0f921"
             ]
            ],
            "type": "histogram2d"
           }
          ],
          "histogram2dcontour": [
           {
            "colorbar": {
             "outlinewidth": 0,
             "ticks": ""
            },
            "colorscale": [
             [
              0,
              "#0d0887"
             ],
             [
              0.1111111111111111,
              "#46039f"
             ],
             [
              0.2222222222222222,
              "#7201a8"
             ],
             [
              0.3333333333333333,
              "#9c179e"
             ],
             [
              0.4444444444444444,
              "#bd3786"
             ],
             [
              0.5555555555555556,
              "#d8576b"
             ],
             [
              0.6666666666666666,
              "#ed7953"
             ],
             [
              0.7777777777777778,
              "#fb9f3a"
             ],
             [
              0.8888888888888888,
              "#fdca26"
             ],
             [
              1,
              "#f0f921"
             ]
            ],
            "type": "histogram2dcontour"
           }
          ],
          "mesh3d": [
           {
            "colorbar": {
             "outlinewidth": 0,
             "ticks": ""
            },
            "type": "mesh3d"
           }
          ],
          "parcoords": [
           {
            "line": {
             "colorbar": {
              "outlinewidth": 0,
              "ticks": ""
             }
            },
            "type": "parcoords"
           }
          ],
          "pie": [
           {
            "automargin": true,
            "type": "pie"
           }
          ],
          "scatter": [
           {
            "fillpattern": {
             "fillmode": "overlay",
             "size": 10,
             "solidity": 0.2
            },
            "type": "scatter"
           }
          ],
          "scatter3d": [
           {
            "line": {
             "colorbar": {
              "outlinewidth": 0,
              "ticks": ""
             }
            },
            "marker": {
             "colorbar": {
              "outlinewidth": 0,
              "ticks": ""
             }
            },
            "type": "scatter3d"
           }
          ],
          "scattercarpet": [
           {
            "marker": {
             "colorbar": {
              "outlinewidth": 0,
              "ticks": ""
             }
            },
            "type": "scattercarpet"
           }
          ],
          "scattergeo": [
           {
            "marker": {
             "colorbar": {
              "outlinewidth": 0,
              "ticks": ""
             }
            },
            "type": "scattergeo"
           }
          ],
          "scattergl": [
           {
            "marker": {
             "colorbar": {
              "outlinewidth": 0,
              "ticks": ""
             }
            },
            "type": "scattergl"
           }
          ],
          "scattermapbox": [
           {
            "marker": {
             "colorbar": {
              "outlinewidth": 0,
              "ticks": ""
             }
            },
            "type": "scattermapbox"
           }
          ],
          "scatterpolar": [
           {
            "marker": {
             "colorbar": {
              "outlinewidth": 0,
              "ticks": ""
             }
            },
            "type": "scatterpolar"
           }
          ],
          "scatterpolargl": [
           {
            "marker": {
             "colorbar": {
              "outlinewidth": 0,
              "ticks": ""
             }
            },
            "type": "scatterpolargl"
           }
          ],
          "scatterternary": [
           {
            "marker": {
             "colorbar": {
              "outlinewidth": 0,
              "ticks": ""
             }
            },
            "type": "scatterternary"
           }
          ],
          "surface": [
           {
            "colorbar": {
             "outlinewidth": 0,
             "ticks": ""
            },
            "colorscale": [
             [
              0,
              "#0d0887"
             ],
             [
              0.1111111111111111,
              "#46039f"
             ],
             [
              0.2222222222222222,
              "#7201a8"
             ],
             [
              0.3333333333333333,
              "#9c179e"
             ],
             [
              0.4444444444444444,
              "#bd3786"
             ],
             [
              0.5555555555555556,
              "#d8576b"
             ],
             [
              0.6666666666666666,
              "#ed7953"
             ],
             [
              0.7777777777777778,
              "#fb9f3a"
             ],
             [
              0.8888888888888888,
              "#fdca26"
             ],
             [
              1,
              "#f0f921"
             ]
            ],
            "type": "surface"
           }
          ],
          "table": [
           {
            "cells": {
             "fill": {
              "color": "#EBF0F8"
             },
             "line": {
              "color": "white"
             }
            },
            "header": {
             "fill": {
              "color": "#C8D4E3"
             },
             "line": {
              "color": "white"
             }
            },
            "type": "table"
           }
          ]
         },
         "layout": {
          "annotationdefaults": {
           "arrowcolor": "#2a3f5f",
           "arrowhead": 0,
           "arrowwidth": 1
          },
          "autotypenumbers": "strict",
          "coloraxis": {
           "colorbar": {
            "outlinewidth": 0,
            "ticks": ""
           }
          },
          "colorscale": {
           "diverging": [
            [
             0,
             "#8e0152"
            ],
            [
             0.1,
             "#c51b7d"
            ],
            [
             0.2,
             "#de77ae"
            ],
            [
             0.3,
             "#f1b6da"
            ],
            [
             0.4,
             "#fde0ef"
            ],
            [
             0.5,
             "#f7f7f7"
            ],
            [
             0.6,
             "#e6f5d0"
            ],
            [
             0.7,
             "#b8e186"
            ],
            [
             0.8,
             "#7fbc41"
            ],
            [
             0.9,
             "#4d9221"
            ],
            [
             1,
             "#276419"
            ]
           ],
           "sequential": [
            [
             0,
             "#0d0887"
            ],
            [
             0.1111111111111111,
             "#46039f"
            ],
            [
             0.2222222222222222,
             "#7201a8"
            ],
            [
             0.3333333333333333,
             "#9c179e"
            ],
            [
             0.4444444444444444,
             "#bd3786"
            ],
            [
             0.5555555555555556,
             "#d8576b"
            ],
            [
             0.6666666666666666,
             "#ed7953"
            ],
            [
             0.7777777777777778,
             "#fb9f3a"
            ],
            [
             0.8888888888888888,
             "#fdca26"
            ],
            [
             1,
             "#f0f921"
            ]
           ],
           "sequentialminus": [
            [
             0,
             "#0d0887"
            ],
            [
             0.1111111111111111,
             "#46039f"
            ],
            [
             0.2222222222222222,
             "#7201a8"
            ],
            [
             0.3333333333333333,
             "#9c179e"
            ],
            [
             0.4444444444444444,
             "#bd3786"
            ],
            [
             0.5555555555555556,
             "#d8576b"
            ],
            [
             0.6666666666666666,
             "#ed7953"
            ],
            [
             0.7777777777777778,
             "#fb9f3a"
            ],
            [
             0.8888888888888888,
             "#fdca26"
            ],
            [
             1,
             "#f0f921"
            ]
           ]
          },
          "colorway": [
           "#636efa",
           "#EF553B",
           "#00cc96",
           "#ab63fa",
           "#FFA15A",
           "#19d3f3",
           "#FF6692",
           "#B6E880",
           "#FF97FF",
           "#FECB52"
          ],
          "font": {
           "color": "#2a3f5f"
          },
          "geo": {
           "bgcolor": "white",
           "lakecolor": "white",
           "landcolor": "#E5ECF6",
           "showlakes": true,
           "showland": true,
           "subunitcolor": "white"
          },
          "hoverlabel": {
           "align": "left"
          },
          "hovermode": "closest",
          "mapbox": {
           "style": "light"
          },
          "paper_bgcolor": "white",
          "plot_bgcolor": "#E5ECF6",
          "polar": {
           "angularaxis": {
            "gridcolor": "white",
            "linecolor": "white",
            "ticks": ""
           },
           "bgcolor": "#E5ECF6",
           "radialaxis": {
            "gridcolor": "white",
            "linecolor": "white",
            "ticks": ""
           }
          },
          "scene": {
           "xaxis": {
            "backgroundcolor": "#E5ECF6",
            "gridcolor": "white",
            "gridwidth": 2,
            "linecolor": "white",
            "showbackground": true,
            "ticks": "",
            "zerolinecolor": "white"
           },
           "yaxis": {
            "backgroundcolor": "#E5ECF6",
            "gridcolor": "white",
            "gridwidth": 2,
            "linecolor": "white",
            "showbackground": true,
            "ticks": "",
            "zerolinecolor": "white"
           },
           "zaxis": {
            "backgroundcolor": "#E5ECF6",
            "gridcolor": "white",
            "gridwidth": 2,
            "linecolor": "white",
            "showbackground": true,
            "ticks": "",
            "zerolinecolor": "white"
           }
          },
          "shapedefaults": {
           "line": {
            "color": "#2a3f5f"
           }
          },
          "ternary": {
           "aaxis": {
            "gridcolor": "white",
            "linecolor": "white",
            "ticks": ""
           },
           "baxis": {
            "gridcolor": "white",
            "linecolor": "white",
            "ticks": ""
           },
           "bgcolor": "#E5ECF6",
           "caxis": {
            "gridcolor": "white",
            "linecolor": "white",
            "ticks": ""
           }
          },
          "title": {
           "x": 0.05
          },
          "xaxis": {
           "automargin": true,
           "gridcolor": "white",
           "linecolor": "white",
           "ticks": "",
           "title": {
            "standoff": 15
           },
           "zerolinecolor": "white",
           "zerolinewidth": 2
          },
          "yaxis": {
           "automargin": true,
           "gridcolor": "white",
           "linecolor": "white",
           "ticks": "",
           "title": {
            "standoff": 15
           },
           "zerolinecolor": "white",
           "zerolinewidth": 2
          }
         }
        },
        "xaxis": {
         "anchor": "y",
         "domain": [
          0,
          0.45
         ],
         "title": {
          "text": "Words"
         }
        },
        "xaxis2": {
         "anchor": "y2",
         "domain": [
          0.55,
          1
         ],
         "title": {
          "text": "Words"
         }
        },
        "yaxis": {
         "anchor": "x",
         "domain": [
          0,
          1
         ],
         "title": {
          "text": "Ocurrences"
         }
        },
        "yaxis2": {
         "anchor": "x2",
         "domain": [
          0,
          1
         ],
         "title": {
          "text": "Ocurrences"
         }
        }
       }
      }
     },
     "metadata": {},
     "output_type": "display_data"
    }
   ],
   "source": [
    "plot_frequency_of_(\"words\", train_word_counts, test_word_counts)"
   ]
  },
  {
   "cell_type": "markdown",
   "metadata": {},
   "source": [
    "* This plot shows the frequency of the top 50 most common tokens (since showing them all returned too much information)\n",
    "* Both, train and test data, seem to have a similar distribution on the top tokens of the vocabulary.\n",
    "* The most frequent tokens are \"de\" (of/from), the comma token \",\", \"el\" and \"la\" (the masculine and femenine article determiner \"the\").\n",
    "* \"A\" has more occurrences in the train data than the \".\" token, and reversed in the test data. However, in both cases the number of occurrences is pretty similar in both.\n",
    "* In general, the distribution of the tags us quite similar in both cases."
   ]
  },
  {
   "cell_type": "markdown",
   "metadata": {},
   "source": [
    "# Tags"
   ]
  },
  {
   "cell_type": "markdown",
   "metadata": {},
   "source": [
    "We have a total of 17 tags (for a further explanation, it can be checked [here](https://universaldependencies.org/u/pos/))\n",
    "1. Noun $\\rightarrow$ common nouns\n",
    "2. Adp  $\\rightarrow$ adposition\n",
    "3. Det  $\\rightarrow$ determiners\n",
    "4. Punct    $\\rightarrow$ punctuation signs\n",
    "5. PropN    $\\rightarrow$ proper nouns\n",
    "6. Verb $\\rightarrow$ verbs\n",
    "7. Adj  $\\rightarrow$ adjectives\n",
    "8. Pron $\\rightarrow$ pronouns\n",
    "9. Aux  $\\rightarrow$ auxiliary\n",
    "10. `-`   $\\rightarrow$ the token means nothing. It is not included in the list of tag of the universal dependencies, but must be ignored. In this dataset, it appears when splitting the particle \"del\" as explained some sections above.\n",
    "11. Adv $\\rightarrow$ adverb\n",
    "12. Cconj   $\\rightarrow$ coordinating conjunction\n",
    "13. Sconj   $\\rightarrow$ subordinating conjunction\n",
    "14. Num $\\rightarrow$ numeral\n",
    "15. Sym $\\rightarrow$ symbol\n",
    "16. Part    $\\rightarrow$ particle\n",
    "17. Intj    $\\rightarrow$ interjection\n",
    "18. x   $\\rightarrow$ other\n",
    "\n",
    "Let's check an example for each:"
   ]
  },
  {
   "cell_type": "code",
   "execution_count": 17,
   "metadata": {},
   "outputs": [
    {
     "data": {
      "text/html": [
       "<div>\n",
       "<style scoped>\n",
       "    .dataframe tbody tr th:only-of-type {\n",
       "        vertical-align: middle;\n",
       "    }\n",
       "\n",
       "    .dataframe tbody tr th {\n",
       "        vertical-align: top;\n",
       "    }\n",
       "\n",
       "    .dataframe thead th {\n",
       "        text-align: right;\n",
       "    }\n",
       "</style>\n",
       "<table border=\"1\" class=\"dataframe\">\n",
       "  <thead>\n",
       "    <tr style=\"text-align: right;\">\n",
       "      <th></th>\n",
       "      <th>tokens</th>\n",
       "      <th>tags</th>\n",
       "    </tr>\n",
       "  </thead>\n",
       "  <tbody>\n",
       "    <tr>\n",
       "      <th>0</th>\n",
       "      <td>el</td>\n",
       "      <td>det</td>\n",
       "    </tr>\n",
       "    <tr>\n",
       "      <th>1</th>\n",
       "      <td>tribunal</td>\n",
       "      <td>propn</td>\n",
       "    </tr>\n",
       "    <tr>\n",
       "      <th>3</th>\n",
       "      <td>(</td>\n",
       "      <td>punct</td>\n",
       "    </tr>\n",
       "    <tr>\n",
       "      <th>6</th>\n",
       "      <td>ha</td>\n",
       "      <td>aux</td>\n",
       "    </tr>\n",
       "    <tr>\n",
       "      <th>7</th>\n",
       "      <td>confirmat</td>\n",
       "      <td>verb</td>\n",
       "    </tr>\n",
       "    <tr>\n",
       "      <th>9</th>\n",
       "      <td>condemna</td>\n",
       "      <td>noun</td>\n",
       "    </tr>\n",
       "    <tr>\n",
       "      <th>10</th>\n",
       "      <td>a</td>\n",
       "      <td>adp</td>\n",
       "    </tr>\n",
       "    <tr>\n",
       "      <th>11</th>\n",
       "      <td>quatre</td>\n",
       "      <td>num</td>\n",
       "    </tr>\n",
       "    <tr>\n",
       "      <th>15</th>\n",
       "      <td>especial</td>\n",
       "      <td>adj</td>\n",
       "    </tr>\n",
       "    <tr>\n",
       "      <th>16</th>\n",
       "      <td>i</td>\n",
       "      <td>cconj</td>\n",
       "    </tr>\n",
       "    <tr>\n",
       "      <th>31</th>\n",
       "      <td>haver-se</td>\n",
       "      <td>_</td>\n",
       "    </tr>\n",
       "    <tr>\n",
       "      <th>33</th>\n",
       "      <td>se</td>\n",
       "      <td>pron</td>\n",
       "    </tr>\n",
       "    <tr>\n",
       "      <th>112</th>\n",
       "      <td>com</td>\n",
       "      <td>sconj</td>\n",
       "    </tr>\n",
       "    <tr>\n",
       "      <th>291</th>\n",
       "      <td>no</td>\n",
       "      <td>adv</td>\n",
       "    </tr>\n",
       "    <tr>\n",
       "      <th>3482</th>\n",
       "      <td>%</td>\n",
       "      <td>sym</td>\n",
       "    </tr>\n",
       "    <tr>\n",
       "      <th>4019</th>\n",
       "      <td>no</td>\n",
       "      <td>part</td>\n",
       "    </tr>\n",
       "    <tr>\n",
       "      <th>40173</th>\n",
       "      <td>8'5</td>\n",
       "      <td>x</td>\n",
       "    </tr>\n",
       "    <tr>\n",
       "      <th>204413</th>\n",
       "      <td>compte</td>\n",
       "      <td>intj</td>\n",
       "    </tr>\n",
       "  </tbody>\n",
       "</table>\n",
       "</div>"
      ],
      "text/plain": [
       "           tokens   tags\n",
       "0              el    det\n",
       "1        tribunal  propn\n",
       "3               (  punct\n",
       "6              ha    aux\n",
       "7       confirmat   verb\n",
       "9        condemna   noun\n",
       "10              a    adp\n",
       "11         quatre    num\n",
       "15       especial    adj\n",
       "16              i  cconj\n",
       "31       haver-se      _\n",
       "33             se   pron\n",
       "112           com  sconj\n",
       "291            no    adv\n",
       "3482            %    sym\n",
       "4019           no   part\n",
       "40173         8'5      x\n",
       "204413     compte   intj"
      ]
     },
     "execution_count": 17,
     "metadata": {},
     "output_type": "execute_result"
    }
   ],
   "source": [
    "train_df[[\"tokens\", \"tags\"]].drop_duplicates([\"tags\"])"
   ]
  },
  {
   "cell_type": "markdown",
   "metadata": {},
   "source": [
    "And their frequency and distribution:"
   ]
  },
  {
   "cell_type": "code",
   "execution_count": 18,
   "metadata": {},
   "outputs": [
    {
     "data": {
      "application/vnd.plotly.v1+json": {
       "config": {
        "plotlyServerURL": "https://plot.ly"
       },
       "data": [
        {
         "type": "bar",
         "x": [
          "noun",
          "adp",
          "det",
          "punct",
          "propn",
          "verb",
          "adj",
          "pron",
          "aux",
          "_",
          "adv",
          "cconj",
          "sconj",
          "num",
          "sym",
          "part",
          "intj",
          "x"
         ],
         "xaxis": "x",
         "y": [
          77573,
          69040,
          68331,
          44968,
          36297,
          32979,
          23607,
          23497,
          17370,
          12440,
          12149,
          11797,
          8366,
          7393,
          641,
          113,
          11,
          8
         ],
         "yaxis": "y"
        },
        {
         "type": "bar",
         "x": [
          "noun",
          "adp",
          "det",
          "punct",
          "propn",
          "verb",
          "adj",
          "pron",
          "aux",
          "_",
          "cconj",
          "adv",
          "num",
          "sconj",
          "sym",
          "part",
          "intj"
         ],
         "xaxis": "x2",
         "y": [
          10666,
          9607,
          9567,
          6341,
          5569,
          4373,
          3257,
          3086,
          2300,
          1715,
          1605,
          1600,
          1008,
          999,
          105,
          21,
          3
         ],
         "yaxis": "y2"
        }
       ],
       "layout": {
        "annotations": [
         {
          "font": {
           "size": 16
          },
          "showarrow": false,
          "text": "Train data",
          "x": 0.225,
          "xanchor": "center",
          "xref": "paper",
          "y": 1,
          "yanchor": "bottom",
          "yref": "paper"
         },
         {
          "font": {
           "size": 16
          },
          "showarrow": false,
          "text": "Test data",
          "x": 0.775,
          "xanchor": "center",
          "xref": "paper",
          "y": 1,
          "yanchor": "bottom",
          "yref": "paper"
         }
        ],
        "showlegend": false,
        "template": {
         "data": {
          "bar": [
           {
            "error_x": {
             "color": "#2a3f5f"
            },
            "error_y": {
             "color": "#2a3f5f"
            },
            "marker": {
             "line": {
              "color": "#E5ECF6",
              "width": 0.5
             },
             "pattern": {
              "fillmode": "overlay",
              "size": 10,
              "solidity": 0.2
             }
            },
            "type": "bar"
           }
          ],
          "barpolar": [
           {
            "marker": {
             "line": {
              "color": "#E5ECF6",
              "width": 0.5
             },
             "pattern": {
              "fillmode": "overlay",
              "size": 10,
              "solidity": 0.2
             }
            },
            "type": "barpolar"
           }
          ],
          "carpet": [
           {
            "aaxis": {
             "endlinecolor": "#2a3f5f",
             "gridcolor": "white",
             "linecolor": "white",
             "minorgridcolor": "white",
             "startlinecolor": "#2a3f5f"
            },
            "baxis": {
             "endlinecolor": "#2a3f5f",
             "gridcolor": "white",
             "linecolor": "white",
             "minorgridcolor": "white",
             "startlinecolor": "#2a3f5f"
            },
            "type": "carpet"
           }
          ],
          "choropleth": [
           {
            "colorbar": {
             "outlinewidth": 0,
             "ticks": ""
            },
            "type": "choropleth"
           }
          ],
          "contour": [
           {
            "colorbar": {
             "outlinewidth": 0,
             "ticks": ""
            },
            "colorscale": [
             [
              0,
              "#0d0887"
             ],
             [
              0.1111111111111111,
              "#46039f"
             ],
             [
              0.2222222222222222,
              "#7201a8"
             ],
             [
              0.3333333333333333,
              "#9c179e"
             ],
             [
              0.4444444444444444,
              "#bd3786"
             ],
             [
              0.5555555555555556,
              "#d8576b"
             ],
             [
              0.6666666666666666,
              "#ed7953"
             ],
             [
              0.7777777777777778,
              "#fb9f3a"
             ],
             [
              0.8888888888888888,
              "#fdca26"
             ],
             [
              1,
              "#f0f921"
             ]
            ],
            "type": "contour"
           }
          ],
          "contourcarpet": [
           {
            "colorbar": {
             "outlinewidth": 0,
             "ticks": ""
            },
            "type": "contourcarpet"
           }
          ],
          "heatmap": [
           {
            "colorbar": {
             "outlinewidth": 0,
             "ticks": ""
            },
            "colorscale": [
             [
              0,
              "#0d0887"
             ],
             [
              0.1111111111111111,
              "#46039f"
             ],
             [
              0.2222222222222222,
              "#7201a8"
             ],
             [
              0.3333333333333333,
              "#9c179e"
             ],
             [
              0.4444444444444444,
              "#bd3786"
             ],
             [
              0.5555555555555556,
              "#d8576b"
             ],
             [
              0.6666666666666666,
              "#ed7953"
             ],
             [
              0.7777777777777778,
              "#fb9f3a"
             ],
             [
              0.8888888888888888,
              "#fdca26"
             ],
             [
              1,
              "#f0f921"
             ]
            ],
            "type": "heatmap"
           }
          ],
          "heatmapgl": [
           {
            "colorbar": {
             "outlinewidth": 0,
             "ticks": ""
            },
            "colorscale": [
             [
              0,
              "#0d0887"
             ],
             [
              0.1111111111111111,
              "#46039f"
             ],
             [
              0.2222222222222222,
              "#7201a8"
             ],
             [
              0.3333333333333333,
              "#9c179e"
             ],
             [
              0.4444444444444444,
              "#bd3786"
             ],
             [
              0.5555555555555556,
              "#d8576b"
             ],
             [
              0.6666666666666666,
              "#ed7953"
             ],
             [
              0.7777777777777778,
              "#fb9f3a"
             ],
             [
              0.8888888888888888,
              "#fdca26"
             ],
             [
              1,
              "#f0f921"
             ]
            ],
            "type": "heatmapgl"
           }
          ],
          "histogram": [
           {
            "marker": {
             "pattern": {
              "fillmode": "overlay",
              "size": 10,
              "solidity": 0.2
             }
            },
            "type": "histogram"
           }
          ],
          "histogram2d": [
           {
            "colorbar": {
             "outlinewidth": 0,
             "ticks": ""
            },
            "colorscale": [
             [
              0,
              "#0d0887"
             ],
             [
              0.1111111111111111,
              "#46039f"
             ],
             [
              0.2222222222222222,
              "#7201a8"
             ],
             [
              0.3333333333333333,
              "#9c179e"
             ],
             [
              0.4444444444444444,
              "#bd3786"
             ],
             [
              0.5555555555555556,
              "#d8576b"
             ],
             [
              0.6666666666666666,
              "#ed7953"
             ],
             [
              0.7777777777777778,
              "#fb9f3a"
             ],
             [
              0.8888888888888888,
              "#fdca26"
             ],
             [
              1,
              "#f0f921"
             ]
            ],
            "type": "histogram2d"
           }
          ],
          "histogram2dcontour": [
           {
            "colorbar": {
             "outlinewidth": 0,
             "ticks": ""
            },
            "colorscale": [
             [
              0,
              "#0d0887"
             ],
             [
              0.1111111111111111,
              "#46039f"
             ],
             [
              0.2222222222222222,
              "#7201a8"
             ],
             [
              0.3333333333333333,
              "#9c179e"
             ],
             [
              0.4444444444444444,
              "#bd3786"
             ],
             [
              0.5555555555555556,
              "#d8576b"
             ],
             [
              0.6666666666666666,
              "#ed7953"
             ],
             [
              0.7777777777777778,
              "#fb9f3a"
             ],
             [
              0.8888888888888888,
              "#fdca26"
             ],
             [
              1,
              "#f0f921"
             ]
            ],
            "type": "histogram2dcontour"
           }
          ],
          "mesh3d": [
           {
            "colorbar": {
             "outlinewidth": 0,
             "ticks": ""
            },
            "type": "mesh3d"
           }
          ],
          "parcoords": [
           {
            "line": {
             "colorbar": {
              "outlinewidth": 0,
              "ticks": ""
             }
            },
            "type": "parcoords"
           }
          ],
          "pie": [
           {
            "automargin": true,
            "type": "pie"
           }
          ],
          "scatter": [
           {
            "fillpattern": {
             "fillmode": "overlay",
             "size": 10,
             "solidity": 0.2
            },
            "type": "scatter"
           }
          ],
          "scatter3d": [
           {
            "line": {
             "colorbar": {
              "outlinewidth": 0,
              "ticks": ""
             }
            },
            "marker": {
             "colorbar": {
              "outlinewidth": 0,
              "ticks": ""
             }
            },
            "type": "scatter3d"
           }
          ],
          "scattercarpet": [
           {
            "marker": {
             "colorbar": {
              "outlinewidth": 0,
              "ticks": ""
             }
            },
            "type": "scattercarpet"
           }
          ],
          "scattergeo": [
           {
            "marker": {
             "colorbar": {
              "outlinewidth": 0,
              "ticks": ""
             }
            },
            "type": "scattergeo"
           }
          ],
          "scattergl": [
           {
            "marker": {
             "colorbar": {
              "outlinewidth": 0,
              "ticks": ""
             }
            },
            "type": "scattergl"
           }
          ],
          "scattermapbox": [
           {
            "marker": {
             "colorbar": {
              "outlinewidth": 0,
              "ticks": ""
             }
            },
            "type": "scattermapbox"
           }
          ],
          "scatterpolar": [
           {
            "marker": {
             "colorbar": {
              "outlinewidth": 0,
              "ticks": ""
             }
            },
            "type": "scatterpolar"
           }
          ],
          "scatterpolargl": [
           {
            "marker": {
             "colorbar": {
              "outlinewidth": 0,
              "ticks": ""
             }
            },
            "type": "scatterpolargl"
           }
          ],
          "scatterternary": [
           {
            "marker": {
             "colorbar": {
              "outlinewidth": 0,
              "ticks": ""
             }
            },
            "type": "scatterternary"
           }
          ],
          "surface": [
           {
            "colorbar": {
             "outlinewidth": 0,
             "ticks": ""
            },
            "colorscale": [
             [
              0,
              "#0d0887"
             ],
             [
              0.1111111111111111,
              "#46039f"
             ],
             [
              0.2222222222222222,
              "#7201a8"
             ],
             [
              0.3333333333333333,
              "#9c179e"
             ],
             [
              0.4444444444444444,
              "#bd3786"
             ],
             [
              0.5555555555555556,
              "#d8576b"
             ],
             [
              0.6666666666666666,
              "#ed7953"
             ],
             [
              0.7777777777777778,
              "#fb9f3a"
             ],
             [
              0.8888888888888888,
              "#fdca26"
             ],
             [
              1,
              "#f0f921"
             ]
            ],
            "type": "surface"
           }
          ],
          "table": [
           {
            "cells": {
             "fill": {
              "color": "#EBF0F8"
             },
             "line": {
              "color": "white"
             }
            },
            "header": {
             "fill": {
              "color": "#C8D4E3"
             },
             "line": {
              "color": "white"
             }
            },
            "type": "table"
           }
          ]
         },
         "layout": {
          "annotationdefaults": {
           "arrowcolor": "#2a3f5f",
           "arrowhead": 0,
           "arrowwidth": 1
          },
          "autotypenumbers": "strict",
          "coloraxis": {
           "colorbar": {
            "outlinewidth": 0,
            "ticks": ""
           }
          },
          "colorscale": {
           "diverging": [
            [
             0,
             "#8e0152"
            ],
            [
             0.1,
             "#c51b7d"
            ],
            [
             0.2,
             "#de77ae"
            ],
            [
             0.3,
             "#f1b6da"
            ],
            [
             0.4,
             "#fde0ef"
            ],
            [
             0.5,
             "#f7f7f7"
            ],
            [
             0.6,
             "#e6f5d0"
            ],
            [
             0.7,
             "#b8e186"
            ],
            [
             0.8,
             "#7fbc41"
            ],
            [
             0.9,
             "#4d9221"
            ],
            [
             1,
             "#276419"
            ]
           ],
           "sequential": [
            [
             0,
             "#0d0887"
            ],
            [
             0.1111111111111111,
             "#46039f"
            ],
            [
             0.2222222222222222,
             "#7201a8"
            ],
            [
             0.3333333333333333,
             "#9c179e"
            ],
            [
             0.4444444444444444,
             "#bd3786"
            ],
            [
             0.5555555555555556,
             "#d8576b"
            ],
            [
             0.6666666666666666,
             "#ed7953"
            ],
            [
             0.7777777777777778,
             "#fb9f3a"
            ],
            [
             0.8888888888888888,
             "#fdca26"
            ],
            [
             1,
             "#f0f921"
            ]
           ],
           "sequentialminus": [
            [
             0,
             "#0d0887"
            ],
            [
             0.1111111111111111,
             "#46039f"
            ],
            [
             0.2222222222222222,
             "#7201a8"
            ],
            [
             0.3333333333333333,
             "#9c179e"
            ],
            [
             0.4444444444444444,
             "#bd3786"
            ],
            [
             0.5555555555555556,
             "#d8576b"
            ],
            [
             0.6666666666666666,
             "#ed7953"
            ],
            [
             0.7777777777777778,
             "#fb9f3a"
            ],
            [
             0.8888888888888888,
             "#fdca26"
            ],
            [
             1,
             "#f0f921"
            ]
           ]
          },
          "colorway": [
           "#636efa",
           "#EF553B",
           "#00cc96",
           "#ab63fa",
           "#FFA15A",
           "#19d3f3",
           "#FF6692",
           "#B6E880",
           "#FF97FF",
           "#FECB52"
          ],
          "font": {
           "color": "#2a3f5f"
          },
          "geo": {
           "bgcolor": "white",
           "lakecolor": "white",
           "landcolor": "#E5ECF6",
           "showlakes": true,
           "showland": true,
           "subunitcolor": "white"
          },
          "hoverlabel": {
           "align": "left"
          },
          "hovermode": "closest",
          "mapbox": {
           "style": "light"
          },
          "paper_bgcolor": "white",
          "plot_bgcolor": "#E5ECF6",
          "polar": {
           "angularaxis": {
            "gridcolor": "white",
            "linecolor": "white",
            "ticks": ""
           },
           "bgcolor": "#E5ECF6",
           "radialaxis": {
            "gridcolor": "white",
            "linecolor": "white",
            "ticks": ""
           }
          },
          "scene": {
           "xaxis": {
            "backgroundcolor": "#E5ECF6",
            "gridcolor": "white",
            "gridwidth": 2,
            "linecolor": "white",
            "showbackground": true,
            "ticks": "",
            "zerolinecolor": "white"
           },
           "yaxis": {
            "backgroundcolor": "#E5ECF6",
            "gridcolor": "white",
            "gridwidth": 2,
            "linecolor": "white",
            "showbackground": true,
            "ticks": "",
            "zerolinecolor": "white"
           },
           "zaxis": {
            "backgroundcolor": "#E5ECF6",
            "gridcolor": "white",
            "gridwidth": 2,
            "linecolor": "white",
            "showbackground": true,
            "ticks": "",
            "zerolinecolor": "white"
           }
          },
          "shapedefaults": {
           "line": {
            "color": "#2a3f5f"
           }
          },
          "ternary": {
           "aaxis": {
            "gridcolor": "white",
            "linecolor": "white",
            "ticks": ""
           },
           "baxis": {
            "gridcolor": "white",
            "linecolor": "white",
            "ticks": ""
           },
           "bgcolor": "#E5ECF6",
           "caxis": {
            "gridcolor": "white",
            "linecolor": "white",
            "ticks": ""
           }
          },
          "title": {
           "x": 0.05
          },
          "xaxis": {
           "automargin": true,
           "gridcolor": "white",
           "linecolor": "white",
           "ticks": "",
           "title": {
            "standoff": 15
           },
           "zerolinecolor": "white",
           "zerolinewidth": 2
          },
          "yaxis": {
           "automargin": true,
           "gridcolor": "white",
           "linecolor": "white",
           "ticks": "",
           "title": {
            "standoff": 15
           },
           "zerolinecolor": "white",
           "zerolinewidth": 2
          }
         }
        },
        "xaxis": {
         "anchor": "y",
         "domain": [
          0,
          0.45
         ],
         "title": {
          "text": "Tags"
         }
        },
        "xaxis2": {
         "anchor": "y2",
         "domain": [
          0.55,
          1
         ],
         "title": {
          "text": "Tags"
         }
        },
        "yaxis": {
         "anchor": "x",
         "domain": [
          0,
          1
         ],
         "title": {
          "text": "Ocurrences"
         }
        },
        "yaxis2": {
         "anchor": "x2",
         "domain": [
          0,
          1
         ],
         "title": {
          "text": "Ocurrences"
         }
        }
       }
      }
     },
     "metadata": {},
     "output_type": "display_data"
    }
   ],
   "source": [
    "plot_frequency_of_(\"tags\", train_tag_counts, test_tag_counts)"
   ]
  },
  {
   "cell_type": "markdown",
   "metadata": {},
   "source": [
    "* The distribution in both datasets is also similar. \n",
    "* The test dataset does not contain any instance of \"x\" ($\\iff$ other)."
   ]
  },
  {
   "cell_type": "markdown",
   "metadata": {},
   "source": [
    "# Tag-Word pairs"
   ]
  },
  {
   "cell_type": "markdown",
   "metadata": {},
   "source": [
    "Now let's check the tag-word pairs frequency. It is important to check this, since a word can be interpreted in different ways according to the context (due to polysemy an/or homonymy)."
   ]
  },
  {
   "cell_type": "code",
   "execution_count": 19,
   "metadata": {},
   "outputs": [
    {
     "data": {
      "application/vnd.plotly.v1+json": {
       "config": {
        "plotlyServerURL": "https://plot.ly"
       },
       "data": [
        {
         "type": "bar",
         "x": [
          "(de,adp)",
          "(,,punct)",
          "(el,det)",
          "(la,det)",
          "(a,adp)",
          "(.,punct)",
          "(i,cconj)",
          "(l',det)",
          "(els,det)",
          "(d',adp)",
          "(per,adp)",
          "(que,pron)",
          "(en,adp)",
          "(del,_)",
          "(que,sconj)",
          "(_,pron)",
          "(les,det)",
          "(va,aux)",
          "(ha,aux)",
          "(un,det)",
          "(\",punct)",
          "(amb,adp)",
          "(una,det)",
          "(',punct)",
          "(es,pron)",
          "(al,_)",
          "(no,adv)",
          "(dels,_)",
          "(s',pron)",
          "(més,adv)",
          "(és,aux)",
          "(com,sconj)",
          "((,punct)",
          "(),punct)",
          "(van,aux)",
          "(aquest,det)",
          "(han,aux)",
          "(hi,pron)",
          "(seva,det)",
          "(aquesta,det)",
          "(als,_)",
          "(també,adv)",
          "(-,punct)",
          "(ser,aux)",
          "(seu,det)",
          "(entre,adp)",
          "(any,noun)",
          "(anys,noun)",
          "(se,pron)",
          "(o,cconj)"
         ],
         "xaxis": "x",
         "y": [
          30344,
          20933,
          18635,
          15053,
          13207,
          12972,
          10038,
          7902,
          7011,
          6684,
          5791,
          5664,
          5570,
          5379,
          5280,
          4999,
          4767,
          4003,
          3699,
          3649,
          3525,
          3224,
          2976,
          2943,
          2648,
          2617,
          2218,
          2070,
          1813,
          1723,
          1685,
          1448,
          1326,
          1326,
          1221,
          1119,
          1096,
          1046,
          937,
          931,
          792,
          784,
          774,
          768,
          755,
          754,
          700,
          693,
          678,
          629
         ],
         "yaxis": "y"
        },
        {
         "type": "bar",
         "x": [
          "(de,adp)",
          "(,,punct)",
          "(el,det)",
          "(la,det)",
          "(.,punct)",
          "(a,adp)",
          "(i,cconj)",
          "(l',det)",
          "(els,det)",
          "(d',adp)",
          "(en,adp)",
          "(que,pron)",
          "(del,_)",
          "(per,adp)",
          "(les,det)",
          "(que,sconj)",
          "(va,aux)",
          "(_,pron)",
          "(un,det)",
          "(',punct)",
          "(ha,aux)",
          "(amb,adp)",
          "(\",punct)",
          "(una,det)",
          "(es,pron)",
          "(al,_)",
          "(dels,_)",
          "(no,adv)",
          "(s',pron)",
          "(més,adv)",
          "(és,aux)",
          "(com,sconj)",
          "(aquest,det)",
          "((,punct)",
          "(),punct)",
          "(van,aux)",
          "(hi,pron)",
          "(han,aux)",
          "(seva,det)",
          "(als,_)",
          "(també,adv)",
          "(ser,aux)",
          "(aquesta,det)",
          "(ja,adv)",
          "(any,noun)",
          "(entre,adp)",
          "(seu,det)",
          "(anys,noun)",
          "(o,cconj)",
          "(se,pron)"
         ],
         "xaxis": "x2",
         "y": [
          4332,
          2947,
          2567,
          2203,
          1837,
          1803,
          1374,
          1155,
          984,
          881,
          801,
          779,
          769,
          762,
          645,
          625,
          609,
          599,
          496,
          491,
          475,
          462,
          456,
          394,
          356,
          323,
          285,
          282,
          277,
          215,
          215,
          190,
          180,
          179,
          179,
          162,
          141,
          139,
          123,
          122,
          120,
          118,
          113,
          105,
          104,
          103,
          93,
          89,
          89,
          88
         ],
         "yaxis": "y2"
        }
       ],
       "layout": {
        "annotations": [
         {
          "font": {
           "size": 16
          },
          "showarrow": false,
          "text": "Train data",
          "x": 0.225,
          "xanchor": "center",
          "xref": "paper",
          "y": 1,
          "yanchor": "bottom",
          "yref": "paper"
         },
         {
          "font": {
           "size": 16
          },
          "showarrow": false,
          "text": "Test data",
          "x": 0.775,
          "xanchor": "center",
          "xref": "paper",
          "y": 1,
          "yanchor": "bottom",
          "yref": "paper"
         }
        ],
        "showlegend": false,
        "template": {
         "data": {
          "bar": [
           {
            "error_x": {
             "color": "#2a3f5f"
            },
            "error_y": {
             "color": "#2a3f5f"
            },
            "marker": {
             "line": {
              "color": "#E5ECF6",
              "width": 0.5
             },
             "pattern": {
              "fillmode": "overlay",
              "size": 10,
              "solidity": 0.2
             }
            },
            "type": "bar"
           }
          ],
          "barpolar": [
           {
            "marker": {
             "line": {
              "color": "#E5ECF6",
              "width": 0.5
             },
             "pattern": {
              "fillmode": "overlay",
              "size": 10,
              "solidity": 0.2
             }
            },
            "type": "barpolar"
           }
          ],
          "carpet": [
           {
            "aaxis": {
             "endlinecolor": "#2a3f5f",
             "gridcolor": "white",
             "linecolor": "white",
             "minorgridcolor": "white",
             "startlinecolor": "#2a3f5f"
            },
            "baxis": {
             "endlinecolor": "#2a3f5f",
             "gridcolor": "white",
             "linecolor": "white",
             "minorgridcolor": "white",
             "startlinecolor": "#2a3f5f"
            },
            "type": "carpet"
           }
          ],
          "choropleth": [
           {
            "colorbar": {
             "outlinewidth": 0,
             "ticks": ""
            },
            "type": "choropleth"
           }
          ],
          "contour": [
           {
            "colorbar": {
             "outlinewidth": 0,
             "ticks": ""
            },
            "colorscale": [
             [
              0,
              "#0d0887"
             ],
             [
              0.1111111111111111,
              "#46039f"
             ],
             [
              0.2222222222222222,
              "#7201a8"
             ],
             [
              0.3333333333333333,
              "#9c179e"
             ],
             [
              0.4444444444444444,
              "#bd3786"
             ],
             [
              0.5555555555555556,
              "#d8576b"
             ],
             [
              0.6666666666666666,
              "#ed7953"
             ],
             [
              0.7777777777777778,
              "#fb9f3a"
             ],
             [
              0.8888888888888888,
              "#fdca26"
             ],
             [
              1,
              "#f0f921"
             ]
            ],
            "type": "contour"
           }
          ],
          "contourcarpet": [
           {
            "colorbar": {
             "outlinewidth": 0,
             "ticks": ""
            },
            "type": "contourcarpet"
           }
          ],
          "heatmap": [
           {
            "colorbar": {
             "outlinewidth": 0,
             "ticks": ""
            },
            "colorscale": [
             [
              0,
              "#0d0887"
             ],
             [
              0.1111111111111111,
              "#46039f"
             ],
             [
              0.2222222222222222,
              "#7201a8"
             ],
             [
              0.3333333333333333,
              "#9c179e"
             ],
             [
              0.4444444444444444,
              "#bd3786"
             ],
             [
              0.5555555555555556,
              "#d8576b"
             ],
             [
              0.6666666666666666,
              "#ed7953"
             ],
             [
              0.7777777777777778,
              "#fb9f3a"
             ],
             [
              0.8888888888888888,
              "#fdca26"
             ],
             [
              1,
              "#f0f921"
             ]
            ],
            "type": "heatmap"
           }
          ],
          "heatmapgl": [
           {
            "colorbar": {
             "outlinewidth": 0,
             "ticks": ""
            },
            "colorscale": [
             [
              0,
              "#0d0887"
             ],
             [
              0.1111111111111111,
              "#46039f"
             ],
             [
              0.2222222222222222,
              "#7201a8"
             ],
             [
              0.3333333333333333,
              "#9c179e"
             ],
             [
              0.4444444444444444,
              "#bd3786"
             ],
             [
              0.5555555555555556,
              "#d8576b"
             ],
             [
              0.6666666666666666,
              "#ed7953"
             ],
             [
              0.7777777777777778,
              "#fb9f3a"
             ],
             [
              0.8888888888888888,
              "#fdca26"
             ],
             [
              1,
              "#f0f921"
             ]
            ],
            "type": "heatmapgl"
           }
          ],
          "histogram": [
           {
            "marker": {
             "pattern": {
              "fillmode": "overlay",
              "size": 10,
              "solidity": 0.2
             }
            },
            "type": "histogram"
           }
          ],
          "histogram2d": [
           {
            "colorbar": {
             "outlinewidth": 0,
             "ticks": ""
            },
            "colorscale": [
             [
              0,
              "#0d0887"
             ],
             [
              0.1111111111111111,
              "#46039f"
             ],
             [
              0.2222222222222222,
              "#7201a8"
             ],
             [
              0.3333333333333333,
              "#9c179e"
             ],
             [
              0.4444444444444444,
              "#bd3786"
             ],
             [
              0.5555555555555556,
              "#d8576b"
             ],
             [
              0.6666666666666666,
              "#ed7953"
             ],
             [
              0.7777777777777778,
              "#fb9f3a"
             ],
             [
              0.8888888888888888,
              "#fdca26"
             ],
             [
              1,
              "#f0f921"
             ]
            ],
            "type": "histogram2d"
           }
          ],
          "histogram2dcontour": [
           {
            "colorbar": {
             "outlinewidth": 0,
             "ticks": ""
            },
            "colorscale": [
             [
              0,
              "#0d0887"
             ],
             [
              0.1111111111111111,
              "#46039f"
             ],
             [
              0.2222222222222222,
              "#7201a8"
             ],
             [
              0.3333333333333333,
              "#9c179e"
             ],
             [
              0.4444444444444444,
              "#bd3786"
             ],
             [
              0.5555555555555556,
              "#d8576b"
             ],
             [
              0.6666666666666666,
              "#ed7953"
             ],
             [
              0.7777777777777778,
              "#fb9f3a"
             ],
             [
              0.8888888888888888,
              "#fdca26"
             ],
             [
              1,
              "#f0f921"
             ]
            ],
            "type": "histogram2dcontour"
           }
          ],
          "mesh3d": [
           {
            "colorbar": {
             "outlinewidth": 0,
             "ticks": ""
            },
            "type": "mesh3d"
           }
          ],
          "parcoords": [
           {
            "line": {
             "colorbar": {
              "outlinewidth": 0,
              "ticks": ""
             }
            },
            "type": "parcoords"
           }
          ],
          "pie": [
           {
            "automargin": true,
            "type": "pie"
           }
          ],
          "scatter": [
           {
            "fillpattern": {
             "fillmode": "overlay",
             "size": 10,
             "solidity": 0.2
            },
            "type": "scatter"
           }
          ],
          "scatter3d": [
           {
            "line": {
             "colorbar": {
              "outlinewidth": 0,
              "ticks": ""
             }
            },
            "marker": {
             "colorbar": {
              "outlinewidth": 0,
              "ticks": ""
             }
            },
            "type": "scatter3d"
           }
          ],
          "scattercarpet": [
           {
            "marker": {
             "colorbar": {
              "outlinewidth": 0,
              "ticks": ""
             }
            },
            "type": "scattercarpet"
           }
          ],
          "scattergeo": [
           {
            "marker": {
             "colorbar": {
              "outlinewidth": 0,
              "ticks": ""
             }
            },
            "type": "scattergeo"
           }
          ],
          "scattergl": [
           {
            "marker": {
             "colorbar": {
              "outlinewidth": 0,
              "ticks": ""
             }
            },
            "type": "scattergl"
           }
          ],
          "scattermapbox": [
           {
            "marker": {
             "colorbar": {
              "outlinewidth": 0,
              "ticks": ""
             }
            },
            "type": "scattermapbox"
           }
          ],
          "scatterpolar": [
           {
            "marker": {
             "colorbar": {
              "outlinewidth": 0,
              "ticks": ""
             }
            },
            "type": "scatterpolar"
           }
          ],
          "scatterpolargl": [
           {
            "marker": {
             "colorbar": {
              "outlinewidth": 0,
              "ticks": ""
             }
            },
            "type": "scatterpolargl"
           }
          ],
          "scatterternary": [
           {
            "marker": {
             "colorbar": {
              "outlinewidth": 0,
              "ticks": ""
             }
            },
            "type": "scatterternary"
           }
          ],
          "surface": [
           {
            "colorbar": {
             "outlinewidth": 0,
             "ticks": ""
            },
            "colorscale": [
             [
              0,
              "#0d0887"
             ],
             [
              0.1111111111111111,
              "#46039f"
             ],
             [
              0.2222222222222222,
              "#7201a8"
             ],
             [
              0.3333333333333333,
              "#9c179e"
             ],
             [
              0.4444444444444444,
              "#bd3786"
             ],
             [
              0.5555555555555556,
              "#d8576b"
             ],
             [
              0.6666666666666666,
              "#ed7953"
             ],
             [
              0.7777777777777778,
              "#fb9f3a"
             ],
             [
              0.8888888888888888,
              "#fdca26"
             ],
             [
              1,
              "#f0f921"
             ]
            ],
            "type": "surface"
           }
          ],
          "table": [
           {
            "cells": {
             "fill": {
              "color": "#EBF0F8"
             },
             "line": {
              "color": "white"
             }
            },
            "header": {
             "fill": {
              "color": "#C8D4E3"
             },
             "line": {
              "color": "white"
             }
            },
            "type": "table"
           }
          ]
         },
         "layout": {
          "annotationdefaults": {
           "arrowcolor": "#2a3f5f",
           "arrowhead": 0,
           "arrowwidth": 1
          },
          "autotypenumbers": "strict",
          "coloraxis": {
           "colorbar": {
            "outlinewidth": 0,
            "ticks": ""
           }
          },
          "colorscale": {
           "diverging": [
            [
             0,
             "#8e0152"
            ],
            [
             0.1,
             "#c51b7d"
            ],
            [
             0.2,
             "#de77ae"
            ],
            [
             0.3,
             "#f1b6da"
            ],
            [
             0.4,
             "#fde0ef"
            ],
            [
             0.5,
             "#f7f7f7"
            ],
            [
             0.6,
             "#e6f5d0"
            ],
            [
             0.7,
             "#b8e186"
            ],
            [
             0.8,
             "#7fbc41"
            ],
            [
             0.9,
             "#4d9221"
            ],
            [
             1,
             "#276419"
            ]
           ],
           "sequential": [
            [
             0,
             "#0d0887"
            ],
            [
             0.1111111111111111,
             "#46039f"
            ],
            [
             0.2222222222222222,
             "#7201a8"
            ],
            [
             0.3333333333333333,
             "#9c179e"
            ],
            [
             0.4444444444444444,
             "#bd3786"
            ],
            [
             0.5555555555555556,
             "#d8576b"
            ],
            [
             0.6666666666666666,
             "#ed7953"
            ],
            [
             0.7777777777777778,
             "#fb9f3a"
            ],
            [
             0.8888888888888888,
             "#fdca26"
            ],
            [
             1,
             "#f0f921"
            ]
           ],
           "sequentialminus": [
            [
             0,
             "#0d0887"
            ],
            [
             0.1111111111111111,
             "#46039f"
            ],
            [
             0.2222222222222222,
             "#7201a8"
            ],
            [
             0.3333333333333333,
             "#9c179e"
            ],
            [
             0.4444444444444444,
             "#bd3786"
            ],
            [
             0.5555555555555556,
             "#d8576b"
            ],
            [
             0.6666666666666666,
             "#ed7953"
            ],
            [
             0.7777777777777778,
             "#fb9f3a"
            ],
            [
             0.8888888888888888,
             "#fdca26"
            ],
            [
             1,
             "#f0f921"
            ]
           ]
          },
          "colorway": [
           "#636efa",
           "#EF553B",
           "#00cc96",
           "#ab63fa",
           "#FFA15A",
           "#19d3f3",
           "#FF6692",
           "#B6E880",
           "#FF97FF",
           "#FECB52"
          ],
          "font": {
           "color": "#2a3f5f"
          },
          "geo": {
           "bgcolor": "white",
           "lakecolor": "white",
           "landcolor": "#E5ECF6",
           "showlakes": true,
           "showland": true,
           "subunitcolor": "white"
          },
          "hoverlabel": {
           "align": "left"
          },
          "hovermode": "closest",
          "mapbox": {
           "style": "light"
          },
          "paper_bgcolor": "white",
          "plot_bgcolor": "#E5ECF6",
          "polar": {
           "angularaxis": {
            "gridcolor": "white",
            "linecolor": "white",
            "ticks": ""
           },
           "bgcolor": "#E5ECF6",
           "radialaxis": {
            "gridcolor": "white",
            "linecolor": "white",
            "ticks": ""
           }
          },
          "scene": {
           "xaxis": {
            "backgroundcolor": "#E5ECF6",
            "gridcolor": "white",
            "gridwidth": 2,
            "linecolor": "white",
            "showbackground": true,
            "ticks": "",
            "zerolinecolor": "white"
           },
           "yaxis": {
            "backgroundcolor": "#E5ECF6",
            "gridcolor": "white",
            "gridwidth": 2,
            "linecolor": "white",
            "showbackground": true,
            "ticks": "",
            "zerolinecolor": "white"
           },
           "zaxis": {
            "backgroundcolor": "#E5ECF6",
            "gridcolor": "white",
            "gridwidth": 2,
            "linecolor": "white",
            "showbackground": true,
            "ticks": "",
            "zerolinecolor": "white"
           }
          },
          "shapedefaults": {
           "line": {
            "color": "#2a3f5f"
           }
          },
          "ternary": {
           "aaxis": {
            "gridcolor": "white",
            "linecolor": "white",
            "ticks": ""
           },
           "baxis": {
            "gridcolor": "white",
            "linecolor": "white",
            "ticks": ""
           },
           "bgcolor": "#E5ECF6",
           "caxis": {
            "gridcolor": "white",
            "linecolor": "white",
            "ticks": ""
           }
          },
          "title": {
           "x": 0.05
          },
          "xaxis": {
           "automargin": true,
           "gridcolor": "white",
           "linecolor": "white",
           "ticks": "",
           "title": {
            "standoff": 15
           },
           "zerolinecolor": "white",
           "zerolinewidth": 2
          },
          "yaxis": {
           "automargin": true,
           "gridcolor": "white",
           "linecolor": "white",
           "ticks": "",
           "title": {
            "standoff": 15
           },
           "zerolinecolor": "white",
           "zerolinewidth": 2
          }
         }
        },
        "xaxis": {
         "anchor": "y",
         "domain": [
          0,
          0.45
         ],
         "title": {
          "text": "Word-Pair Tag"
         }
        },
        "xaxis2": {
         "anchor": "y2",
         "domain": [
          0.55,
          1
         ],
         "title": {
          "text": "Word-Pair Tag"
         }
        },
        "yaxis": {
         "anchor": "x",
         "domain": [
          0,
          1
         ],
         "title": {
          "text": "Ocurrences"
         }
        },
        "yaxis2": {
         "anchor": "x2",
         "domain": [
          0,
          1
         ],
         "title": {
          "text": "Ocurrences"
         }
        }
       }
      }
     },
     "metadata": {},
     "output_type": "display_data"
    }
   ],
   "source": [
    "plot_frequency_of_(\"word-pair tag\", train_pair_counts, test_pair_counts)"
   ]
  },
  {
   "cell_type": "markdown",
   "metadata": {},
   "source": [
    "The top pairs are the same and are common and usual words as determiners, conjunctions, adpositions, etc.\n",
    "\n",
    "Let's now check which tokens have several tags assigned:"
   ]
  },
  {
   "cell_type": "code",
   "execution_count": 20,
   "metadata": {},
   "outputs": [
    {
     "name": "stdout",
     "output_type": "stream",
     "text": [
      "Total tokens with >1 tag assigned is 3360\n",
      "Total tokens with 1 tags assigned is 25742\n",
      "Total tokens with 2 tags assigned is 2958\n",
      "Total tokens with 3 tags assigned is 353\n",
      "Total tokens with 4 tags assigned is 44\n",
      "Total tokens with 5 tags assigned is 5\n"
     ]
    }
   ],
   "source": [
    "diff_tags_same_token = (\n",
    "    train_df[[\"tokens\", \"tags\"]].groupby([\"tokens\"]).agg(set).reset_index()\n",
    ")\n",
    "diff_tags_same_token[\"length_set\"] = diff_tags_same_token.apply(\n",
    "    lambda x: len(x[\"tags\"]), axis=1\n",
    ")\n",
    "print(\n",
    "    f\"Total tokens with >1 tag assigned is {len(diff_tags_same_token[diff_tags_same_token.length_set > 1])}\"\n",
    ")\n",
    "for nr_tags in range(1, max(diff_tags_same_token.length_set.unique()) + 1):\n",
    "    print(\n",
    "        f\"Total tokens with {nr_tags} tags assigned is {len(diff_tags_same_token[diff_tags_same_token.length_set == nr_tags])}\"\n",
    "    )"
   ]
  },
  {
   "cell_type": "markdown",
   "metadata": {},
   "source": [
    "* Most tokens have 1,2 or 3 tokens assigned; being 2 the most common possible one.\n",
    "* Tokens that have more than three tags are rare, but exist.\n",
    "* Checking the tables below, one would need the context to verify, but it is likely that the datasets would need a revision, since the five tokens with fiva different tags assigned, don't seem to match with some of the tags. For instance, there seems to be a bias towards assigning some of those to `propn` (proper nouns). But again, we would need to check the context in the sentences.\n",
    "* These are important to have in mind, since they can be problematic when performing our tests and analysis of viterbi. Having so many tags assigned can make the algorithm to be unstable when predicting the tag for words like \"força\", \"total\", \"segons\", \"mateix\" and \"cap\". Predicting a wrong tag for those, can make the rest of the sentence carry over the error."
   ]
  },
  {
   "cell_type": "code",
   "execution_count": 21,
   "metadata": {},
   "outputs": [
    {
     "data": {
      "text/html": [
       "<div>\n",
       "<style scoped>\n",
       "    .dataframe tbody tr th:only-of-type {\n",
       "        vertical-align: middle;\n",
       "    }\n",
       "\n",
       "    .dataframe tbody tr th {\n",
       "        vertical-align: top;\n",
       "    }\n",
       "\n",
       "    .dataframe thead th {\n",
       "        text-align: right;\n",
       "    }\n",
       "</style>\n",
       "<table border=\"1\" class=\"dataframe\">\n",
       "  <thead>\n",
       "    <tr style=\"text-align: right;\">\n",
       "      <th></th>\n",
       "      <th>tokens</th>\n",
       "      <th>tags</th>\n",
       "      <th>length_set</th>\n",
       "    </tr>\n",
       "  </thead>\n",
       "  <tbody>\n",
       "    <tr>\n",
       "      <th>13705</th>\n",
       "      <td>força</td>\n",
       "      <td>{adv, det, noun, verb, propn}</td>\n",
       "      <td>5</td>\n",
       "    </tr>\n",
       "    <tr>\n",
       "      <th>27157</th>\n",
       "      <td>total</td>\n",
       "      <td>{adv, det, noun, adj, propn}</td>\n",
       "      <td>5</td>\n",
       "    </tr>\n",
       "    <tr>\n",
       "      <th>25218</th>\n",
       "      <td>segons</td>\n",
       "      <td>{adp, sconj, noun, adj, propn}</td>\n",
       "      <td>5</td>\n",
       "    </tr>\n",
       "    <tr>\n",
       "      <th>18197</th>\n",
       "      <td>mateix</td>\n",
       "      <td>{adv, det, pron, noun, adj}</td>\n",
       "      <td>5</td>\n",
       "    </tr>\n",
       "    <tr>\n",
       "      <th>5984</th>\n",
       "      <td>cap</td>\n",
       "      <td>{adp, det, pron, noun, propn}</td>\n",
       "      <td>5</td>\n",
       "    </tr>\n",
       "    <tr>\n",
       "      <th>28545</th>\n",
       "      <td>vista</td>\n",
       "      <td>{noun, propn, adj, verb}</td>\n",
       "      <td>4</td>\n",
       "    </tr>\n",
       "    <tr>\n",
       "      <th>26588</th>\n",
       "      <td>tant</td>\n",
       "      <td>{sconj, noun, adv, det}</td>\n",
       "      <td>4</td>\n",
       "    </tr>\n",
       "    <tr>\n",
       "      <th>20076</th>\n",
       "      <td>on</td>\n",
       "      <td>{pron, noun, propn, sconj}</td>\n",
       "      <td>4</td>\n",
       "    </tr>\n",
       "    <tr>\n",
       "      <th>22984</th>\n",
       "      <td>qualsevol</td>\n",
       "      <td>{pron, propn, adj, det}</td>\n",
       "      <td>4</td>\n",
       "    </tr>\n",
       "    <tr>\n",
       "      <th>22999</th>\n",
       "      <td>quart</td>\n",
       "      <td>{noun, propn, adj, num}</td>\n",
       "      <td>4</td>\n",
       "    </tr>\n",
       "  </tbody>\n",
       "</table>\n",
       "</div>"
      ],
      "text/plain": [
       "          tokens                            tags  length_set\n",
       "13705      força   {adv, det, noun, verb, propn}           5\n",
       "27157      total    {adv, det, noun, adj, propn}           5\n",
       "25218     segons  {adp, sconj, noun, adj, propn}           5\n",
       "18197     mateix     {adv, det, pron, noun, adj}           5\n",
       "5984         cap   {adp, det, pron, noun, propn}           5\n",
       "28545      vista        {noun, propn, adj, verb}           4\n",
       "26588       tant         {sconj, noun, adv, det}           4\n",
       "20076         on      {pron, noun, propn, sconj}           4\n",
       "22984  qualsevol         {pron, propn, adj, det}           4\n",
       "22999      quart         {noun, propn, adj, num}           4"
      ]
     },
     "execution_count": 21,
     "metadata": {},
     "output_type": "execute_result"
    }
   ],
   "source": [
    "diff_tags_same_token[diff_tags_same_token.length_set > 1].sort_values(\n",
    "    by=[\"length_set\"], ascending=False\n",
    ").head(10)"
   ]
  },
  {
   "cell_type": "markdown",
   "metadata": {},
   "source": [
    "Even with tokens that have assigned two tags, we find another tendency towards assigning words as proper nouns; specially the pair {noun, propn} appears several times. \n",
    "The dataset might have had some errors occurring during the manual tagging."
   ]
  },
  {
   "cell_type": "code",
   "execution_count": 22,
   "metadata": {},
   "outputs": [
    {
     "data": {
      "text/html": [
       "<div>\n",
       "<style scoped>\n",
       "    .dataframe tbody tr th:only-of-type {\n",
       "        vertical-align: middle;\n",
       "    }\n",
       "\n",
       "    .dataframe tbody tr th {\n",
       "        vertical-align: top;\n",
       "    }\n",
       "\n",
       "    .dataframe thead th {\n",
       "        text-align: right;\n",
       "    }\n",
       "</style>\n",
       "<table border=\"1\" class=\"dataframe\">\n",
       "  <thead>\n",
       "    <tr style=\"text-align: right;\">\n",
       "      <th></th>\n",
       "      <th>tokens</th>\n",
       "      <th>tags</th>\n",
       "      <th>length_set</th>\n",
       "    </tr>\n",
       "  </thead>\n",
       "  <tbody>\n",
       "    <tr>\n",
       "      <th>14530</th>\n",
       "      <td>granja</td>\n",
       "      <td>{noun, propn}</td>\n",
       "      <td>2</td>\n",
       "    </tr>\n",
       "    <tr>\n",
       "      <th>22815</th>\n",
       "      <td>publicat</td>\n",
       "      <td>{adj, verb}</td>\n",
       "      <td>2</td>\n",
       "    </tr>\n",
       "    <tr>\n",
       "      <th>22780</th>\n",
       "      <td>psicològica</td>\n",
       "      <td>{propn, adj}</td>\n",
       "      <td>2</td>\n",
       "    </tr>\n",
       "    <tr>\n",
       "      <th>6909</th>\n",
       "      <td>codi</td>\n",
       "      <td>{noun, propn}</td>\n",
       "      <td>2</td>\n",
       "    </tr>\n",
       "    <tr>\n",
       "      <th>6901</th>\n",
       "      <td>coca</td>\n",
       "      <td>{noun, propn}</td>\n",
       "      <td>2</td>\n",
       "    </tr>\n",
       "    <tr>\n",
       "      <th>22806</th>\n",
       "      <td>pubilla</td>\n",
       "      <td>{noun, propn}</td>\n",
       "      <td>2</td>\n",
       "    </tr>\n",
       "    <tr>\n",
       "      <th>22808</th>\n",
       "      <td>publicacions</td>\n",
       "      <td>{noun, propn}</td>\n",
       "      <td>2</td>\n",
       "    </tr>\n",
       "    <tr>\n",
       "      <th>22810</th>\n",
       "      <td>publicada</td>\n",
       "      <td>{adj, verb}</td>\n",
       "      <td>2</td>\n",
       "    </tr>\n",
       "    <tr>\n",
       "      <th>22811</th>\n",
       "      <td>publicades</td>\n",
       "      <td>{adj, verb}</td>\n",
       "      <td>2</td>\n",
       "    </tr>\n",
       "    <tr>\n",
       "      <th>6885</th>\n",
       "      <td>cobra</td>\n",
       "      <td>{propn, verb}</td>\n",
       "      <td>2</td>\n",
       "    </tr>\n",
       "  </tbody>\n",
       "</table>\n",
       "</div>"
      ],
      "text/plain": [
       "             tokens           tags  length_set\n",
       "14530        granja  {noun, propn}           2\n",
       "22815      publicat    {adj, verb}           2\n",
       "22780   psicològica   {propn, adj}           2\n",
       "6909           codi  {noun, propn}           2\n",
       "6901           coca  {noun, propn}           2\n",
       "22806       pubilla  {noun, propn}           2\n",
       "22808  publicacions  {noun, propn}           2\n",
       "22810     publicada    {adj, verb}           2\n",
       "22811    publicades    {adj, verb}           2\n",
       "6885          cobra  {propn, verb}           2"
      ]
     },
     "execution_count": 22,
     "metadata": {},
     "output_type": "execute_result"
    }
   ],
   "source": [
    "diff_tags_same_token[diff_tags_same_token.length_set <= 2].sort_values(\n",
    "    by=[\"length_set\"], ascending=False\n",
    ").head(10)"
   ]
  },
  {
   "cell_type": "code",
   "execution_count": 23,
   "metadata": {},
   "outputs": [
    {
     "data": {
      "text/html": [
       "<div>\n",
       "<style scoped>\n",
       "    .dataframe tbody tr th:only-of-type {\n",
       "        vertical-align: middle;\n",
       "    }\n",
       "\n",
       "    .dataframe tbody tr th {\n",
       "        vertical-align: top;\n",
       "    }\n",
       "\n",
       "    .dataframe thead th {\n",
       "        text-align: right;\n",
       "    }\n",
       "</style>\n",
       "<table border=\"1\" class=\"dataframe\">\n",
       "  <thead>\n",
       "    <tr style=\"text-align: right;\">\n",
       "      <th></th>\n",
       "      <th>0</th>\n",
       "      <th>1</th>\n",
       "      <th>2</th>\n",
       "      <th>3</th>\n",
       "      <th>4</th>\n",
       "      <th>5</th>\n",
       "      <th>6</th>\n",
       "      <th>7</th>\n",
       "      <th>8</th>\n",
       "      <th>9</th>\n",
       "      <th>10</th>\n",
       "      <th>11</th>\n",
       "      <th>12</th>\n",
       "      <th>13</th>\n",
       "      <th>14</th>\n",
       "      <th>15</th>\n",
       "      <th>16</th>\n",
       "      <th>17</th>\n",
       "      <th>18</th>\n",
       "      <th>19</th>\n",
       "      <th>20</th>\n",
       "      <th>21</th>\n",
       "      <th>22</th>\n",
       "      <th>23</th>\n",
       "    </tr>\n",
       "  </thead>\n",
       "  <tbody>\n",
       "    <tr>\n",
       "      <th>tokens</th>\n",
       "      <td>les</td>\n",
       "      <td>ajudes</td>\n",
       "      <td>,</td>\n",
       "      <td>que</td>\n",
       "      <td>seran</td>\n",
       "      <td>\"</td>\n",
       "      <td>atractives</td>\n",
       "      <td>\"</td>\n",
       "      <td>,</td>\n",
       "      <td>segons</td>\n",
       "      <td>corbacho</td>\n",
       "      <td>,</td>\n",
       "      <td>també</td>\n",
       "      <td>es</td>\n",
       "      <td>podran</td>\n",
       "      <td>sol·licitar</td>\n",
       "      <td>a</td>\n",
       "      <td>pubilla</td>\n",
       "      <td>cases</td>\n",
       "      <td>i</td>\n",
       "      <td>a</td>\n",
       "      <td>la</td>\n",
       "      <td>florida</td>\n",
       "      <td>.</td>\n",
       "    </tr>\n",
       "    <tr>\n",
       "      <th>tags</th>\n",
       "      <td>det</td>\n",
       "      <td>noun</td>\n",
       "      <td>punct</td>\n",
       "      <td>pron</td>\n",
       "      <td>aux</td>\n",
       "      <td>punct</td>\n",
       "      <td>adj</td>\n",
       "      <td>punct</td>\n",
       "      <td>punct</td>\n",
       "      <td>adp</td>\n",
       "      <td>propn</td>\n",
       "      <td>punct</td>\n",
       "      <td>adv</td>\n",
       "      <td>pron</td>\n",
       "      <td>aux</td>\n",
       "      <td>verb</td>\n",
       "      <td>adp</td>\n",
       "      <td>propn</td>\n",
       "      <td>propn</td>\n",
       "      <td>cconj</td>\n",
       "      <td>adp</td>\n",
       "      <td>det</td>\n",
       "      <td>propn</td>\n",
       "      <td>punct</td>\n",
       "    </tr>\n",
       "  </tbody>\n",
       "</table>\n",
       "</div>"
      ],
      "text/plain": [
       "         0       1      2     3      4      5           6      7      8   \\\n",
       "tokens  les  ajudes      ,   que  seran      \"  atractives      \"      ,   \n",
       "tags    det    noun  punct  pron    aux  punct         adj  punct  punct   \n",
       "\n",
       "            9         10     11     12    13      14           15   16  \\\n",
       "tokens  segons  corbacho      ,  també    es  podran  sol·licitar    a   \n",
       "tags       adp     propn  punct    adv  pron     aux         verb  adp   \n",
       "\n",
       "             17     18     19   20   21       22     23  \n",
       "tokens  pubilla  cases      i    a   la  florida      .  \n",
       "tags      propn  propn  cconj  adp  det    propn  punct  "
      ]
     },
     "execution_count": 23,
     "metadata": {},
     "output_type": "execute_result"
    }
   ],
   "source": [
    "idx = get_sentence_idx_given_pair(train_info, (\"pubilla\", \"propn\"))\n",
    "visualize_sample(train_info, idx)"
   ]
  },
  {
   "cell_type": "code",
   "execution_count": 28,
   "metadata": {},
   "outputs": [
    {
     "data": {
      "text/html": [
       "<div>\n",
       "<style scoped>\n",
       "    .dataframe tbody tr th:only-of-type {\n",
       "        vertical-align: middle;\n",
       "    }\n",
       "\n",
       "    .dataframe tbody tr th {\n",
       "        vertical-align: top;\n",
       "    }\n",
       "\n",
       "    .dataframe thead th {\n",
       "        text-align: right;\n",
       "    }\n",
       "</style>\n",
       "<table border=\"1\" class=\"dataframe\">\n",
       "  <thead>\n",
       "    <tr style=\"text-align: right;\">\n",
       "      <th></th>\n",
       "      <th>0</th>\n",
       "      <th>1</th>\n",
       "      <th>2</th>\n",
       "      <th>3</th>\n",
       "      <th>4</th>\n",
       "      <th>5</th>\n",
       "      <th>6</th>\n",
       "      <th>7</th>\n",
       "      <th>8</th>\n",
       "      <th>9</th>\n",
       "      <th>10</th>\n",
       "      <th>11</th>\n",
       "      <th>12</th>\n",
       "      <th>13</th>\n",
       "      <th>14</th>\n",
       "      <th>15</th>\n",
       "      <th>16</th>\n",
       "      <th>17</th>\n",
       "      <th>18</th>\n",
       "      <th>19</th>\n",
       "      <th>20</th>\n",
       "      <th>21</th>\n",
       "      <th>22</th>\n",
       "      <th>23</th>\n",
       "      <th>24</th>\n",
       "      <th>25</th>\n",
       "      <th>26</th>\n",
       "      <th>27</th>\n",
       "      <th>28</th>\n",
       "      <th>29</th>\n",
       "      <th>30</th>\n",
       "      <th>31</th>\n",
       "      <th>32</th>\n",
       "      <th>33</th>\n",
       "      <th>34</th>\n",
       "      <th>35</th>\n",
       "      <th>36</th>\n",
       "      <th>37</th>\n",
       "      <th>38</th>\n",
       "      <th>39</th>\n",
       "      <th>40</th>\n",
       "      <th>41</th>\n",
       "      <th>42</th>\n",
       "      <th>43</th>\n",
       "      <th>44</th>\n",
       "    </tr>\n",
       "  </thead>\n",
       "  <tbody>\n",
       "    <tr>\n",
       "      <th>tokens</th>\n",
       "      <td>convençuda</td>\n",
       "      <td>que</td>\n",
       "      <td>vendre</td>\n",
       "      <td>un</td>\n",
       "      <td>saramago</td>\n",
       "      <td>a</td>\n",
       "      <td>un</td>\n",
       "      <td>addicte</td>\n",
       "      <td>als</td>\n",
       "      <td>a</td>\n",
       "      <td>els</td>\n",
       "      <td>best-sellers</td>\n",
       "      <td>més</td>\n",
       "      <td>fàcils</td>\n",
       "      <td>pot</td>\n",
       "      <td>perjudicar</td>\n",
       "      <td>seriosament</td>\n",
       "      <td>la</td>\n",
       "      <td>salut</td>\n",
       "      <td>(</td>\n",
       "      <td>o</td>\n",
       "      <td>com</td>\n",
       "      <td>a</td>\n",
       "      <td>mínim</td>\n",
       "      <td>sacsejar</td>\n",
       "      <td>algun</td>\n",
       "      <td>cervell</td>\n",
       "      <td>)</td>\n",
       "      <td>,</td>\n",
       "      <td>maite</td>\n",
       "      <td>coca</td>\n",
       "      <td>suma</td>\n",
       "      <td>17</td>\n",
       "      <td>anys</td>\n",
       "      <td>de</td>\n",
       "      <td>prescripcions</td>\n",
       "      <td>literàries</td>\n",
       "      <td>personalitzades</td>\n",
       "      <td>i</td>\n",
       "      <td>sense</td>\n",
       "      <td>error</td>\n",
       "      <td>en</td>\n",
       "      <td>els</td>\n",
       "      <td>diagnòstics</td>\n",
       "      <td>.</td>\n",
       "    </tr>\n",
       "    <tr>\n",
       "      <th>tags</th>\n",
       "      <td>adj</td>\n",
       "      <td>sconj</td>\n",
       "      <td>verb</td>\n",
       "      <td>det</td>\n",
       "      <td>noun</td>\n",
       "      <td>adp</td>\n",
       "      <td>det</td>\n",
       "      <td>adj</td>\n",
       "      <td>_</td>\n",
       "      <td>adp</td>\n",
       "      <td>det</td>\n",
       "      <td>noun</td>\n",
       "      <td>adv</td>\n",
       "      <td>adj</td>\n",
       "      <td>aux</td>\n",
       "      <td>verb</td>\n",
       "      <td>adv</td>\n",
       "      <td>det</td>\n",
       "      <td>noun</td>\n",
       "      <td>punct</td>\n",
       "      <td>cconj</td>\n",
       "      <td>sconj</td>\n",
       "      <td>adp</td>\n",
       "      <td>noun</td>\n",
       "      <td>verb</td>\n",
       "      <td>det</td>\n",
       "      <td>noun</td>\n",
       "      <td>punct</td>\n",
       "      <td>punct</td>\n",
       "      <td>propn</td>\n",
       "      <td>propn</td>\n",
       "      <td>verb</td>\n",
       "      <td>num</td>\n",
       "      <td>noun</td>\n",
       "      <td>adp</td>\n",
       "      <td>noun</td>\n",
       "      <td>adj</td>\n",
       "      <td>adj</td>\n",
       "      <td>cconj</td>\n",
       "      <td>adp</td>\n",
       "      <td>noun</td>\n",
       "      <td>adp</td>\n",
       "      <td>det</td>\n",
       "      <td>noun</td>\n",
       "      <td>punct</td>\n",
       "    </tr>\n",
       "  </tbody>\n",
       "</table>\n",
       "</div>"
      ],
      "text/plain": [
       "                0      1       2    3         4    5    6        7    8    9   \\\n",
       "tokens  convençuda    que  vendre   un  saramago    a   un  addicte  als    a   \n",
       "tags           adj  sconj    verb  det      noun  adp  det      adj    _  adp   \n",
       "\n",
       "         10            11   12      13   14          15           16   17  \\\n",
       "tokens  els  best-sellers  més  fàcils  pot  perjudicar  seriosament   la   \n",
       "tags    det          noun  adv     adj  aux        verb          adv  det   \n",
       "\n",
       "           18     19     20     21   22     23        24     25       26  \\\n",
       "tokens  salut      (      o    com    a  mínim  sacsejar  algun  cervell   \n",
       "tags     noun  punct  cconj  sconj  adp   noun      verb    det     noun   \n",
       "\n",
       "           27     28     29     30    31   32    33   34             35  \\\n",
       "tokens      )      ,  maite   coca  suma   17  anys   de  prescripcions   \n",
       "tags    punct  punct  propn  propn  verb  num  noun  adp           noun   \n",
       "\n",
       "                36               37     38     39     40   41   42  \\\n",
       "tokens  literàries  personalitzades      i  sense  error   en  els   \n",
       "tags           adj              adj  cconj    adp   noun  adp  det   \n",
       "\n",
       "                 43     44  \n",
       "tokens  diagnòstics      .  \n",
       "tags           noun  punct  "
      ]
     },
     "execution_count": 28,
     "metadata": {},
     "output_type": "execute_result"
    }
   ],
   "source": [
    "idx = get_sentence_idx_given_pair(train_info, (\"coca\", \"propn\"))\n",
    "visualize_sample(train_info, idx)"
   ]
  },
  {
   "cell_type": "code",
   "execution_count": 29,
   "metadata": {},
   "outputs": [
    {
     "data": {
      "text/html": [
       "<div>\n",
       "<style scoped>\n",
       "    .dataframe tbody tr th:only-of-type {\n",
       "        vertical-align: middle;\n",
       "    }\n",
       "\n",
       "    .dataframe tbody tr th {\n",
       "        vertical-align: top;\n",
       "    }\n",
       "\n",
       "    .dataframe thead th {\n",
       "        text-align: right;\n",
       "    }\n",
       "</style>\n",
       "<table border=\"1\" class=\"dataframe\">\n",
       "  <thead>\n",
       "    <tr style=\"text-align: right;\">\n",
       "      <th></th>\n",
       "      <th>0</th>\n",
       "      <th>1</th>\n",
       "      <th>2</th>\n",
       "      <th>3</th>\n",
       "      <th>4</th>\n",
       "      <th>5</th>\n",
       "      <th>6</th>\n",
       "      <th>7</th>\n",
       "      <th>8</th>\n",
       "      <th>9</th>\n",
       "      <th>10</th>\n",
       "      <th>11</th>\n",
       "      <th>12</th>\n",
       "      <th>13</th>\n",
       "      <th>14</th>\n",
       "      <th>15</th>\n",
       "      <th>16</th>\n",
       "      <th>17</th>\n",
       "      <th>18</th>\n",
       "      <th>19</th>\n",
       "      <th>20</th>\n",
       "      <th>21</th>\n",
       "      <th>22</th>\n",
       "      <th>23</th>\n",
       "      <th>24</th>\n",
       "      <th>25</th>\n",
       "      <th>26</th>\n",
       "      <th>27</th>\n",
       "      <th>28</th>\n",
       "      <th>29</th>\n",
       "      <th>30</th>\n",
       "      <th>31</th>\n",
       "      <th>32</th>\n",
       "      <th>33</th>\n",
       "      <th>34</th>\n",
       "      <th>35</th>\n",
       "      <th>36</th>\n",
       "      <th>37</th>\n",
       "      <th>38</th>\n",
       "      <th>39</th>\n",
       "      <th>40</th>\n",
       "      <th>41</th>\n",
       "      <th>42</th>\n",
       "      <th>43</th>\n",
       "      <th>44</th>\n",
       "      <th>45</th>\n",
       "      <th>46</th>\n",
       "      <th>47</th>\n",
       "      <th>48</th>\n",
       "      <th>49</th>\n",
       "      <th>50</th>\n",
       "      <th>51</th>\n",
       "      <th>52</th>\n",
       "      <th>53</th>\n",
       "      <th>54</th>\n",
       "      <th>55</th>\n",
       "      <th>56</th>\n",
       "      <th>57</th>\n",
       "      <th>58</th>\n",
       "      <th>59</th>\n",
       "      <th>60</th>\n",
       "      <th>61</th>\n",
       "      <th>62</th>\n",
       "    </tr>\n",
       "  </thead>\n",
       "  <tbody>\n",
       "    <tr>\n",
       "      <th>tokens</th>\n",
       "      <td>amb</td>\n",
       "      <td>el</td>\n",
       "      <td>lema</td>\n",
       "      <td>'</td>\n",
       "      <td>amb</td>\n",
       "      <td>la</td>\n",
       "      <td>nostra</td>\n",
       "      <td>força</td>\n",
       "      <td>millorem</td>\n",
       "      <td>la</td>\n",
       "      <td>salut</td>\n",
       "      <td>en</td>\n",
       "      <td>el</td>\n",
       "      <td>treball</td>\n",
       "      <td>'</td>\n",
       "      <td>,</td>\n",
       "      <td>en</td>\n",
       "      <td>aquest</td>\n",
       "      <td>tercer</td>\n",
       "      <td>congrés</td>\n",
       "      <td>de</td>\n",
       "      <td>ccoo</td>\n",
       "      <td>a</td>\n",
       "      <td>les</td>\n",
       "      <td>comarques</td>\n",
       "      <td>gironines</td>\n",
       "      <td>en</td>\n",
       "      <td>què</td>\n",
       "      <td>han</td>\n",
       "      <td>participat</td>\n",
       "      <td>147</td>\n",
       "      <td>dels</td>\n",
       "      <td>de</td>\n",
       "      <td>els</td>\n",
       "      <td>165</td>\n",
       "      <td>delegats</td>\n",
       "      <td>que</td>\n",
       "      <td>hi</td>\n",
       "      <td>ha</td>\n",
       "      <td>,</td>\n",
       "      <td>s'</td>\n",
       "      <td>han</td>\n",
       "      <td>debatut</td>\n",
       "      <td>els</td>\n",
       "      <td>informes</td>\n",
       "      <td>de</td>\n",
       "      <td>gestió</td>\n",
       "      <td>i</td>\n",
       "      <td>balanç</td>\n",
       "      <td>del</td>\n",
       "      <td>de</td>\n",
       "      <td>el</td>\n",
       "      <td>secretari</td>\n",
       "      <td>general</td>\n",
       "      <td>,</td>\n",
       "      <td>jordi</td>\n",
       "      <td>preses</td>\n",
       "      <td>i</td>\n",
       "      <td>el</td>\n",
       "      <td>programa</td>\n",
       "      <td>de</td>\n",
       "      <td>futur</td>\n",
       "      <td>.</td>\n",
       "    </tr>\n",
       "    <tr>\n",
       "      <th>tags</th>\n",
       "      <td>adp</td>\n",
       "      <td>det</td>\n",
       "      <td>noun</td>\n",
       "      <td>punct</td>\n",
       "      <td>adp</td>\n",
       "      <td>det</td>\n",
       "      <td>det</td>\n",
       "      <td>propn</td>\n",
       "      <td>propn</td>\n",
       "      <td>det</td>\n",
       "      <td>propn</td>\n",
       "      <td>adp</td>\n",
       "      <td>det</td>\n",
       "      <td>propn</td>\n",
       "      <td>punct</td>\n",
       "      <td>punct</td>\n",
       "      <td>adp</td>\n",
       "      <td>det</td>\n",
       "      <td>adj</td>\n",
       "      <td>noun</td>\n",
       "      <td>adp</td>\n",
       "      <td>propn</td>\n",
       "      <td>adp</td>\n",
       "      <td>det</td>\n",
       "      <td>noun</td>\n",
       "      <td>adj</td>\n",
       "      <td>adp</td>\n",
       "      <td>pron</td>\n",
       "      <td>aux</td>\n",
       "      <td>verb</td>\n",
       "      <td>num</td>\n",
       "      <td>_</td>\n",
       "      <td>adp</td>\n",
       "      <td>det</td>\n",
       "      <td>num</td>\n",
       "      <td>noun</td>\n",
       "      <td>pron</td>\n",
       "      <td>pron</td>\n",
       "      <td>verb</td>\n",
       "      <td>punct</td>\n",
       "      <td>pron</td>\n",
       "      <td>aux</td>\n",
       "      <td>verb</td>\n",
       "      <td>det</td>\n",
       "      <td>noun</td>\n",
       "      <td>adp</td>\n",
       "      <td>noun</td>\n",
       "      <td>cconj</td>\n",
       "      <td>noun</td>\n",
       "      <td>_</td>\n",
       "      <td>adp</td>\n",
       "      <td>det</td>\n",
       "      <td>noun</td>\n",
       "      <td>adj</td>\n",
       "      <td>punct</td>\n",
       "      <td>propn</td>\n",
       "      <td>propn</td>\n",
       "      <td>cconj</td>\n",
       "      <td>det</td>\n",
       "      <td>noun</td>\n",
       "      <td>adp</td>\n",
       "      <td>noun</td>\n",
       "      <td>punct</td>\n",
       "    </tr>\n",
       "  </tbody>\n",
       "</table>\n",
       "</div>"
      ],
      "text/plain": [
       "         0    1     2      3    4    5       6      7         8    9      10  \\\n",
       "tokens  amb   el  lema      '  amb   la  nostra  força  millorem   la  salut   \n",
       "tags    adp  det  noun  punct  adp  det     det  propn     propn  det  propn   \n",
       "\n",
       "         11   12       13     14     15   16      17      18       19   20  \\\n",
       "tokens   en   el  treball      '      ,   en  aquest  tercer  congrés   de   \n",
       "tags    adp  det    propn  punct  punct  adp     det     adj     noun  adp   \n",
       "\n",
       "           21   22   23         24         25   26    27   28          29  \\\n",
       "tokens   ccoo    a  les  comarques  gironines   en   què  han  participat   \n",
       "tags    propn  adp  det       noun        adj  adp  pron  aux        verb   \n",
       "\n",
       "         30    31   32   33   34        35    36    37    38     39    40  \\\n",
       "tokens  147  dels   de  els  165  delegats   que    hi    ha      ,    s'   \n",
       "tags    num     _  adp  det  num      noun  pron  pron  verb  punct  pron   \n",
       "\n",
       "         41       42   43        44   45      46     47      48   49   50  \\\n",
       "tokens  han  debatut  els  informes   de  gestió      i  balanç  del   de   \n",
       "tags    aux     verb  det      noun  adp    noun  cconj    noun    _  adp   \n",
       "\n",
       "         51         52       53     54     55      56     57   58        59  \\\n",
       "tokens   el  secretari  general      ,  jordi  preses      i   el  programa   \n",
       "tags    det       noun      adj  punct  propn   propn  cconj  det      noun   \n",
       "\n",
       "         60     61     62  \n",
       "tokens   de  futur      .  \n",
       "tags    adp   noun  punct  "
      ]
     },
     "execution_count": 29,
     "metadata": {},
     "output_type": "execute_result"
    }
   ],
   "source": [
    "idx = get_sentence_idx_given_pair(train_info, (\"força\", \"propn\"))\n",
    "visualize_sample(train_info, idx)"
   ]
  },
  {
   "cell_type": "markdown",
   "metadata": {},
   "source": [
    "* The two first examples above, show a correct tagging of the given names (\"coca\" and \"pubilla\") as proper nouns, since they represent the surname of a person and the first name of a compound-name place.\n",
    "* The last one, however, shows an incorrect tagging of the name \"força\", since it this context, it should be a (common) noun.\n",
    "* We need to take into account that some input data will be wrong, and this can affect our model."
   ]
  },
  {
   "cell_type": "markdown",
   "metadata": {},
   "source": [
    "Lastly, we will display the top 5 words for each tag that we find in train and test:"
   ]
  },
  {
   "cell_type": "code",
   "execution_count": 26,
   "metadata": {},
   "outputs": [
    {
     "data": {
      "text/html": [
       "<table style=\"display:inline\" border=\"1\" class=\"dataframe\">\n",
       "  <thead>\n",
       "    <tr style=\"text-align: right;\">\n",
       "      <th></th>\n",
       "      <th>tags</th>\n",
       "      <th>tokens</th>\n",
       "      <th>count</th>\n",
       "    </tr>\n",
       "  </thead>\n",
       "  <tbody>\n",
       "    <tr>\n",
       "      <th>0</th>\n",
       "      <td>det</td>\n",
       "      <td>el</td>\n",
       "      <td>18635</td>\n",
       "    </tr>\n",
       "    <tr>\n",
       "      <th>1</th>\n",
       "      <td>det</td>\n",
       "      <td>la</td>\n",
       "      <td>15053</td>\n",
       "    </tr>\n",
       "    <tr>\n",
       "      <th>2</th>\n",
       "      <td>det</td>\n",
       "      <td>l'</td>\n",
       "      <td>7902</td>\n",
       "    </tr>\n",
       "    <tr>\n",
       "      <th>3</th>\n",
       "      <td>det</td>\n",
       "      <td>els</td>\n",
       "      <td>7011</td>\n",
       "    </tr>\n",
       "    <tr>\n",
       "      <th>4</th>\n",
       "      <td>det</td>\n",
       "      <td>les</td>\n",
       "      <td>4767</td>\n",
       "    </tr>\n",
       "  </tbody>\n",
       "</table style=\"display:inline\"><table style=\"display:inline\" border=\"1\" class=\"dataframe\">\n",
       "  <thead>\n",
       "    <tr style=\"text-align: right;\">\n",
       "      <th></th>\n",
       "      <th>tags</th>\n",
       "      <th>tokens</th>\n",
       "      <th>count</th>\n",
       "    </tr>\n",
       "  </thead>\n",
       "  <tbody>\n",
       "    <tr>\n",
       "      <th>0</th>\n",
       "      <td>propn</td>\n",
       "      <td>catalunya</td>\n",
       "      <td>619</td>\n",
       "    </tr>\n",
       "    <tr>\n",
       "      <th>1</th>\n",
       "      <td>propn</td>\n",
       "      <td>barcelona</td>\n",
       "      <td>517</td>\n",
       "    </tr>\n",
       "    <tr>\n",
       "      <th>2</th>\n",
       "      <td>propn</td>\n",
       "      <td>govern</td>\n",
       "      <td>349</td>\n",
       "    </tr>\n",
       "    <tr>\n",
       "      <th>3</th>\n",
       "      <td>propn</td>\n",
       "      <td>generalitat</td>\n",
       "      <td>342</td>\n",
       "    </tr>\n",
       "    <tr>\n",
       "      <th>4</th>\n",
       "      <td>propn</td>\n",
       "      <td>sant</td>\n",
       "      <td>247</td>\n",
       "    </tr>\n",
       "  </tbody>\n",
       "</table style=\"display:inline\"><table style=\"display:inline\" border=\"1\" class=\"dataframe\">\n",
       "  <thead>\n",
       "    <tr style=\"text-align: right;\">\n",
       "      <th></th>\n",
       "      <th>tags</th>\n",
       "      <th>tokens</th>\n",
       "      <th>count</th>\n",
       "    </tr>\n",
       "  </thead>\n",
       "  <tbody>\n",
       "    <tr>\n",
       "      <th>0</th>\n",
       "      <td>punct</td>\n",
       "      <td>,</td>\n",
       "      <td>20933</td>\n",
       "    </tr>\n",
       "    <tr>\n",
       "      <th>1</th>\n",
       "      <td>punct</td>\n",
       "      <td>.</td>\n",
       "      <td>12972</td>\n",
       "    </tr>\n",
       "    <tr>\n",
       "      <th>2</th>\n",
       "      <td>punct</td>\n",
       "      <td>\"</td>\n",
       "      <td>3525</td>\n",
       "    </tr>\n",
       "    <tr>\n",
       "      <th>3</th>\n",
       "      <td>punct</td>\n",
       "      <td>'</td>\n",
       "      <td>2943</td>\n",
       "    </tr>\n",
       "    <tr>\n",
       "      <th>4</th>\n",
       "      <td>punct</td>\n",
       "      <td>(</td>\n",
       "      <td>1326</td>\n",
       "    </tr>\n",
       "  </tbody>\n",
       "</table style=\"display:inline\"><table style=\"display:inline\" border=\"1\" class=\"dataframe\">\n",
       "  <thead>\n",
       "    <tr style=\"text-align: right;\">\n",
       "      <th></th>\n",
       "      <th>tags</th>\n",
       "      <th>tokens</th>\n",
       "      <th>count</th>\n",
       "    </tr>\n",
       "  </thead>\n",
       "  <tbody>\n",
       "    <tr>\n",
       "      <th>0</th>\n",
       "      <td>aux</td>\n",
       "      <td>va</td>\n",
       "      <td>4003</td>\n",
       "    </tr>\n",
       "    <tr>\n",
       "      <th>1</th>\n",
       "      <td>aux</td>\n",
       "      <td>ha</td>\n",
       "      <td>3699</td>\n",
       "    </tr>\n",
       "    <tr>\n",
       "      <th>2</th>\n",
       "      <td>aux</td>\n",
       "      <td>és</td>\n",
       "      <td>1685</td>\n",
       "    </tr>\n",
       "    <tr>\n",
       "      <th>3</th>\n",
       "      <td>aux</td>\n",
       "      <td>van</td>\n",
       "      <td>1221</td>\n",
       "    </tr>\n",
       "    <tr>\n",
       "      <th>4</th>\n",
       "      <td>aux</td>\n",
       "      <td>han</td>\n",
       "      <td>1096</td>\n",
       "    </tr>\n",
       "  </tbody>\n",
       "</table style=\"display:inline\"><table style=\"display:inline\" border=\"1\" class=\"dataframe\">\n",
       "  <thead>\n",
       "    <tr style=\"text-align: right;\">\n",
       "      <th></th>\n",
       "      <th>tags</th>\n",
       "      <th>tokens</th>\n",
       "      <th>count</th>\n",
       "    </tr>\n",
       "  </thead>\n",
       "  <tbody>\n",
       "    <tr>\n",
       "      <th>0</th>\n",
       "      <td>verb</td>\n",
       "      <td>fer</td>\n",
       "      <td>582</td>\n",
       "    </tr>\n",
       "    <tr>\n",
       "      <th>1</th>\n",
       "      <td>verb</td>\n",
       "      <td>té</td>\n",
       "      <td>376</td>\n",
       "    </tr>\n",
       "    <tr>\n",
       "      <th>2</th>\n",
       "      <td>verb</td>\n",
       "      <td>ha</td>\n",
       "      <td>370</td>\n",
       "    </tr>\n",
       "    <tr>\n",
       "      <th>3</th>\n",
       "      <td>verb</td>\n",
       "      <td>fa</td>\n",
       "      <td>328</td>\n",
       "    </tr>\n",
       "    <tr>\n",
       "      <th>4</th>\n",
       "      <td>verb</td>\n",
       "      <td>fet</td>\n",
       "      <td>224</td>\n",
       "    </tr>\n",
       "  </tbody>\n",
       "</table style=\"display:inline\"><table style=\"display:inline\" border=\"1\" class=\"dataframe\">\n",
       "  <thead>\n",
       "    <tr style=\"text-align: right;\">\n",
       "      <th></th>\n",
       "      <th>tags</th>\n",
       "      <th>tokens</th>\n",
       "      <th>count</th>\n",
       "    </tr>\n",
       "  </thead>\n",
       "  <tbody>\n",
       "    <tr>\n",
       "      <th>0</th>\n",
       "      <td>noun</td>\n",
       "      <td>any</td>\n",
       "      <td>700</td>\n",
       "    </tr>\n",
       "    <tr>\n",
       "      <th>1</th>\n",
       "      <td>noun</td>\n",
       "      <td>anys</td>\n",
       "      <td>693</td>\n",
       "    </tr>\n",
       "    <tr>\n",
       "      <th>2</th>\n",
       "      <td>noun</td>\n",
       "      <td>milions</td>\n",
       "      <td>492</td>\n",
       "    </tr>\n",
       "    <tr>\n",
       "      <th>3</th>\n",
       "      <td>noun</td>\n",
       "      <td>pessetes</td>\n",
       "      <td>457</td>\n",
       "    </tr>\n",
       "    <tr>\n",
       "      <th>4</th>\n",
       "      <td>noun</td>\n",
       "      <td>president</td>\n",
       "      <td>362</td>\n",
       "    </tr>\n",
       "  </tbody>\n",
       "</table style=\"display:inline\"><table style=\"display:inline\" border=\"1\" class=\"dataframe\">\n",
       "  <thead>\n",
       "    <tr style=\"text-align: right;\">\n",
       "      <th></th>\n",
       "      <th>tags</th>\n",
       "      <th>tokens</th>\n",
       "      <th>count</th>\n",
       "    </tr>\n",
       "  </thead>\n",
       "  <tbody>\n",
       "    <tr>\n",
       "      <th>0</th>\n",
       "      <td>adp</td>\n",
       "      <td>de</td>\n",
       "      <td>30344</td>\n",
       "    </tr>\n",
       "    <tr>\n",
       "      <th>1</th>\n",
       "      <td>adp</td>\n",
       "      <td>a</td>\n",
       "      <td>13207</td>\n",
       "    </tr>\n",
       "    <tr>\n",
       "      <th>2</th>\n",
       "      <td>adp</td>\n",
       "      <td>d'</td>\n",
       "      <td>6684</td>\n",
       "    </tr>\n",
       "    <tr>\n",
       "      <th>3</th>\n",
       "      <td>adp</td>\n",
       "      <td>per</td>\n",
       "      <td>5791</td>\n",
       "    </tr>\n",
       "    <tr>\n",
       "      <th>4</th>\n",
       "      <td>adp</td>\n",
       "      <td>en</td>\n",
       "      <td>5570</td>\n",
       "    </tr>\n",
       "  </tbody>\n",
       "</table style=\"display:inline\"><table style=\"display:inline\" border=\"1\" class=\"dataframe\">\n",
       "  <thead>\n",
       "    <tr style=\"text-align: right;\">\n",
       "      <th></th>\n",
       "      <th>tags</th>\n",
       "      <th>tokens</th>\n",
       "      <th>count</th>\n",
       "    </tr>\n",
       "  </thead>\n",
       "  <tbody>\n",
       "    <tr>\n",
       "      <th>0</th>\n",
       "      <td>num</td>\n",
       "      <td>dos</td>\n",
       "      <td>479</td>\n",
       "    </tr>\n",
       "    <tr>\n",
       "      <th>1</th>\n",
       "      <td>num</td>\n",
       "      <td>tres</td>\n",
       "      <td>358</td>\n",
       "    </tr>\n",
       "    <tr>\n",
       "      <th>2</th>\n",
       "      <td>num</td>\n",
       "      <td>dues</td>\n",
       "      <td>244</td>\n",
       "    </tr>\n",
       "    <tr>\n",
       "      <th>3</th>\n",
       "      <td>num</td>\n",
       "      <td>quatre</td>\n",
       "      <td>197</td>\n",
       "    </tr>\n",
       "    <tr>\n",
       "      <th>4</th>\n",
       "      <td>num</td>\n",
       "      <td>cent</td>\n",
       "      <td>176</td>\n",
       "    </tr>\n",
       "  </tbody>\n",
       "</table style=\"display:inline\"><table style=\"display:inline\" border=\"1\" class=\"dataframe\">\n",
       "  <thead>\n",
       "    <tr style=\"text-align: right;\">\n",
       "      <th></th>\n",
       "      <th>tags</th>\n",
       "      <th>tokens</th>\n",
       "      <th>count</th>\n",
       "    </tr>\n",
       "  </thead>\n",
       "  <tbody>\n",
       "    <tr>\n",
       "      <th>0</th>\n",
       "      <td>adj</td>\n",
       "      <td>gran</td>\n",
       "      <td>263</td>\n",
       "    </tr>\n",
       "    <tr>\n",
       "      <th>1</th>\n",
       "      <td>adj</td>\n",
       "      <td>passat</td>\n",
       "      <td>261</td>\n",
       "    </tr>\n",
       "    <tr>\n",
       "      <th>2</th>\n",
       "      <td>adj</td>\n",
       "      <td>primer</td>\n",
       "      <td>242</td>\n",
       "    </tr>\n",
       "    <tr>\n",
       "      <th>3</th>\n",
       "      <td>adj</td>\n",
       "      <td>nou</td>\n",
       "      <td>222</td>\n",
       "    </tr>\n",
       "    <tr>\n",
       "      <th>4</th>\n",
       "      <td>adj</td>\n",
       "      <td>general</td>\n",
       "      <td>200</td>\n",
       "    </tr>\n",
       "  </tbody>\n",
       "</table style=\"display:inline\"><table style=\"display:inline\" border=\"1\" class=\"dataframe\">\n",
       "  <thead>\n",
       "    <tr style=\"text-align: right;\">\n",
       "      <th></th>\n",
       "      <th>tags</th>\n",
       "      <th>tokens</th>\n",
       "      <th>count</th>\n",
       "    </tr>\n",
       "  </thead>\n",
       "  <tbody>\n",
       "    <tr>\n",
       "      <th>0</th>\n",
       "      <td>cconj</td>\n",
       "      <td>i</td>\n",
       "      <td>10038</td>\n",
       "    </tr>\n",
       "    <tr>\n",
       "      <th>1</th>\n",
       "      <td>cconj</td>\n",
       "      <td>o</td>\n",
       "      <td>629</td>\n",
       "    </tr>\n",
       "    <tr>\n",
       "      <th>2</th>\n",
       "      <td>cconj</td>\n",
       "      <td>però</td>\n",
       "      <td>621</td>\n",
       "    </tr>\n",
       "    <tr>\n",
       "      <th>3</th>\n",
       "      <td>cconj</td>\n",
       "      <td>ni</td>\n",
       "      <td>211</td>\n",
       "    </tr>\n",
       "    <tr>\n",
       "      <th>4</th>\n",
       "      <td>cconj</td>\n",
       "      <td>sinó</td>\n",
       "      <td>138</td>\n",
       "    </tr>\n",
       "  </tbody>\n",
       "</table style=\"display:inline\"><table style=\"display:inline\" border=\"1\" class=\"dataframe\">\n",
       "  <thead>\n",
       "    <tr style=\"text-align: right;\">\n",
       "      <th></th>\n",
       "      <th>tags</th>\n",
       "      <th>tokens</th>\n",
       "      <th>count</th>\n",
       "    </tr>\n",
       "  </thead>\n",
       "  <tbody>\n",
       "    <tr>\n",
       "      <th>0</th>\n",
       "      <td>_</td>\n",
       "      <td>del</td>\n",
       "      <td>5379</td>\n",
       "    </tr>\n",
       "    <tr>\n",
       "      <th>1</th>\n",
       "      <td>_</td>\n",
       "      <td>al</td>\n",
       "      <td>2617</td>\n",
       "    </tr>\n",
       "    <tr>\n",
       "      <th>2</th>\n",
       "      <td>_</td>\n",
       "      <td>dels</td>\n",
       "      <td>2070</td>\n",
       "    </tr>\n",
       "    <tr>\n",
       "      <th>3</th>\n",
       "      <td>_</td>\n",
       "      <td>als</td>\n",
       "      <td>792</td>\n",
       "    </tr>\n",
       "    <tr>\n",
       "      <th>4</th>\n",
       "      <td>_</td>\n",
       "      <td>pel</td>\n",
       "      <td>501</td>\n",
       "    </tr>\n",
       "  </tbody>\n",
       "</table style=\"display:inline\"><table style=\"display:inline\" border=\"1\" class=\"dataframe\">\n",
       "  <thead>\n",
       "    <tr style=\"text-align: right;\">\n",
       "      <th></th>\n",
       "      <th>tags</th>\n",
       "      <th>tokens</th>\n",
       "      <th>count</th>\n",
       "    </tr>\n",
       "  </thead>\n",
       "  <tbody>\n",
       "    <tr>\n",
       "      <th>0</th>\n",
       "      <td>pron</td>\n",
       "      <td>que</td>\n",
       "      <td>5664</td>\n",
       "    </tr>\n",
       "    <tr>\n",
       "      <th>1</th>\n",
       "      <td>pron</td>\n",
       "      <td>_</td>\n",
       "      <td>4999</td>\n",
       "    </tr>\n",
       "    <tr>\n",
       "      <th>2</th>\n",
       "      <td>pron</td>\n",
       "      <td>es</td>\n",
       "      <td>2648</td>\n",
       "    </tr>\n",
       "    <tr>\n",
       "      <th>3</th>\n",
       "      <td>pron</td>\n",
       "      <td>s'</td>\n",
       "      <td>1813</td>\n",
       "    </tr>\n",
       "    <tr>\n",
       "      <th>4</th>\n",
       "      <td>pron</td>\n",
       "      <td>hi</td>\n",
       "      <td>1046</td>\n",
       "    </tr>\n",
       "  </tbody>\n",
       "</table style=\"display:inline\"><table style=\"display:inline\" border=\"1\" class=\"dataframe\">\n",
       "  <thead>\n",
       "    <tr style=\"text-align: right;\">\n",
       "      <th></th>\n",
       "      <th>tags</th>\n",
       "      <th>tokens</th>\n",
       "      <th>count</th>\n",
       "    </tr>\n",
       "  </thead>\n",
       "  <tbody>\n",
       "    <tr>\n",
       "      <th>0</th>\n",
       "      <td>sconj</td>\n",
       "      <td>que</td>\n",
       "      <td>5280</td>\n",
       "    </tr>\n",
       "    <tr>\n",
       "      <th>1</th>\n",
       "      <td>sconj</td>\n",
       "      <td>com</td>\n",
       "      <td>1448</td>\n",
       "    </tr>\n",
       "    <tr>\n",
       "      <th>2</th>\n",
       "      <td>sconj</td>\n",
       "      <td>perquè</td>\n",
       "      <td>509</td>\n",
       "    </tr>\n",
       "    <tr>\n",
       "      <th>3</th>\n",
       "      <td>sconj</td>\n",
       "      <td>si</td>\n",
       "      <td>481</td>\n",
       "    </tr>\n",
       "    <tr>\n",
       "      <th>4</th>\n",
       "      <td>sconj</td>\n",
       "      <td>quan</td>\n",
       "      <td>353</td>\n",
       "    </tr>\n",
       "  </tbody>\n",
       "</table style=\"display:inline\"><table style=\"display:inline\" border=\"1\" class=\"dataframe\">\n",
       "  <thead>\n",
       "    <tr style=\"text-align: right;\">\n",
       "      <th></th>\n",
       "      <th>tags</th>\n",
       "      <th>tokens</th>\n",
       "      <th>count</th>\n",
       "    </tr>\n",
       "  </thead>\n",
       "  <tbody>\n",
       "    <tr>\n",
       "      <th>0</th>\n",
       "      <td>adv</td>\n",
       "      <td>no</td>\n",
       "      <td>2218</td>\n",
       "    </tr>\n",
       "    <tr>\n",
       "      <th>1</th>\n",
       "      <td>adv</td>\n",
       "      <td>més</td>\n",
       "      <td>1723</td>\n",
       "    </tr>\n",
       "    <tr>\n",
       "      <th>2</th>\n",
       "      <td>adv</td>\n",
       "      <td>també</td>\n",
       "      <td>784</td>\n",
       "    </tr>\n",
       "    <tr>\n",
       "      <th>3</th>\n",
       "      <td>adv</td>\n",
       "      <td>ja</td>\n",
       "      <td>580</td>\n",
       "    </tr>\n",
       "    <tr>\n",
       "      <th>4</th>\n",
       "      <td>adv</td>\n",
       "      <td>després</td>\n",
       "      <td>457</td>\n",
       "    </tr>\n",
       "  </tbody>\n",
       "</table style=\"display:inline\"><table style=\"display:inline\" border=\"1\" class=\"dataframe\">\n",
       "  <thead>\n",
       "    <tr style=\"text-align: right;\">\n",
       "      <th></th>\n",
       "      <th>tags</th>\n",
       "      <th>tokens</th>\n",
       "      <th>count</th>\n",
       "    </tr>\n",
       "  </thead>\n",
       "  <tbody>\n",
       "    <tr>\n",
       "      <th>0</th>\n",
       "      <td>sym</td>\n",
       "      <td>%</td>\n",
       "      <td>203</td>\n",
       "    </tr>\n",
       "    <tr>\n",
       "      <th>1</th>\n",
       "      <td>sym</td>\n",
       "      <td>50%</td>\n",
       "      <td>15</td>\n",
       "    </tr>\n",
       "    <tr>\n",
       "      <th>2</th>\n",
       "      <td>sym</td>\n",
       "      <td>10%</td>\n",
       "      <td>12</td>\n",
       "    </tr>\n",
       "    <tr>\n",
       "      <th>3</th>\n",
       "      <td>sym</td>\n",
       "      <td>30%</td>\n",
       "      <td>12</td>\n",
       "    </tr>\n",
       "    <tr>\n",
       "      <th>4</th>\n",
       "      <td>sym</td>\n",
       "      <td>40%</td>\n",
       "      <td>11</td>\n",
       "    </tr>\n",
       "  </tbody>\n",
       "</table style=\"display:inline\"><table style=\"display:inline\" border=\"1\" class=\"dataframe\">\n",
       "  <thead>\n",
       "    <tr style=\"text-align: right;\">\n",
       "      <th></th>\n",
       "      <th>tags</th>\n",
       "      <th>tokens</th>\n",
       "      <th>count</th>\n",
       "    </tr>\n",
       "  </thead>\n",
       "  <tbody>\n",
       "    <tr>\n",
       "      <th>0</th>\n",
       "      <td>part</td>\n",
       "      <td>no</td>\n",
       "      <td>113</td>\n",
       "    </tr>\n",
       "  </tbody>\n",
       "</table style=\"display:inline\"><table style=\"display:inline\" border=\"1\" class=\"dataframe\">\n",
       "  <thead>\n",
       "    <tr style=\"text-align: right;\">\n",
       "      <th></th>\n",
       "      <th>tags</th>\n",
       "      <th>tokens</th>\n",
       "      <th>count</th>\n",
       "    </tr>\n",
       "  </thead>\n",
       "  <tbody>\n",
       "    <tr>\n",
       "      <th>0</th>\n",
       "      <td>x</td>\n",
       "      <td>8'5</td>\n",
       "      <td>2</td>\n",
       "    </tr>\n",
       "    <tr>\n",
       "      <th>1</th>\n",
       "      <td>x</td>\n",
       "      <td>1'2</td>\n",
       "      <td>1</td>\n",
       "    </tr>\n",
       "    <tr>\n",
       "      <th>2</th>\n",
       "      <td>x</td>\n",
       "      <td>17'5</td>\n",
       "      <td>1</td>\n",
       "    </tr>\n",
       "    <tr>\n",
       "      <th>3</th>\n",
       "      <td>x</td>\n",
       "      <td>32'5</td>\n",
       "      <td>1</td>\n",
       "    </tr>\n",
       "    <tr>\n",
       "      <th>4</th>\n",
       "      <td>x</td>\n",
       "      <td>38'3</td>\n",
       "      <td>1</td>\n",
       "    </tr>\n",
       "  </tbody>\n",
       "</table style=\"display:inline\"><table style=\"display:inline\" border=\"1\" class=\"dataframe\">\n",
       "  <thead>\n",
       "    <tr style=\"text-align: right;\">\n",
       "      <th></th>\n",
       "      <th>tags</th>\n",
       "      <th>tokens</th>\n",
       "      <th>count</th>\n",
       "    </tr>\n",
       "  </thead>\n",
       "  <tbody>\n",
       "    <tr>\n",
       "      <th>0</th>\n",
       "      <td>intj</td>\n",
       "      <td>vaja</td>\n",
       "      <td>3</td>\n",
       "    </tr>\n",
       "    <tr>\n",
       "      <th>1</th>\n",
       "      <td>intj</td>\n",
       "      <td>he</td>\n",
       "      <td>2</td>\n",
       "    </tr>\n",
       "    <tr>\n",
       "      <th>2</th>\n",
       "      <td>intj</td>\n",
       "      <td>compte</td>\n",
       "      <td>1</td>\n",
       "    </tr>\n",
       "    <tr>\n",
       "      <th>3</th>\n",
       "      <td>intj</td>\n",
       "      <td>déu</td>\n",
       "      <td>1</td>\n",
       "    </tr>\n",
       "    <tr>\n",
       "      <th>4</th>\n",
       "      <td>intj</td>\n",
       "      <td>home</td>\n",
       "      <td>1</td>\n",
       "    </tr>\n",
       "  </tbody>\n",
       "</table style=\"display:inline\">"
      ]
     },
     "metadata": {},
     "output_type": "display_data"
    }
   ],
   "source": [
    "train_dfs = [print_top_tokens_given_tag(train_df, tag) for tag in tags]\n",
    "display_side_by_side(*train_dfs)"
   ]
  },
  {
   "cell_type": "markdown",
   "metadata": {},
   "source": [
    "* The most common determiners are the articles (the feminine, masculine, singular and plural varieties).\n",
    "* The most common proper nouns are Catalunya, Barcelona, Govern and Generalitat. The texts must have been taken from governemnt-related couments.\n",
    "* `Ha` is labelled both as verb and aux and it is very common in both tags, this particle might be confusing for the model.\n",
    "* `És` is labelled as an auxiliary verb, but depending on the context could be misleading (since it is the third person singular of the verb to be)\n",
    "* The `num` category and de `x` category could be equivalent since `x` seems to show the numeric values whereas `num` is the word representation of the numbers.\n",
    "* `adv` and `part` have both the token \"no\" and could also be considered equivalent."
   ]
  },
  {
   "cell_type": "code",
   "execution_count": 27,
   "metadata": {},
   "outputs": [
    {
     "data": {
      "text/html": [
       "<table style=\"display:inline\" border=\"1\" class=\"dataframe\">\n",
       "  <thead>\n",
       "    <tr style=\"text-align: right;\">\n",
       "      <th></th>\n",
       "      <th>tags</th>\n",
       "      <th>tokens</th>\n",
       "      <th>count</th>\n",
       "    </tr>\n",
       "  </thead>\n",
       "  <tbody>\n",
       "    <tr>\n",
       "      <th>0</th>\n",
       "      <td>det</td>\n",
       "      <td>el</td>\n",
       "      <td>2567</td>\n",
       "    </tr>\n",
       "    <tr>\n",
       "      <th>1</th>\n",
       "      <td>det</td>\n",
       "      <td>la</td>\n",
       "      <td>2203</td>\n",
       "    </tr>\n",
       "    <tr>\n",
       "      <th>2</th>\n",
       "      <td>det</td>\n",
       "      <td>l'</td>\n",
       "      <td>1155</td>\n",
       "    </tr>\n",
       "    <tr>\n",
       "      <th>3</th>\n",
       "      <td>det</td>\n",
       "      <td>els</td>\n",
       "      <td>984</td>\n",
       "    </tr>\n",
       "    <tr>\n",
       "      <th>4</th>\n",
       "      <td>det</td>\n",
       "      <td>les</td>\n",
       "      <td>645</td>\n",
       "    </tr>\n",
       "  </tbody>\n",
       "</table style=\"display:inline\"><table style=\"display:inline\" border=\"1\" class=\"dataframe\">\n",
       "  <thead>\n",
       "    <tr style=\"text-align: right;\">\n",
       "      <th></th>\n",
       "      <th>tags</th>\n",
       "      <th>tokens</th>\n",
       "      <th>count</th>\n",
       "    </tr>\n",
       "  </thead>\n",
       "  <tbody>\n",
       "    <tr>\n",
       "      <th>0</th>\n",
       "      <td>propn</td>\n",
       "      <td>catalunya</td>\n",
       "      <td>76</td>\n",
       "    </tr>\n",
       "    <tr>\n",
       "      <th>1</th>\n",
       "      <td>propn</td>\n",
       "      <td>barcelona</td>\n",
       "      <td>70</td>\n",
       "    </tr>\n",
       "    <tr>\n",
       "      <th>2</th>\n",
       "      <td>propn</td>\n",
       "      <td>generalitat</td>\n",
       "      <td>63</td>\n",
       "    </tr>\n",
       "    <tr>\n",
       "      <th>3</th>\n",
       "      <td>propn</td>\n",
       "      <td>govern</td>\n",
       "      <td>44</td>\n",
       "    </tr>\n",
       "    <tr>\n",
       "      <th>4</th>\n",
       "      <td>propn</td>\n",
       "      <td>josep</td>\n",
       "      <td>43</td>\n",
       "    </tr>\n",
       "  </tbody>\n",
       "</table style=\"display:inline\"><table style=\"display:inline\" border=\"1\" class=\"dataframe\">\n",
       "  <thead>\n",
       "    <tr style=\"text-align: right;\">\n",
       "      <th></th>\n",
       "      <th>tags</th>\n",
       "      <th>tokens</th>\n",
       "      <th>count</th>\n",
       "    </tr>\n",
       "  </thead>\n",
       "  <tbody>\n",
       "    <tr>\n",
       "      <th>0</th>\n",
       "      <td>punct</td>\n",
       "      <td>,</td>\n",
       "      <td>2947</td>\n",
       "    </tr>\n",
       "    <tr>\n",
       "      <th>1</th>\n",
       "      <td>punct</td>\n",
       "      <td>.</td>\n",
       "      <td>1837</td>\n",
       "    </tr>\n",
       "    <tr>\n",
       "      <th>2</th>\n",
       "      <td>punct</td>\n",
       "      <td>'</td>\n",
       "      <td>491</td>\n",
       "    </tr>\n",
       "    <tr>\n",
       "      <th>3</th>\n",
       "      <td>punct</td>\n",
       "      <td>\"</td>\n",
       "      <td>456</td>\n",
       "    </tr>\n",
       "    <tr>\n",
       "      <th>4</th>\n",
       "      <td>punct</td>\n",
       "      <td>(</td>\n",
       "      <td>179</td>\n",
       "    </tr>\n",
       "  </tbody>\n",
       "</table style=\"display:inline\"><table style=\"display:inline\" border=\"1\" class=\"dataframe\">\n",
       "  <thead>\n",
       "    <tr style=\"text-align: right;\">\n",
       "      <th></th>\n",
       "      <th>tags</th>\n",
       "      <th>tokens</th>\n",
       "      <th>count</th>\n",
       "    </tr>\n",
       "  </thead>\n",
       "  <tbody>\n",
       "    <tr>\n",
       "      <th>0</th>\n",
       "      <td>aux</td>\n",
       "      <td>va</td>\n",
       "      <td>609</td>\n",
       "    </tr>\n",
       "    <tr>\n",
       "      <th>1</th>\n",
       "      <td>aux</td>\n",
       "      <td>ha</td>\n",
       "      <td>475</td>\n",
       "    </tr>\n",
       "    <tr>\n",
       "      <th>2</th>\n",
       "      <td>aux</td>\n",
       "      <td>és</td>\n",
       "      <td>215</td>\n",
       "    </tr>\n",
       "    <tr>\n",
       "      <th>3</th>\n",
       "      <td>aux</td>\n",
       "      <td>van</td>\n",
       "      <td>162</td>\n",
       "    </tr>\n",
       "    <tr>\n",
       "      <th>4</th>\n",
       "      <td>aux</td>\n",
       "      <td>han</td>\n",
       "      <td>139</td>\n",
       "    </tr>\n",
       "  </tbody>\n",
       "</table style=\"display:inline\"><table style=\"display:inline\" border=\"1\" class=\"dataframe\">\n",
       "  <thead>\n",
       "    <tr style=\"text-align: right;\">\n",
       "      <th></th>\n",
       "      <th>tags</th>\n",
       "      <th>tokens</th>\n",
       "      <th>count</th>\n",
       "    </tr>\n",
       "  </thead>\n",
       "  <tbody>\n",
       "    <tr>\n",
       "      <th>0</th>\n",
       "      <td>verb</td>\n",
       "      <td>fer</td>\n",
       "      <td>77</td>\n",
       "    </tr>\n",
       "    <tr>\n",
       "      <th>1</th>\n",
       "      <td>verb</td>\n",
       "      <td>fa</td>\n",
       "      <td>52</td>\n",
       "    </tr>\n",
       "    <tr>\n",
       "      <th>2</th>\n",
       "      <td>verb</td>\n",
       "      <td>té</td>\n",
       "      <td>45</td>\n",
       "    </tr>\n",
       "    <tr>\n",
       "      <th>3</th>\n",
       "      <td>verb</td>\n",
       "      <td>ha</td>\n",
       "      <td>38</td>\n",
       "    </tr>\n",
       "    <tr>\n",
       "      <th>4</th>\n",
       "      <td>verb</td>\n",
       "      <td>tenir</td>\n",
       "      <td>28</td>\n",
       "    </tr>\n",
       "  </tbody>\n",
       "</table style=\"display:inline\"><table style=\"display:inline\" border=\"1\" class=\"dataframe\">\n",
       "  <thead>\n",
       "    <tr style=\"text-align: right;\">\n",
       "      <th></th>\n",
       "      <th>tags</th>\n",
       "      <th>tokens</th>\n",
       "      <th>count</th>\n",
       "    </tr>\n",
       "  </thead>\n",
       "  <tbody>\n",
       "    <tr>\n",
       "      <th>0</th>\n",
       "      <td>noun</td>\n",
       "      <td>any</td>\n",
       "      <td>104</td>\n",
       "    </tr>\n",
       "    <tr>\n",
       "      <th>1</th>\n",
       "      <td>noun</td>\n",
       "      <td>anys</td>\n",
       "      <td>89</td>\n",
       "    </tr>\n",
       "    <tr>\n",
       "      <th>2</th>\n",
       "      <td>noun</td>\n",
       "      <td>milions</td>\n",
       "      <td>83</td>\n",
       "    </tr>\n",
       "    <tr>\n",
       "      <th>3</th>\n",
       "      <td>noun</td>\n",
       "      <td>obra</td>\n",
       "      <td>57</td>\n",
       "    </tr>\n",
       "    <tr>\n",
       "      <th>4</th>\n",
       "      <td>noun</td>\n",
       "      <td>pessetes</td>\n",
       "      <td>57</td>\n",
       "    </tr>\n",
       "  </tbody>\n",
       "</table style=\"display:inline\"><table style=\"display:inline\" border=\"1\" class=\"dataframe\">\n",
       "  <thead>\n",
       "    <tr style=\"text-align: right;\">\n",
       "      <th></th>\n",
       "      <th>tags</th>\n",
       "      <th>tokens</th>\n",
       "      <th>count</th>\n",
       "    </tr>\n",
       "  </thead>\n",
       "  <tbody>\n",
       "    <tr>\n",
       "      <th>0</th>\n",
       "      <td>adp</td>\n",
       "      <td>de</td>\n",
       "      <td>4332</td>\n",
       "    </tr>\n",
       "    <tr>\n",
       "      <th>1</th>\n",
       "      <td>adp</td>\n",
       "      <td>a</td>\n",
       "      <td>1803</td>\n",
       "    </tr>\n",
       "    <tr>\n",
       "      <th>2</th>\n",
       "      <td>adp</td>\n",
       "      <td>d'</td>\n",
       "      <td>881</td>\n",
       "    </tr>\n",
       "    <tr>\n",
       "      <th>3</th>\n",
       "      <td>adp</td>\n",
       "      <td>en</td>\n",
       "      <td>801</td>\n",
       "    </tr>\n",
       "    <tr>\n",
       "      <th>4</th>\n",
       "      <td>adp</td>\n",
       "      <td>per</td>\n",
       "      <td>762</td>\n",
       "    </tr>\n",
       "  </tbody>\n",
       "</table style=\"display:inline\"><table style=\"display:inline\" border=\"1\" class=\"dataframe\">\n",
       "  <thead>\n",
       "    <tr style=\"text-align: right;\">\n",
       "      <th></th>\n",
       "      <th>tags</th>\n",
       "      <th>tokens</th>\n",
       "      <th>count</th>\n",
       "    </tr>\n",
       "  </thead>\n",
       "  <tbody>\n",
       "    <tr>\n",
       "      <th>0</th>\n",
       "      <td>num</td>\n",
       "      <td>dos</td>\n",
       "      <td>70</td>\n",
       "    </tr>\n",
       "    <tr>\n",
       "      <th>1</th>\n",
       "      <td>num</td>\n",
       "      <td>tres</td>\n",
       "      <td>59</td>\n",
       "    </tr>\n",
       "    <tr>\n",
       "      <th>2</th>\n",
       "      <td>num</td>\n",
       "      <td>dues</td>\n",
       "      <td>30</td>\n",
       "    </tr>\n",
       "    <tr>\n",
       "      <th>3</th>\n",
       "      <td>num</td>\n",
       "      <td>un</td>\n",
       "      <td>27</td>\n",
       "    </tr>\n",
       "    <tr>\n",
       "      <th>4</th>\n",
       "      <td>num</td>\n",
       "      <td>set</td>\n",
       "      <td>26</td>\n",
       "    </tr>\n",
       "  </tbody>\n",
       "</table style=\"display:inline\"><table style=\"display:inline\" border=\"1\" class=\"dataframe\">\n",
       "  <thead>\n",
       "    <tr style=\"text-align: right;\">\n",
       "      <th></th>\n",
       "      <th>tags</th>\n",
       "      <th>tokens</th>\n",
       "      <th>count</th>\n",
       "    </tr>\n",
       "  </thead>\n",
       "  <tbody>\n",
       "    <tr>\n",
       "      <th>0</th>\n",
       "      <td>adj</td>\n",
       "      <td>passat</td>\n",
       "      <td>38</td>\n",
       "    </tr>\n",
       "    <tr>\n",
       "      <th>1</th>\n",
       "      <td>adj</td>\n",
       "      <td>general</td>\n",
       "      <td>36</td>\n",
       "    </tr>\n",
       "    <tr>\n",
       "      <th>2</th>\n",
       "      <td>adj</td>\n",
       "      <td>nou</td>\n",
       "      <td>30</td>\n",
       "    </tr>\n",
       "    <tr>\n",
       "      <th>3</th>\n",
       "      <td>adj</td>\n",
       "      <td>primer</td>\n",
       "      <td>30</td>\n",
       "    </tr>\n",
       "    <tr>\n",
       "      <th>4</th>\n",
       "      <td>adj</td>\n",
       "      <td>primera</td>\n",
       "      <td>29</td>\n",
       "    </tr>\n",
       "  </tbody>\n",
       "</table style=\"display:inline\"><table style=\"display:inline\" border=\"1\" class=\"dataframe\">\n",
       "  <thead>\n",
       "    <tr style=\"text-align: right;\">\n",
       "      <th></th>\n",
       "      <th>tags</th>\n",
       "      <th>tokens</th>\n",
       "      <th>count</th>\n",
       "    </tr>\n",
       "  </thead>\n",
       "  <tbody>\n",
       "    <tr>\n",
       "      <th>0</th>\n",
       "      <td>cconj</td>\n",
       "      <td>i</td>\n",
       "      <td>1374</td>\n",
       "    </tr>\n",
       "    <tr>\n",
       "      <th>1</th>\n",
       "      <td>cconj</td>\n",
       "      <td>o</td>\n",
       "      <td>89</td>\n",
       "    </tr>\n",
       "    <tr>\n",
       "      <th>2</th>\n",
       "      <td>cconj</td>\n",
       "      <td>però</td>\n",
       "      <td>74</td>\n",
       "    </tr>\n",
       "    <tr>\n",
       "      <th>3</th>\n",
       "      <td>cconj</td>\n",
       "      <td>ni</td>\n",
       "      <td>29</td>\n",
       "    </tr>\n",
       "    <tr>\n",
       "      <th>4</th>\n",
       "      <td>cconj</td>\n",
       "      <td>sinó</td>\n",
       "      <td>23</td>\n",
       "    </tr>\n",
       "  </tbody>\n",
       "</table style=\"display:inline\"><table style=\"display:inline\" border=\"1\" class=\"dataframe\">\n",
       "  <thead>\n",
       "    <tr style=\"text-align: right;\">\n",
       "      <th></th>\n",
       "      <th>tags</th>\n",
       "      <th>tokens</th>\n",
       "      <th>count</th>\n",
       "    </tr>\n",
       "  </thead>\n",
       "  <tbody>\n",
       "    <tr>\n",
       "      <th>0</th>\n",
       "      <td>_</td>\n",
       "      <td>del</td>\n",
       "      <td>769</td>\n",
       "    </tr>\n",
       "    <tr>\n",
       "      <th>1</th>\n",
       "      <td>_</td>\n",
       "      <td>al</td>\n",
       "      <td>323</td>\n",
       "    </tr>\n",
       "    <tr>\n",
       "      <th>2</th>\n",
       "      <td>_</td>\n",
       "      <td>dels</td>\n",
       "      <td>285</td>\n",
       "    </tr>\n",
       "    <tr>\n",
       "      <th>3</th>\n",
       "      <td>_</td>\n",
       "      <td>als</td>\n",
       "      <td>122</td>\n",
       "    </tr>\n",
       "    <tr>\n",
       "      <th>4</th>\n",
       "      <td>_</td>\n",
       "      <td>pel</td>\n",
       "      <td>69</td>\n",
       "    </tr>\n",
       "  </tbody>\n",
       "</table style=\"display:inline\"><table style=\"display:inline\" border=\"1\" class=\"dataframe\">\n",
       "  <thead>\n",
       "    <tr style=\"text-align: right;\">\n",
       "      <th></th>\n",
       "      <th>tags</th>\n",
       "      <th>tokens</th>\n",
       "      <th>count</th>\n",
       "    </tr>\n",
       "  </thead>\n",
       "  <tbody>\n",
       "    <tr>\n",
       "      <th>0</th>\n",
       "      <td>pron</td>\n",
       "      <td>que</td>\n",
       "      <td>779</td>\n",
       "    </tr>\n",
       "    <tr>\n",
       "      <th>1</th>\n",
       "      <td>pron</td>\n",
       "      <td>_</td>\n",
       "      <td>599</td>\n",
       "    </tr>\n",
       "    <tr>\n",
       "      <th>2</th>\n",
       "      <td>pron</td>\n",
       "      <td>es</td>\n",
       "      <td>356</td>\n",
       "    </tr>\n",
       "    <tr>\n",
       "      <th>3</th>\n",
       "      <td>pron</td>\n",
       "      <td>s'</td>\n",
       "      <td>277</td>\n",
       "    </tr>\n",
       "    <tr>\n",
       "      <th>4</th>\n",
       "      <td>pron</td>\n",
       "      <td>hi</td>\n",
       "      <td>141</td>\n",
       "    </tr>\n",
       "  </tbody>\n",
       "</table style=\"display:inline\"><table style=\"display:inline\" border=\"1\" class=\"dataframe\">\n",
       "  <thead>\n",
       "    <tr style=\"text-align: right;\">\n",
       "      <th></th>\n",
       "      <th>tags</th>\n",
       "      <th>tokens</th>\n",
       "      <th>count</th>\n",
       "    </tr>\n",
       "  </thead>\n",
       "  <tbody>\n",
       "    <tr>\n",
       "      <th>0</th>\n",
       "      <td>sconj</td>\n",
       "      <td>que</td>\n",
       "      <td>625</td>\n",
       "    </tr>\n",
       "    <tr>\n",
       "      <th>1</th>\n",
       "      <td>sconj</td>\n",
       "      <td>com</td>\n",
       "      <td>190</td>\n",
       "    </tr>\n",
       "    <tr>\n",
       "      <th>2</th>\n",
       "      <td>sconj</td>\n",
       "      <td>quan</td>\n",
       "      <td>58</td>\n",
       "    </tr>\n",
       "    <tr>\n",
       "      <th>3</th>\n",
       "      <td>sconj</td>\n",
       "      <td>perquè</td>\n",
       "      <td>50</td>\n",
       "    </tr>\n",
       "    <tr>\n",
       "      <th>4</th>\n",
       "      <td>sconj</td>\n",
       "      <td>si</td>\n",
       "      <td>45</td>\n",
       "    </tr>\n",
       "  </tbody>\n",
       "</table style=\"display:inline\"><table style=\"display:inline\" border=\"1\" class=\"dataframe\">\n",
       "  <thead>\n",
       "    <tr style=\"text-align: right;\">\n",
       "      <th></th>\n",
       "      <th>tags</th>\n",
       "      <th>tokens</th>\n",
       "      <th>count</th>\n",
       "    </tr>\n",
       "  </thead>\n",
       "  <tbody>\n",
       "    <tr>\n",
       "      <th>0</th>\n",
       "      <td>adv</td>\n",
       "      <td>no</td>\n",
       "      <td>282</td>\n",
       "    </tr>\n",
       "    <tr>\n",
       "      <th>1</th>\n",
       "      <td>adv</td>\n",
       "      <td>més</td>\n",
       "      <td>215</td>\n",
       "    </tr>\n",
       "    <tr>\n",
       "      <th>2</th>\n",
       "      <td>adv</td>\n",
       "      <td>també</td>\n",
       "      <td>120</td>\n",
       "    </tr>\n",
       "    <tr>\n",
       "      <th>3</th>\n",
       "      <td>adv</td>\n",
       "      <td>ja</td>\n",
       "      <td>105</td>\n",
       "    </tr>\n",
       "    <tr>\n",
       "      <th>4</th>\n",
       "      <td>adv</td>\n",
       "      <td>ahir</td>\n",
       "      <td>61</td>\n",
       "    </tr>\n",
       "  </tbody>\n",
       "</table style=\"display:inline\"><table style=\"display:inline\" border=\"1\" class=\"dataframe\">\n",
       "  <thead>\n",
       "    <tr style=\"text-align: right;\">\n",
       "      <th></th>\n",
       "      <th>tags</th>\n",
       "      <th>tokens</th>\n",
       "      <th>count</th>\n",
       "    </tr>\n",
       "  </thead>\n",
       "  <tbody>\n",
       "    <tr>\n",
       "      <th>0</th>\n",
       "      <td>sym</td>\n",
       "      <td>0,2%</td>\n",
       "      <td>4</td>\n",
       "    </tr>\n",
       "    <tr>\n",
       "      <th>1</th>\n",
       "      <td>sym</td>\n",
       "      <td>5%</td>\n",
       "      <td>4</td>\n",
       "    </tr>\n",
       "    <tr>\n",
       "      <th>2</th>\n",
       "      <td>sym</td>\n",
       "      <td>0,1%</td>\n",
       "      <td>3</td>\n",
       "    </tr>\n",
       "    <tr>\n",
       "      <th>3</th>\n",
       "      <td>sym</td>\n",
       "      <td>1,5%</td>\n",
       "      <td>3</td>\n",
       "    </tr>\n",
       "    <tr>\n",
       "      <th>4</th>\n",
       "      <td>sym</td>\n",
       "      <td>3,5%</td>\n",
       "      <td>3</td>\n",
       "    </tr>\n",
       "  </tbody>\n",
       "</table style=\"display:inline\"><table style=\"display:inline\" border=\"1\" class=\"dataframe\">\n",
       "  <thead>\n",
       "    <tr style=\"text-align: right;\">\n",
       "      <th></th>\n",
       "      <th>tags</th>\n",
       "      <th>tokens</th>\n",
       "      <th>count</th>\n",
       "    </tr>\n",
       "  </thead>\n",
       "  <tbody>\n",
       "    <tr>\n",
       "      <th>0</th>\n",
       "      <td>part</td>\n",
       "      <td>no</td>\n",
       "      <td>21</td>\n",
       "    </tr>\n",
       "  </tbody>\n",
       "</table style=\"display:inline\"><table style=\"display:inline\" border=\"1\" class=\"dataframe\">\n",
       "  <thead>\n",
       "    <tr style=\"text-align: right;\">\n",
       "      <th></th>\n",
       "      <th>tags</th>\n",
       "      <th>tokens</th>\n",
       "      <th>count</th>\n",
       "    </tr>\n",
       "  </thead>\n",
       "  <tbody>\n",
       "  </tbody>\n",
       "</table style=\"display:inline\"><table style=\"display:inline\" border=\"1\" class=\"dataframe\">\n",
       "  <thead>\n",
       "    <tr style=\"text-align: right;\">\n",
       "      <th></th>\n",
       "      <th>tags</th>\n",
       "      <th>tokens</th>\n",
       "      <th>count</th>\n",
       "    </tr>\n",
       "  </thead>\n",
       "  <tbody>\n",
       "    <tr>\n",
       "      <th>0</th>\n",
       "      <td>intj</td>\n",
       "      <td>hola</td>\n",
       "      <td>1</td>\n",
       "    </tr>\n",
       "    <tr>\n",
       "      <th>1</th>\n",
       "      <td>intj</td>\n",
       "      <td>marbella</td>\n",
       "      <td>1</td>\n",
       "    </tr>\n",
       "    <tr>\n",
       "      <th>2</th>\n",
       "      <td>intj</td>\n",
       "      <td>sóc</td>\n",
       "      <td>1</td>\n",
       "    </tr>\n",
       "  </tbody>\n",
       "</table style=\"display:inline\">"
      ]
     },
     "metadata": {},
     "output_type": "display_data"
    }
   ],
   "source": [
    "test_dfs = [print_top_tokens_given_tag(test_df, tag) for tag in tags]\n",
    "display_side_by_side(*test_dfs)"
   ]
  },
  {
   "cell_type": "markdown",
   "metadata": {},
   "source": [
    "* It can be highlighted that there is no `x` category here, as mentioned before.\n",
    "* \"Que\" appears as the top `pron` and `sconj`. We will need to take a look at how the model deals with this particle.\n",
    "* The proper nouns are almost the same as the training datasets.\n",
    "* `Adv` and `part` share \"no\" as well as happens in the training."
   ]
  },
  {
   "cell_type": "markdown",
   "metadata": {},
   "source": [
    "# Conclusions"
   ]
  },
  {
   "cell_type": "markdown",
   "metadata": {},
   "source": [
    "* The Catalan dataset is formed by ~13k sentences and a 15% more for the testing dataset.\n",
    "* The sentences are long and can reach a total of 250 tokens per sentence. \n",
    "    * Some of those are long lists enumerating different detailed items.\n",
    "    * Some are as short as a simple word with the end of word dot '.'. \n",
    "* Both datasets have a similar distribution in terms of frequency of words and tags.\n",
    "* Several tags can be assigned to a same token. The most varied token can have up until 5 different tags assigned in different contexts due to the different meanings a word can take in catalan and the lack of cases/declinations in the languages (which could help differentiating the type of word it is).\n",
    "* Some of the words in the language are represented in one single particle (e.g. \"de\" + \"el\" becomes \"del\" and it's the union of a preprosition and a determiner). To deal with this, the data is formed in a way that these cases are tagged as `-` the word itself (\"del\") and then adding the two words composing this particle next to it (\"de\" + \"el\"). This makes the tokens inside a sentence to be more than the words itself."
   ]
  }
 ],
 "metadata": {
  "kernelspec": {
   "display_name": "eda",
   "language": "python",
   "name": "python3"
  },
  "language_info": {
   "codemirror_mode": {
    "name": "ipython",
    "version": 3
   },
   "file_extension": ".py",
   "mimetype": "text/x-python",
   "name": "python",
   "nbconvert_exporter": "python",
   "pygments_lexer": "ipython3",
   "version": "3.11.6"
  }
 },
 "nbformat": 4,
 "nbformat_minor": 2
}
