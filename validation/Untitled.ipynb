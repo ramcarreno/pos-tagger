{
 "cells": [
  {
   "cell_type": "code",
   "execution_count": 39,
   "id": "a55e0a05",
   "metadata": {},
   "outputs": [],
   "source": [
    "import sys\n",
    "import numpy as np\n",
    "from validation import prob_of_error_propagation\n",
    "\n",
    "sys.path.insert(1, \"..\")\n",
    "from src.scrapper import parse_conllu_file\n",
    "from src.tagger import HiddenMarkovModelTrainer, HiddenMarkovModelTagger\n",
    "from src.visualization import plot_viterbi_path_binary, plot_viterbi_matrix\n",
    "sys.path.insert(1, \".\")"
   ]
  },
  {
   "cell_type": "code",
   "execution_count": 40,
   "id": "8c7c20e9",
   "metadata": {},
   "outputs": [],
   "source": [
    "train = parse_conllu_file(filepath=\"../datasets/en_partut-ud-train.conllu\")\n",
    "test = parse_conllu_file(filepath=\"../datasets/en_partut-ud-test.conllu\")\n",
    "tagger = HiddenMarkovModelTrainer(corpus=c).train()"
   ]
  },
  {
   "cell_type": "code",
   "execution_count": 41,
   "id": "b54daa4c",
   "metadata": {},
   "outputs": [
    {
     "name": "stdout",
     "output_type": "stream",
     "text": [
      "0.2673684210526316\n"
     ]
    }
   ],
   "source": [
    "from functools import reduce\n",
    "\n",
    "corpus = test\n",
    "corpus_p = []\n",
    "for sentence in test:\n",
    "    s = reduce(lambda x, y: x + ' ' + y, map(lambda x: x[0], sentence))\n",
    "    _, s_p, _ = tagger.viterbi_best_path(s)\n",
    "    corpus_p.append(s_p)\n",
    "\n",
    "print(prob_of_error_propagation(corpus, corpus_p))"
   ]
  },
  {
   "cell_type": "code",
   "execution_count": 59,
   "id": "e5eeef08",
   "metadata": {},
   "outputs": [],
   "source": [
    "def predict_all(corpus, tagger):\n",
    "    corpus_p = []\n",
    "    for sentence in test:\n",
    "        s = reduce(lambda x, y: x + ' ' + y, map(lambda x: x[0], sentence))\n",
    "        _, s_p, _ = tagger.viterbi_best_path(s)\n",
    "        corpus_p.append(s_p)\n",
    "\n",
    "    return corpus_p"
   ]
  },
  {
   "cell_type": "code",
   "execution_count": 51,
   "id": "8cf441b9",
   "metadata": {},
   "outputs": [],
   "source": [
    "def get_confussion_matrix(corpus, corpus_p, tagset):\n",
    "    N = len(tagset)\n",
    "    cm = np.zeros((N, N))\n",
    "    for i in range(len(corpus)):\n",
    "        expected, prediction = corpus[i], corpus_p[i]\n",
    "        for token, token_p in zip(map(lambda x: x[1], expected), map(lambda x: x[1], prediction)):\n",
    "            cm[tagset.index(token), tagset.index(token_p)] += 1\n",
    "    \n",
    "    return cm"
   ]
  },
  {
   "cell_type": "code",
   "execution_count": 58,
   "id": "882460b9",
   "metadata": {},
   "outputs": [
    {
     "data": {
      "text/plain": [
       "array([[216.,   0.,   0.,   0.,   0.,   1.,   0.,   0.,   0.,   0.,   0.,\n",
       "          0.,  17.,   0.,   0.,   0.,   0.,   0.],\n",
       "       [  1., 434.,   4.,   0.,   0.,   0.,   0.,   0.,   0.,   0.,   0.,\n",
       "          0.,   0.,   0.,   0.,   0.,   0.,   0.],\n",
       "       [  1.,  16.,  86.,   0.,   0.,   1.,   0.,   0.,   0.,   0.,   0.,\n",
       "          1.,   0.,   2.,   0.,   2.,   0.,   0.],\n",
       "       [  0.,   0.,   0.,   0.,   0.,   0.,   0.,   0.,   0.,   0.,   0.,\n",
       "          0.,   0.,   0.,   0.,   0.,   0.,   0.],\n",
       "       [  0.,   0.,   0.,   0.,   0.,   1.,   0.,   0.,   0.,   0.,   0.,\n",
       "          0.,   1.,   0.,   0.,   0.,   0.,   0.],\n",
       "       [  2.,   0.,   0.,   0.,   0., 732.,   0.,   0.,   0.,   0.,   0.,\n",
       "          0.,   9.,   0.,   0.,   9.,   2.,   0.],\n",
       "       [  1.,   0.,   0.,   0.,   0.,   2., 485.,   0.,   0.,   0.,   0.,\n",
       "          0.,   0.,   0.,   0.,   0.,   0.,   0.],\n",
       "       [  1.,   0.,   0.,   0.,   0.,   0.,  33.,  31.,   0.,   0.,   1.,\n",
       "          0.,   0.,   0.,   0.,   0.,   0.,   0.],\n",
       "       [  1.,   0.,   0.,   0.,   0.,   0.,   0.,   0.,   0.,   0.,   0.,\n",
       "          0.,   0.,   0.,   0.,   0.,   1.,   0.],\n",
       "       [  1.,   2.,   0.,   0.,   0.,  27.,  11.,   0.,   0.,  70.,   0.,\n",
       "          1.,   8.,   0.,   0.,   8.,   0.,   0.],\n",
       "       [  6.,   0.,   0.,   0.,   0.,   0.,   0.,   0.,   0.,   0., 333.,\n",
       "          0.,   0.,   0.,   0.,   0.,   0.,   0.],\n",
       "       [  0.,   0.,   7.,   0.,   0.,   0.,  13.,   0.,   0.,   2.,   0.,\n",
       "         29.,   0.,   0.,   0.,   0.,   0.,   0.],\n",
       "       [ 15.,   0.,   0.,   0.,   0.,  95.,   1.,   0.,   0.,   0.,   0.,\n",
       "          0., 212.,   0.,   0.,   3.,   0.,   0.],\n",
       "       [  0.,   0.,   1.,   0.,   0.,  17.,   0.,   0.,   0.,   0.,   0.,\n",
       "          0.,   1.,  42.,   0.,   0.,   0.,   0.],\n",
       "       [  0.,   0.,   0.,   0.,   0.,   2.,   0.,   0.,   0.,   0.,   0.,\n",
       "          0.,   1.,   0.,   1.,   0.,   0.,   0.],\n",
       "       [  1.,   0.,   1.,   0.,   0.,  74.,   1.,   0.,   0.,   1.,   0.,\n",
       "          0.,  13.,   0.,   0., 131.,   1.,   0.],\n",
       "       [  0.,   0.,   0.,   0.,   0.,  45.,   0.,   0.,   0.,   0.,   0.,\n",
       "          0.,   0.,   0.,   0.,   6.,  39.,   0.],\n",
       "       [  0.,   0.,   0.,   0.,   0.,   0.,   1.,   0.,   1.,   0.,   0.,\n",
       "          0.,   0.,   0.,   0.,   0.,   0.,  94.]])"
      ]
     },
     "execution_count": 58,
     "metadata": {},
     "output_type": "execute_result"
    }
   ],
   "source": [
    "cm = get_confussion_matrix(corpus, corpus_p, tagger.tagset)\n",
    "cm"
   ]
  },
  {
   "cell_type": "code",
   "execution_count": null,
   "id": "13237286",
   "metadata": {},
   "outputs": [],
   "source": []
  },
  {
   "cell_type": "code",
   "execution_count": 50,
   "id": "582dcbe6",
   "metadata": {},
   "outputs": [
    {
     "data": {
      "text/plain": [
       "[('only', 'adv'),\n",
       " ('a', 'det'),\n",
       " ('small', 'adj'),\n",
       " ('minority', 'noun'),\n",
       " ('of', 'adp'),\n",
       " ('academics', 'noun'),\n",
       " ('believe', 'verb'),\n",
       " ('there', 'pron'),\n",
       " ('is', 'verb'),\n",
       " ('reason', 'noun'),\n",
       " ('to', 'part'),\n",
       " ('question', 'verb'),\n",
       " ('the', 'det'),\n",
       " ('traditional', 'adj'),\n",
       " ('attribution', 'noun'),\n",
       " (',', 'punct'),\n",
       " ('but', 'cconj'),\n",
       " ('interest', 'noun'),\n",
       " ('in', 'adp'),\n",
       " ('the', 'det'),\n",
       " ('subject', 'noun'),\n",
       " (',', 'punct'),\n",
       " ('particularly', 'adv'),\n",
       " ('the', 'det'),\n",
       " ('oxfordian', 'adj'),\n",
       " ('theory', 'noun'),\n",
       " ('of', 'adp'),\n",
       " ('shakespeare', 'propn'),\n",
       " ('authorship', 'noun'),\n",
       " (',', 'punct'),\n",
       " ('continues', 'verb'),\n",
       " ('into', 'adp'),\n",
       " ('the', 'det'),\n",
       " ('21', 'num'),\n",
       " ('st', 'adj'),\n",
       " ('century', 'noun'),\n",
       " ('.', 'punct')]"
      ]
     },
     "execution_count": 50,
     "metadata": {},
     "output_type": "execute_result"
    }
   ],
   "source": [
    "sentence"
   ]
  }
 ],
 "metadata": {
  "kernelspec": {
   "display_name": "Python 3 (ipykernel)",
   "language": "python",
   "name": "python3"
  },
  "language_info": {
   "codemirror_mode": {
    "name": "ipython",
    "version": 3
   },
   "file_extension": ".py",
   "mimetype": "text/x-python",
   "name": "python",
   "nbconvert_exporter": "python",
   "pygments_lexer": "ipython3",
   "version": "3.9.13"
  }
 },
 "nbformat": 4,
 "nbformat_minor": 5
}
