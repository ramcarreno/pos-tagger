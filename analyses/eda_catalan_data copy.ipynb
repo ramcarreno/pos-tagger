{
 "cells": [
  {
   "cell_type": "code",
   "execution_count": null,
   "metadata": {},
   "outputs": [],
   "source": [
    "import sys\n",
    "\n",
    "sys.path.insert(0, \"..\")"
   ]
  },
  {
   "cell_type": "code",
   "execution_count": null,
   "metadata": {},
   "outputs": [],
   "source": [
    "from src.scrapper import parse_conllu_file\n",
    "from src.visualization import plot_frequency_of_\n",
    "from analyses.utils import (\n",
    "    get_stats,\n",
    "    build_counts,\n",
    "    build_dataframes,\n",
    "    print_top_words_given_tag,\n",
    "    display_side_by_side,\n",
    ")"
   ]
  },
  {
   "cell_type": "markdown",
   "metadata": {},
   "source": [
    "# English dataset"
   ]
  },
  {
   "cell_type": "markdown",
   "metadata": {},
   "source": [
    "* Name: ESLSpok\n",
    "* Link to repository [here](https://github.com/UniversalDependencies/UD_English-ESLSpok/tree/master)\n",
    "* Training data [here](https://github.com/UniversalDependencies/UD_English-ESLSpok/blob/master/en_eslspok-ud-train.conllu)\n",
    "* Test data [here](https://github.com/UniversalDependencies/UD_English-ESLSpok/blob/master/en_eslspok-ud-test.conllu)"
   ]
  },
  {
   "cell_type": "code",
   "execution_count": null,
   "metadata": {},
   "outputs": [],
   "source": [
    "train_info = parse_conllu_file(\"../datasets/en_eslspok-ud-train.conllu\")\n",
    "test_info = parse_conllu_file(\"../datasets/en_eslspok-ud-test.conllu\")"
   ]
  },
  {
   "cell_type": "code",
   "execution_count": null,
   "metadata": {},
   "outputs": [],
   "source": [
    "get_stats(train_info)"
   ]
  },
  {
   "cell_type": "code",
   "execution_count": null,
   "metadata": {},
   "outputs": [],
   "source": [
    "get_stats(test_info)"
   ]
  },
  {
   "cell_type": "code",
   "execution_count": null,
   "metadata": {},
   "outputs": [],
   "source": [
    "train_word_counts, train_tag_counts, train_pair_counts = build_counts(train_info)\n",
    "test_word_counts, test_tag_counts, test_pair_counts = build_counts(test_info)"
   ]
  },
  {
   "cell_type": "code",
   "execution_count": null,
   "metadata": {},
   "outputs": [],
   "source": [
    "plot_frequency_of_(\"words\", train_word_counts, test_word_counts)"
   ]
  },
  {
   "cell_type": "code",
   "execution_count": null,
   "metadata": {},
   "outputs": [],
   "source": [
    "plot_frequency_of_(\"tags\", train_tag_counts, test_tag_counts)"
   ]
  },
  {
   "cell_type": "code",
   "execution_count": null,
   "metadata": {},
   "outputs": [],
   "source": [
    "plot_frequency_of_(\"word-pair tag\", train_pair_counts, test_pair_counts)"
   ]
  },
  {
   "cell_type": "code",
   "execution_count": null,
   "metadata": {},
   "outputs": [],
   "source": [
    "train_df = build_dataframes(train_info)\n",
    "test_df = build_dataframes(test_info)\n",
    "\n",
    "tags = train_df.tags.unique()"
   ]
  },
  {
   "cell_type": "code",
   "execution_count": null,
   "metadata": {},
   "outputs": [],
   "source": [
    "train_dfs = [print_top_words_given_tag(train_df, tag) for tag in tags]\n",
    "display_side_by_side(*train_dfs)"
   ]
  },
  {
   "cell_type": "code",
   "execution_count": null,
   "metadata": {},
   "outputs": [],
   "source": [
    "test_dfs = [print_top_words_given_tag(test_df, tag) for tag in tags]\n",
    "display_side_by_side(*test_dfs)"
   ]
  },
  {
   "cell_type": "markdown",
   "metadata": {},
   "source": [
    "# Catalan dataset\n",
    "\n",
    "* Name: \n",
    "* Link to repository [here]()\n",
    "* Training data [here]()\n",
    "* Test data [here]()"
   ]
  }
 ],
 "metadata": {
  "kernelspec": {
   "display_name": "eda",
   "language": "python",
   "name": "python3"
  },
  "language_info": {
   "codemirror_mode": {
    "name": "ipython",
    "version": 3
   },
   "file_extension": ".py",
   "mimetype": "text/x-python",
   "name": "python",
   "nbconvert_exporter": "python",
   "pygments_lexer": "ipython3",
   "version": "3.11.6"
  }
 },
 "nbformat": 4,
 "nbformat_minor": 2
}
