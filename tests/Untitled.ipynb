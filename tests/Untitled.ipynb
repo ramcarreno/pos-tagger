{
 "cells": [
  {
   "cell_type": "code",
   "execution_count": 22,
   "id": "2c9d0a40",
   "metadata": {},
   "outputs": [],
   "source": [
    "import sys\n",
    "import numpy as np\n",
    "from validate_utils import validate_transition_matrix, validate_emission_matrix, validate_initial_state\n",
    "\n",
    "sys.path.insert(1, \"..\")\n",
    "from src.scrapper import parse_conllu_file\n",
    "from src.tagger import HiddenMarkovModelTrainer, HiddenMarkovModelTagger\n",
    "sys.path.insert(1, \".\")"
   ]
  },
  {
   "cell_type": "code",
   "execution_count": 23,
   "id": "ec41b20b",
   "metadata": {},
   "outputs": [],
   "source": [
    "c = parse_conllu_file(filepath=\"../datasets/en_partut-ud-train.conllu\")\n",
    "tagger = HiddenMarkovModelTrainer(corpus=c).train()"
   ]
  },
  {
   "cell_type": "markdown",
   "id": "a67cbfc7",
   "metadata": {},
   "source": [
    "## TESTING OF MATRICES\n",
    "\n",
    "Now we are going to check if all the probabilities sum 1."
   ]
  },
  {
   "cell_type": "code",
   "execution_count": null,
   "id": "18fd3f29",
   "metadata": {},
   "outputs": [],
   "source": [
    "try:\n",
    "    validate_transition_matrix(tagger.transition_matrix)\n",
    "    validate_emission_matrix(tagger.emission_matrix)\n",
    "    validate_initial_state(tagger.initial_state)\n",
    "    \n",
    "    print(\"ALL PROBABILITIES SUM 1 :)\")\n",
    "except:\n",
    "    pass"
   ]
  },
  {
   "cell_type": "markdown",
   "id": "efdb0971",
   "metadata": {},
   "source": [
    "## TESTING WITH EXAMPLES\n"
   ]
  },
  {
   "cell_type": "code",
   "execution_count": 26,
   "id": "1ce53b01",
   "metadata": {},
   "outputs": [],
   "source": [
    "A = {\n",
    "    \"N\":{\n",
    "        \"N\": -3,\n",
    "        \"V\": -1},\n",
    "    \"V\":{\n",
    "        \"N\": -1,\n",
    "        \"V\": -3}\n",
    "}\n",
    "\n",
    "B = {\n",
    "    \"they\": {\n",
    "        \"N\": -2,\n",
    "        \"V\": -10},\n",
    "    \"can\": {\n",
    "        \"N\": -3,\n",
    "        \"V\": -1},\n",
    "    \"fish\": {\n",
    "        \"N\": -3,\n",
    "        \"V\": -3}\n",
    "}\n",
    "\n",
    "PI = {\n",
    "    \"N\": -1,\n",
    "    \"V\": -3\n",
    "}\n",
    "\n",
    "vocabulary = [\"they\", \"can\", \"fish\"]\n",
    "tagset = [\"N\", \"V\"]\n",
    "\n",
    "tagger_1 = HiddenMarkovModelTagger(\n",
    "    transition_matrix=A, emission_matrix=B, initial_state=PI, tagset=tagset, vocabulary=vocabulary\n",
    ")"
   ]
  },
  {
   "cell_type": "code",
   "execution_count": 32,
   "id": "09d1a0ba",
   "metadata": {},
   "outputs": [
    {
     "name": "stdout",
     "output_type": "stream",
     "text": [
      "[[ -3.  -9.  -9.]\n",
      " [-13.  -5. -11.]] \n",
      "\n",
      "[('they', 'N'), ('can', 'V'), ('fish', 'N')] \n",
      "\n",
      "-9.0 \n",
      "\n"
     ]
    }
   ],
   "source": [
    "viterbi, best_path, best_prob = tagger_1.viterbi_best_path(\"they can fish\")\n",
    "\n",
    "print(viterbi, \"\\n\")\n",
    "print(best_path, \"\\n\")\n",
    "print(best_prob, \"\\n\")"
   ]
  },
  {
   "cell_type": "code",
   "execution_count": 18,
   "id": "01fe0d0e",
   "metadata": {},
   "outputs": [
    {
     "name": "stdout",
     "output_type": "stream",
     "text": [
      "[('The', 'noun'), ('labor-participation', 'noun'), ('rate', 'noun'), ('for', 'adp'), ('women', 'noun'), ('with', 'adp'), ('post-secondary', 'noun'), ('education', 'noun'), ('is', 'aux'), ('64%,', 'verb'), ('far', 'adv'), ('exceeding', 'verb'), ('the', 'det'), ('35%', 'noun'), ('rate', 'noun'), ('for', 'adp'), ('those', 'det'), ('with', 'adp'), ('only', 'adv'), ('a', 'det'), ('primary', 'noun'), ('or', 'cconj'), ('middle-school', 'noun'), ('education.', 'noun')]\n"
     ]
    }
   ],
   "source": [
    "c = parse_conllu_file(filepath=\"../datasets/en_partut-ud-train.conllu\")\n",
    "tagger = HiddenMarkovModelTrainer(corpus=c).train()\n",
    "sent = \"\"\"The labor-participation rate for women with post-secondary education is 64%, far exceeding the 35% rate for those with only a primary or middle-school education.\"\"\"\n",
    "matrix, path, prob = tagger.viterbi_best_path(sentence=sent)\n",
    "print(path)"
   ]
  },
  {
   "cell_type": "code",
   "execution_count": 17,
   "id": "71d97232",
   "metadata": {},
   "outputs": [],
   "source": [
    "corpus = parse_conllu_file(\"../datasets/en_eslspok-ud-dev.conllu\")"
   ]
  },
  {
   "cell_type": "code",
   "execution_count": 13,
   "id": "26051855",
   "metadata": {},
   "outputs": [],
   "source": []
  }
 ],
 "metadata": {
  "kernelspec": {
   "display_name": "Python 3 (ipykernel)",
   "language": "python",
   "name": "python3"
  },
  "language_info": {
   "codemirror_mode": {
    "name": "ipython",
    "version": 3
   },
   "file_extension": ".py",
   "mimetype": "text/x-python",
   "name": "python",
   "nbconvert_exporter": "python",
   "pygments_lexer": "ipython3",
   "version": "3.9.13"
  }
 },
 "nbformat": 4,
 "nbformat_minor": 5
}
