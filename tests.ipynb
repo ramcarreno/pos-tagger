{
 "cells": [
  {
   "cell_type": "code",
   "execution_count": 1,
   "id": "170410c2-258f-47ee-8edb-1e3d847c1583",
   "metadata": {},
   "outputs": [],
   "source": [
    "import numpy as np\n",
    "from typing import Tuple\n",
    "from pos_tagger import viterbi_logprobs"
   ]
  },
  {
   "cell_type": "code",
   "execution_count": 2,
   "id": "64648e42-f051-4fda-9e7b-300034990e20",
   "metadata": {},
   "outputs": [],
   "source": [
    "# haven't tried this since the probabilities in this problem already come \"log-ized\"\n",
    "def turn_to_log_prob(an_array: np.array) -> np.array:\n",
    "    return np.log2(an_array)"
   ]
  },
  {
   "cell_type": "code",
   "execution_count": 3,
   "id": "ff12baf8-3f2d-4387-943c-b70f4c987e8e",
   "metadata": {},
   "outputs": [],
   "source": [
    "def viterbi_logprobs(A: np.array, B: np.array, PI: np.array) -> Tuple[np.array, list, float]:\n",
    "    \"\"\"\n",
    "    A: transition matrix -> NxN where N is the number of states that can occur (e.g. Noun, Verbs, Adjectives, etc)\n",
    "    B: observation matrix (probability that a word belongs to state) -> NxT where T is the length of the sentence.\n",
    "    PI: initial probabilities matrix (probability of a word of being in the beginning of the sentence 1xN.\n",
    "    \"\"\"\n",
    "    # variable initialization\n",
    "    N = A.shape[0]\n",
    "    T = B.shape[1]\n",
    "    viterbi = np.full((N, T), -np.inf)\n",
    "    backpointer = []\n",
    "    \n",
    "    # initialization step\n",
    "    viterbi[:,0] = PI[0] + B[:,0]\n",
    "    best_arg = np.argmax(viterbi[:,0])\n",
    "    backpointer.append(best_arg)\n",
    "    \n",
    "    for i in range(1, T):\n",
    "        viterbi[:,i] = viterbi[backpointer[-1], i-1] + A[backpointer[-1]] + B[:,i]\n",
    "        best_arg = np.argmax(viterbi[:,i])\n",
    "        backpointer.append(best_arg)\n",
    "\n",
    "    best_logprobability = np.max(viterbi[:, -1])\n",
    "    \n",
    "    return viterbi, backpointer, best_logprobability"
   ]
  },
  {
   "cell_type": "code",
   "execution_count": 4,
   "id": "5ab71a22-c2c7-44f3-93a4-847f6fc9abb8",
   "metadata": {},
   "outputs": [],
   "source": [
    "# Toy example from the slides, take into account they are considered to be log probabilities\n",
    "PI = np.array([\n",
    "    # N, V\n",
    "    [-1, -2]\n",
    "])\n",
    "A = np.array([\n",
    "    # N,  V, \n",
    "    [-3, -1], # N\n",
    "    [-1, -3] # V\n",
    "])\n",
    "B = np.array([\n",
    "    # they can fish\n",
    "    [-2,-3,-3], # N\n",
    "    [-10,-1,-3] # V\n",
    "])\n",
    "sentence = \"they can fish\""
   ]
  },
  {
   "cell_type": "code",
   "execution_count": 5,
   "id": "3658bd18-f564-4173-b5f6-bbebe44f2d7e",
   "metadata": {},
   "outputs": [
    {
     "data": {
      "text/plain": [
       "(array([[ -3.,  -9.,  -9.],\n",
       "        [-12.,  -5., -11.]]),\n",
       " [0, 1, 0],\n",
       " -9.0)"
      ]
     },
     "execution_count": 5,
     "metadata": {},
     "output_type": "execute_result"
    }
   ],
   "source": [
    "viterbi_logprobs(A,B, PI)"
   ]
  },
  {
   "cell_type": "code",
   "execution_count": 6,
   "id": "2d4b71c9-a4e2-4dab-b80c-b4429f95f00c",
   "metadata": {},
   "outputs": [],
   "source": [
    "# Toy example from the slides, take into account they are considered to be log probabilities\n",
    "PI = np.array([-1, -3, -3, -4 ,-4])\n",
    "A = np.array([\n",
    "    # ADJ, ADV, DET, NOUN, VERB\n",
    "    [-3, -4,-np.inf, -2, -3],       # ADJ\n",
    "    [-3, -3, -4,      -4, -3],      # ADV\n",
    "    [-2,-4,-np.inf, -0.5, -4],      # DET\n",
    "    [-4,-4, -4,       -3, -2],       # NOUN\n",
    "    [-3, -2, -4,      -3, -np.inf]  # VERB\n",
    "])\n",
    "B = np.array([\n",
    "    # the aged bottle flies fast\n",
    "    [-np.inf, -2, -np.inf, -np.inf, -2],      # ADJ\n",
    "    [-np.inf,-np.inf,-np.inf,-np.inf, -1],    # ADV\n",
    "    [-1, -np.inf,-np.inf,-np.inf,-np.inf],    # DET\n",
    "    [-np.inf, -np.inf,-2, -3, -5],            # NOUN\n",
    "    [-np.inf, -5, -2, -3, -2]                 # VERB\n",
    "])\n",
    "sentence = \"the aged bottle flies fast\""
   ]
  },
  {
   "cell_type": "code",
   "execution_count": 7,
   "id": "be20e69d-d16c-41f8-b1f4-1230fbf17534",
   "metadata": {},
   "outputs": [
    {
     "data": {
      "text/plain": [
       "(array([[-inf,  -6., -inf, -inf, -20.],\n",
       "        [-inf, -inf, -inf, -inf, -18.],\n",
       "        [ -2., -inf, -inf, -inf, -inf],\n",
       "        [-inf, -inf, -10., -16., -23.],\n",
       "        [-inf, -11., -11., -15., -inf]]),\n",
       " [2, 0, 3, 4, 1],\n",
       " -18.0)"
      ]
     },
     "execution_count": 7,
     "metadata": {},
     "output_type": "execute_result"
    }
   ],
   "source": [
    "viterbi_logprobs(A,B, PI)"
   ]
  },
  {
   "cell_type": "code",
   "execution_count": 8,
   "id": "bd4d0c3d-8b79-4f6d-99b0-e6f6b78e4757",
   "metadata": {},
   "outputs": [],
   "source": [
    "num_to_tag = {0:'ADJ', 1:'ADV', 2:'DET', 3: 'NOUN', 4: 'VERB'}"
   ]
  },
  {
   "cell_type": "code",
   "execution_count": 9,
   "id": "f566e9a1-25b1-4fbb-a982-17736213fd84",
   "metadata": {},
   "outputs": [
    {
     "name": "stdout",
     "output_type": "stream",
     "text": [
      "DET\n",
      "ADJ\n",
      "NOUN\n",
      "VERB\n",
      "ADV\n"
     ]
    }
   ],
   "source": [
    "for i in [2, 0, 3, 4, 1]:\n",
    "    print(num_to_tag[i])"
   ]
  }
 ],
 "metadata": {
  "kernelspec": {
   "display_name": "Python 3 (ipykernel)",
   "language": "python",
   "name": "python3"
  },
  "language_info": {
   "codemirror_mode": {
    "name": "ipython",
    "version": 3
   },
   "file_extension": ".py",
   "mimetype": "text/x-python",
   "name": "python",
   "nbconvert_exporter": "python",
   "pygments_lexer": "ipython3",
   "version": "3.11.6"
  }
 },
 "nbformat": 4,
 "nbformat_minor": 5
}
